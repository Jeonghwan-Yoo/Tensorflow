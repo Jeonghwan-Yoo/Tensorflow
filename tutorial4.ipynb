{
 "cells": [
  {
   "cell_type": "code",
   "execution_count": 1,
   "metadata": {},
   "outputs": [
    {
     "data": {
      "text/plain": [
       "{'height': 180}"
      ]
     },
     "execution_count": 1,
     "metadata": {},
     "output_type": "execute_result"
    }
   ],
   "source": [
    "{'height':180}"
   ]
  },
  {
   "cell_type": "code",
   "execution_count": 2,
   "metadata": {},
   "outputs": [
    {
     "ename": "NameError",
     "evalue": "name 'hungry' is not defined",
     "output_type": "error",
     "traceback": [
      "\u001b[1;31m---------------------------------------------------------------------------\u001b[0m",
      "\u001b[1;31mNameError\u001b[0m                                 Traceback (most recent call last)",
      "\u001b[1;32m<ipython-input-2-b3d6bc0b580e>\u001b[0m in \u001b[0;36m<module>\u001b[1;34m()\u001b[0m\n\u001b[1;32m----> 1\u001b[1;33m \u001b[1;32mif\u001b[0m \u001b[0mhungry\u001b[0m\u001b[1;33m:\u001b[0m\u001b[1;33m\u001b[0m\u001b[0m\n\u001b[0m\u001b[0;32m      2\u001b[0m     \u001b[0mprint\u001b[0m\u001b[1;33m(\u001b[0m\u001b[1;34m\"I'm hungry\"\u001b[0m\u001b[1;33m)\u001b[0m\u001b[1;33m\u001b[0m\u001b[0m\n",
      "\u001b[1;31mNameError\u001b[0m: name 'hungry' is not defined"
     ]
    }
   ],
   "source": [
    "if hungry:\n",
    "    print(\"I'm hungry\")"
   ]
  },
  {
   "cell_type": "code",
   "execution_count": 3,
   "metadata": {},
   "outputs": [
    {
     "name": "stdout",
     "output_type": "stream",
     "text": [
      "1\n",
      "2\n",
      "3\n"
     ]
    }
   ],
   "source": [
    "for i in [1,2,3]:\n",
    "    print(i)"
   ]
  },
  {
   "cell_type": "code",
   "execution_count": 4,
   "metadata": {},
   "outputs": [
    {
     "ename": "SyntaxError",
     "evalue": "invalid syntax (<ipython-input-4-0a86e7e75d72>, line 2)",
     "output_type": "error",
     "traceback": [
      "\u001b[1;36m  File \u001b[1;32m\"<ipython-input-4-0a86e7e75d72>\"\u001b[1;36m, line \u001b[1;32m2\u001b[0m\n\u001b[1;33m    def __init__(self,param1,param2,...) #생성자\u001b[0m\n\u001b[1;37m                                      ^\u001b[0m\n\u001b[1;31mSyntaxError\u001b[0m\u001b[1;31m:\u001b[0m invalid syntax\n"
     ]
    }
   ],
   "source": [
    "class className:\n",
    "    def __init__(self,param1,param2,...) #생성자\n",
    "    def mothod1(self,param1,...)"
   ]
  },
  {
   "cell_type": "code",
   "execution_count": 5,
   "metadata": {},
   "outputs": [
    {
     "data": {
      "text/plain": [
       "numpy.ndarray"
      ]
     },
     "execution_count": 5,
     "metadata": {},
     "output_type": "execute_result"
    }
   ],
   "source": [
    "import numpy as np\n",
    "x=np.array([1.0,2.0,3.0])\n",
    "type(x) #output:<class 'numpy.ndarray'>"
   ]
  },
  {
   "cell_type": "code",
   "execution_count": 6,
   "metadata": {},
   "outputs": [
    {
     "name": "stdout",
     "output_type": "stream",
     "text": [
      "[3. 6. 9.]\n"
     ]
    },
    {
     "data": {
      "text/plain": [
       "array([ 2.,  8., 18.])"
      ]
     },
     "execution_count": 6,
     "metadata": {},
     "output_type": "execute_result"
    }
   ],
   "source": [
    "x=np.array([1.0,2.0,3.0])\n",
    "y=np.array([2.0,4.0,6.0])\n",
    "print(x+y) #원소별 덧셈 element-wise\n",
    "x*y #원소별 곱셈"
   ]
  },
  {
   "cell_type": "code",
   "execution_count": 7,
   "metadata": {},
   "outputs": [
    {
     "data": {
      "text/plain": [
       "array([0.5, 1. , 1.5])"
      ]
     },
     "execution_count": 7,
     "metadata": {},
     "output_type": "execute_result"
    }
   ],
   "source": [
    "x=np.array([1.0,2.0,3.0])\n",
    "x/2.0"
   ]
  },
  {
   "cell_type": "code",
   "execution_count": 8,
   "metadata": {},
   "outputs": [
    {
     "name": "stdout",
     "output_type": "stream",
     "text": [
      "(2, 2)\n"
     ]
    },
    {
     "data": {
      "text/plain": [
       "dtype('int32')"
      ]
     },
     "execution_count": 8,
     "metadata": {},
     "output_type": "execute_result"
    }
   ],
   "source": [
    "A=np.array([[1,2],[3,4]])\n",
    "print(A.shape) #(2,2) 형상이 같은 행렬끼리면 행렬의 산술 연산도 대응하는 원소별로 계산된다.\n",
    "A.dtype #원소의 자료형, dtype('int64')"
   ]
  },
  {
   "cell_type": "code",
   "execution_count": 9,
   "metadata": {},
   "outputs": [
    {
     "data": {
      "text/plain": [
       "array([[10, 40],\n",
       "       [30, 80]])"
      ]
     },
     "execution_count": 9,
     "metadata": {},
     "output_type": "execute_result"
    }
   ],
   "source": [
    "A=np.array([[1,2,],[3,4,]])\n",
    "B=np.array([10,20]) #[10,20],[10,20]\n",
    "A*B"
   ]
  },
  {
   "cell_type": "code",
   "execution_count": 10,
   "metadata": {},
   "outputs": [
    {
     "name": "stdout",
     "output_type": "stream",
     "text": [
      "[51 55]\n"
     ]
    },
    {
     "data": {
      "text/plain": [
       "55"
      ]
     },
     "execution_count": 10,
     "metadata": {},
     "output_type": "execute_result"
    }
   ],
   "source": [
    "X=np.array([[51,55],[14,19],[0,4]])\n",
    "print(X[0]) #0행, array([51,55])\n",
    "X[0][1] #0행의 1번원소, 55"
   ]
  },
  {
   "cell_type": "code",
   "execution_count": 11,
   "metadata": {},
   "outputs": [
    {
     "name": "stdout",
     "output_type": "stream",
     "text": [
      "[51 55]\n",
      "[14 19]\n",
      "[0 4]\n"
     ]
    }
   ],
   "source": [
    "for row in X:\n",
    "    print(row) #0행, 1행, 2행이 출력"
   ]
  },
  {
   "cell_type": "code",
   "execution_count": 12,
   "metadata": {},
   "outputs": [
    {
     "name": "stdout",
     "output_type": "stream",
     "text": [
      "[51 55 14 19  0  4]\n"
     ]
    }
   ],
   "source": [
    "X=X.flatten() #X를 1차원 배열로 변환\n",
    "print(X)"
   ]
  },
  {
   "cell_type": "code",
   "execution_count": 13,
   "metadata": {},
   "outputs": [
    {
     "data": {
      "text/plain": [
       "array([51, 14,  0])"
      ]
     },
     "execution_count": 13,
     "metadata": {},
     "output_type": "execute_result"
    }
   ],
   "source": [
    "X[np.array([0,2,4])] #인덱스가 0,2,4인 원소 얻기->array안에 ndarray를 주면 그 index들의 value가 array형태로 나옴"
   ]
  },
  {
   "cell_type": "code",
   "execution_count": 14,
   "metadata": {},
   "outputs": [
    {
     "data": {
      "text/plain": [
       "array([ True,  True, False,  True, False, False])"
      ]
     },
     "execution_count": 14,
     "metadata": {},
     "output_type": "execute_result"
    }
   ],
   "source": [
    "X>15 #bool 형태의 배열로 나옴"
   ]
  },
  {
   "cell_type": "code",
   "execution_count": 15,
   "metadata": {},
   "outputs": [
    {
     "data": {
      "text/plain": [
       "array([51, 55, 19])"
      ]
     },
     "execution_count": 15,
     "metadata": {},
     "output_type": "execute_result"
    }
   ],
   "source": [
    "X[X>15] #조건을 만족하는 조건의 값들이 나옴. array([51,55,19])->array안에 true, false array를 주면 조건에 맞는 value가 array형태로 나옴"
   ]
  },
  {
   "cell_type": "code",
   "execution_count": 16,
   "metadata": {},
   "outputs": [],
   "source": [
    "#파이썬 같은 동적언어는 c나 c++ 같은 정적언어(컴파일언어)보다 처리속도가 느리다\n",
    "#실제로 무거운 작업을 할 때는 C, C++로 작성한 프로그램을 쓰는 것이 좋다.\n",
    "#그래서 파이썬은 중개자 역할을 한다."
   ]
  },
  {
   "cell_type": "code",
   "execution_count": 17,
   "metadata": {},
   "outputs": [
    {
     "data": {
      "text/plain": [
       "<Figure size 640x480 with 1 Axes>"
      ]
     },
     "metadata": {},
     "output_type": "display_data"
    }
   ],
   "source": [
    "#그래프그리기 pyplot을 이용\n",
    "import matplotlib.pyplot as plt\n",
    "x=np.arange(0,6,0.1) #0부터 6까지 0.1간격으로 생성\n",
    "y=np.sin(x)\n",
    "\n",
    "plt.plot(x,y)\n",
    "plt.show()"
   ]
  },
  {
   "cell_type": "code",
   "execution_count": 18,
   "metadata": {},
   "outputs": [
    {
     "data": {
      "image/png": "[encoded data removed]",
      "text/plain": [
       "<Figure size 432x288 with 1 Axes>"
      ]
     },
     "metadata": {
      "needs_background": "light"
     },
     "output_type": "display_data"
    }
   ],
   "source": [
    "x=np.arange(0,6,0.1)\n",
    "y1=np.sin(x)\n",
    "y2=np.cos(x)\n",
    "plt.plot(x,y1,label=\"sin\")\n",
    "plt.plot(x,y2,linestyle=\"--\",label=\"cos\") #cos는 점선으로 그림\n",
    "plt.xlabel(\"x\") #x축 이름\n",
    "plt.ylabel(\"y\")\n",
    "plt.title('sin&cos') #제목\n",
    "plt.legend() #legend는 범례, 기호 설명표라는 의미, -sin, --cos 박스가 나온다\n",
    "plt.show()"
   ]
  },
  {
   "cell_type": "code",
   "execution_count": 19,
   "metadata": {},
   "outputs": [
    {
     "data": {
      "image/png": "[encoded data removed]",
      "text/plain": [
       "<Figure size 432x288 with 1 Axes>"
      ]
     },
     "metadata": {
      "needs_background": "light"
     },
     "output_type": "display_data"
    }
   ],
   "source": [
    "#이미지 표시하기\n",
    "from matplotlib.image import imread\n",
    "img=imread('lena.png') #이미지 읽어오기\n",
    "plt.imshow(img)\n",
    "plt.show()"
   ]
  },
  {
   "cell_type": "code",
   "execution_count": 20,
   "metadata": {},
   "outputs": [],
   "source": [
    "#퍼셉트론 은 다수의 신호를 입력으로 받아 하나의 신호를 출력한다. 신호는 0,1값만 갖는다.\n",
    "#x1, x2는 입력신호 y는 출력 신호 w1,w2는 가중치를 말한다.\n",
    "#입력 신호가 뉴런에 보내질 때 각각 고유한 가중치가 곱해진다 (w1x1,w2x2)\n",
    "#뉴런에서 보내온 신호의 총합이 정해진 한계, 임계값 세타를 넘어서면 1을 출력하고 그렇지 않으면 0을 출력한다.\n",
    "#y=0 if (w1x1+w2x2<=theta)\n",
    "#  1 if (w1x1+w2x2>theta)\n",
    "#퍼셉트론은 복수의 입력 신호 각각에 고유한 가중치를 부여한다.\n",
    "#가중치는 각 신호가 결과에 주는 영향력을 조절하는 요소로 작동한다.\n",
    "#가중치가 클수록 해당 신호가 그만큼 더 중요함을 뜻한다.\n",
    "#가중치는 전류에서 말하는 저항에 해당한다."
   ]
  },
  {
   "cell_type": "code",
   "execution_count": 21,
   "metadata": {},
   "outputs": [],
   "source": [
    "#AND게이트는 입력이 둘이고 출력은 하나.\n",
    "#NAND 는 Not AND를 의미 AND를 뒤집은 것\n",
    "#퍼셉트론의 매개변수 값을 정하는 것은 컴퓨터가 아니라 인간이다.\n",
    "#인간이 직접 진리표라는 학습 데이터를 보면서 매개변수의 값을 생각한다.\n",
    "#기계학습 문제는 이 매개변수의 값을 정하는 작업을 컴퓨터가 자동으로 하도록 한다.\n",
    "#\"학습\"이란 적절한 매개변수 값을 정하는 작업이며, 사람은 퍼셉트론의 구조(모델)을 고민하고 컴퓨터에 학습할 데이터를 주는 일을 한다.\n",
    "#AND, NAND, OR논리 회로에서 중요한 것은 퍼셉트려ㅗㄴ의 구조는 세개의 게이트에서 모두 같다. 매개변수(가중치와 임계값)만 다르다."
   ]
  },
  {
   "cell_type": "code",
   "execution_count": 22,
   "metadata": {},
   "outputs": [],
   "source": [
    "#AND\n",
    "def AND(x1,x2):\n",
    "    w1,w2,theta=0.5,0.5,0.7\n",
    "    tmp=x1*w1+x2*w2\n",
    "    if tmp<=theta:\n",
    "        return 0\n",
    "    elif tmp>theta:\n",
    "        return 1"
   ]
  },
  {
   "cell_type": "code",
   "execution_count": 23,
   "metadata": {},
   "outputs": [],
   "source": [
    "#theta를 -b로 치환하면 (b는 biase)\n",
    "#y=0 if b+w1x1+w2x2<=0\n",
    "#  1 if b+w1x1+w2x2>0\n",
    "#퍼셉트론은 입력신호에 가중치를 곱한 값과 편향을 합하여, 그 값이 0을 넘으면 1, 그렇지 않으면 0을 출력한다."
   ]
  },
  {
   "cell_type": "code",
   "execution_count": 24,
   "metadata": {},
   "outputs": [],
   "source": [
    "#w1, w2는 각 입력 신호가 결과에 주는 영향력을 조절하는 매개변수이고, 편향은 뉴런이 얼마나 쉽게 활성화 하느냐를 조정하는 매개변수"
   ]
  },
  {
   "cell_type": "code",
   "execution_count": 25,
   "metadata": {},
   "outputs": [],
   "source": [
    "#XOR에서의 한계\n",
    "#배터적 논리합으롤 x1,x2중 한쪽이 1일때만 1을 출력\n",
    "#XOR은 직선으로 input값에 대한 구분선을 그릴 수 없다."
   ]
  },
  {
   "cell_type": "code",
   "execution_count": 26,
   "metadata": {},
   "outputs": [],
   "source": [
    "#곡선으로 표현한 영역을 비선형영역 직선의 영역을 선형 영역\n",
    "#단층 퍼셉트론은 single-layer perceptron으로는 비선형 영역을 분리할 수 없다."
   ]
  },
  {
   "cell_type": "code",
   "execution_count": 27,
   "metadata": {},
   "outputs": [],
   "source": [
    "#XOR은 OR, NAND, AND의 조합으로 만들 수 있다."
   ]
  },
  {
   "cell_type": "code",
   "execution_count": 28,
   "metadata": {},
   "outputs": [],
   "source": [
    "#NAND 게이트의 조합만으로 컴퓨터를 만들 수 있다. 퍼셉트론으로 컴퓨터를 표한할 수 있다.\n",
    "#비선형인 시그모이드 함수를 활성화 함수로 이용하면 임의의 함수를 표현할 수 있다는 사실이 증명되었다."
   ]
  },
  {
   "cell_type": "code",
   "execution_count": 29,
   "metadata": {},
   "outputs": [],
   "source": [
    "#가중치 설정은 여전히 사람이 수동으로하는데 신경망이 이를 해결해준다\n",
    "#가중치 매개변수의 적절한 값을 데이터로부터 자동으로 학습하는 능력이 신경망의 중요한 성질이다.\n",
    "#가장 왼쪽을 입력층 맨 오른쪽을 출력층 중간층을 은닉층이라고 한다.\n",
    "#은닉층의 뉴런은 입력층이나 출력층과 달리 사람 눈에는 보이지 않는다."
   ]
  },
  {
   "cell_type": "code",
   "execution_count": 30,
   "metadata": {},
   "outputs": [],
   "source": [
    "#h(x)라는 함수는 입력 신호의 총합을 신호로 변환하는 함수로 일반적으로 활성화 함수라고 한다.\n",
    "#활성화 함수는 입력 신호의 총합이 활성화를 일으키는지를 정하는 역할을 한다."
   ]
  },
  {
   "cell_type": "code",
   "execution_count": 31,
   "metadata": {},
   "outputs": [],
   "source": [
    "#활성화 함수는 임계값을 경계로 출력이 바뀌는데, 이런 함수를 계단 함수라고한다.\n",
    "#퍼셉트론에서는 활성화 함수로 계단 함수를 이용한다라고 할 수 있다.\n",
    "#활성화 함수를 계단 함수에서 다른 함수로 변경하는 것이 신경망의 세계로 나아가는 열쇠이다."
   ]
  },
  {
   "cell_type": "code",
   "execution_count": 42,
   "metadata": {},
   "outputs": [],
   "source": [
    "#시그모이드 함수\n",
    "#1/1+e(-z) s모양\n",
    "#신경망에서는 활성화 함수로 시그모이드 함수를 이용하여 신호를 변환하고, 그 변환된 신호를 다음 뉴런에 전달한다.\n",
    "def identity_function(x):\n",
    "    return x"
   ]
  },
  {
   "cell_type": "code",
   "execution_count": 43,
   "metadata": {},
   "outputs": [],
   "source": [
    "#계단 함수\n",
    "def step_function(x):\n",
    "    y=x>0 #boolean array\n",
    "    return y.astype(np.int) #boolean이 0또는 1로 매핑된 array return, asType은 자료형 변환"
   ]
  },
  {
   "cell_type": "code",
   "execution_count": 44,
   "metadata": {},
   "outputs": [],
   "source": [
    "#시그모이드 함수 구현\n",
    "def sigmoid(x):\n",
    "    return 1/(1+np.exp(-x))"
   ]
  },
  {
   "cell_type": "code",
   "execution_count": 45,
   "metadata": {},
   "outputs": [],
   "source": [
    "#시그모이드 함수는 부드러운 곡선이며 입력에 따라 출력이 연속적으로 변화한다.\n",
    "#계단 함수는 0을 경계로 출력이 갑자기 바뀌어버린다.\n",
    "#시그모이드 함수의 매끈함이 신경망 학습에서 아주 중요한 역할을 한다. 연속적인 실수\n",
    "#공통점은 같은 모양이고 입력이 중요하면 큰값을 출력하고 중요하지 않으면 작은값을 출력 0~1사이"
   ]
  },
  {
   "cell_type": "code",
   "execution_count": 46,
   "metadata": {},
   "outputs": [],
   "source": [
    "#비선형함수\n",
    "#계단 시그모이드 둘다 비선형 함수이다.\n",
    "#신경망에서는 활성화 함수로 비선형 함수를 사용하고, 선형 함수를 사용하면 안된다.\n",
    "#신경망의 층을 깊게하는 의미가 없어지기 때문이다.\n",
    "#선형의 문제는 층을 아무리 깊게해도 은닉층이 없는 네트워크로도, 똑같은 기능을 할 수 있다.\n",
    "#y(x)=h(h(h(x)))는 y(x)=H(x)가 되버려 의미가 없다."
   ]
  },
  {
   "cell_type": "code",
   "execution_count": 47,
   "metadata": {},
   "outputs": [],
   "source": [
    "#ReLU함수(Rectified Linear Unit)\n",
    "#입력이 0을 넘으면 그 입력을 그대로 출력하고, 0이하이면 0을 출력하는 함수이다.\n",
    "#h(x)=x if x>0\n",
    "#     0 if x<=0\n",
    "def relu(x):\n",
    "    return np.maximum(0,x)"
   ]
  },
  {
   "cell_type": "code",
   "execution_count": 48,
   "metadata": {},
   "outputs": [
    {
     "data": {
      "text/plain": [
       "(3, 2)"
      ]
     },
     "execution_count": 48,
     "metadata": {},
     "output_type": "execute_result"
    }
   ],
   "source": [
    "#다차원 배열\n",
    "#배열의 차원수는 np.ndim()으로 확인할 수 있다.\n",
    "#배열의 형상은 인스턴스 변수인 shape로 알 수 있다. return 값은 튜플이다.\n",
    "B=np.array([[1,2],[3,4],[5,6]])\n",
    "np.ndim(B) #2\n",
    "B.shape #(3,2)이는 3X2를 이야기함\n",
    "#2차원 배열은 특히 행렬이라고 부른다."
   ]
  },
  {
   "cell_type": "code",
   "execution_count": 49,
   "metadata": {},
   "outputs": [
    {
     "data": {
      "text/plain": [
       "array([[19, 22],\n",
       "       [43, 50]])"
      ]
     },
     "execution_count": 49,
     "metadata": {},
     "output_type": "execute_result"
    }
   ],
   "source": [
    "#행렬의 내적\n",
    "A=np.array([[1,2],[3,4]])\n",
    "B=np.array([[5,6],[7,8]])\n",
    "np.dot(A,B) #내적은 dot을 이용한다 \n",
    "#AB/=BA 그리고 형상에 주의 해야한다. 왼쪽행렬의 열 수와 오른쪽 행렬의 행 수가 같아야 한다."
   ]
  },
  {
   "cell_type": "code",
   "execution_count": 50,
   "metadata": {},
   "outputs": [],
   "source": [
    "#신경망의 내적\n",
    "X=np.array([1,2])\n",
    "W=np.array([[1,3,5],[2,4,6]])\n",
    "Y=np.dot(X,W)"
   ]
  },
  {
   "cell_type": "code",
   "execution_count": 51,
   "metadata": {},
   "outputs": [],
   "source": [
    "#편향을 뜻하는 뉴런은 인덱스가 1개 밖에 없으며 to를 가리킨다. (편향은 하나 밖에 없기 때문에 from 노의미)\n",
    "#행렬의 내적을 이용하면 1층의 가중치 부분을 다음처럼\n",
    "X=np.array([1.0,0.5])\n",
    "W1=np.array([[0.1,0.3,0.5],[0.2,0.4,0.6]])\n",
    "B1=np.array([0.1,0.2,0.3])\n",
    "A1=np.dot(X,W1)+B1\n",
    "#항등함수는 입력을 그대로 출력하는 함수이다.\n",
    "#회귀에는 항등함수, 클래스분류에는 시그모이드함수, 다중클래스 분류에는 소프트맥스함수"
   ]
  },
  {
   "cell_type": "code",
   "execution_count": 53,
   "metadata": {},
   "outputs": [
    {
     "ename": "ValueError",
     "evalue": "shapes (3,) and (2,3) not aligned: 3 (dim 0) != 2 (dim 0)",
     "output_type": "error",
     "traceback": [
      "\u001b[1;31m---------------------------------------------------------------------------\u001b[0m",
      "\u001b[1;31mValueError\u001b[0m                                Traceback (most recent call last)",
      "\u001b[1;32m<ipython-input-53-9a10172ed73d>\u001b[0m in \u001b[0;36m<module>\u001b[1;34m()\u001b[0m\n\u001b[0;32m     23\u001b[0m \u001b[0mnetwork\u001b[0m\u001b[1;33m=\u001b[0m\u001b[0minit_network\u001b[0m\u001b[1;33m(\u001b[0m\u001b[1;33m)\u001b[0m\u001b[1;33m\u001b[0m\u001b[0m\n\u001b[0;32m     24\u001b[0m \u001b[0mx\u001b[0m\u001b[1;33m=\u001b[0m\u001b[0mnp\u001b[0m\u001b[1;33m.\u001b[0m\u001b[0marray\u001b[0m\u001b[1;33m(\u001b[0m\u001b[1;33m[\u001b[0m\u001b[1;36m1.0\u001b[0m\u001b[1;33m,\u001b[0m\u001b[1;36m0.5\u001b[0m\u001b[1;33m]\u001b[0m\u001b[1;33m)\u001b[0m\u001b[1;33m\u001b[0m\u001b[0m\n\u001b[1;32m---> 25\u001b[1;33m \u001b[0my\u001b[0m\u001b[1;33m=\u001b[0m\u001b[0mforward\u001b[0m\u001b[1;33m(\u001b[0m\u001b[0mnetwork\u001b[0m\u001b[1;33m,\u001b[0m\u001b[0mx\u001b[0m\u001b[1;33m)\u001b[0m\u001b[1;33m\u001b[0m\u001b[0m\n\u001b[0m",
      "\u001b[1;32m<ipython-input-53-9a10172ed73d>\u001b[0m in \u001b[0;36mforward\u001b[1;34m(network, x)\u001b[0m\n\u001b[0;32m     14\u001b[0m     \u001b[0ma1\u001b[0m\u001b[1;33m=\u001b[0m\u001b[0mnp\u001b[0m\u001b[1;33m.\u001b[0m\u001b[0mdot\u001b[0m\u001b[1;33m(\u001b[0m\u001b[0mx\u001b[0m\u001b[1;33m,\u001b[0m\u001b[0mW1\u001b[0m\u001b[1;33m)\u001b[0m\u001b[1;33m+\u001b[0m\u001b[0mb1\u001b[0m\u001b[1;33m\u001b[0m\u001b[0m\n\u001b[0;32m     15\u001b[0m     \u001b[0mz1\u001b[0m\u001b[1;33m=\u001b[0m\u001b[0msigmoid\u001b[0m\u001b[1;33m(\u001b[0m\u001b[0ma1\u001b[0m\u001b[1;33m)\u001b[0m\u001b[1;33m\u001b[0m\u001b[0m\n\u001b[1;32m---> 16\u001b[1;33m     \u001b[0ma2\u001b[0m\u001b[1;33m=\u001b[0m\u001b[0mnp\u001b[0m\u001b[1;33m.\u001b[0m\u001b[0mdot\u001b[0m\u001b[1;33m(\u001b[0m\u001b[0mz1\u001b[0m\u001b[1;33m,\u001b[0m\u001b[0mW2\u001b[0m\u001b[1;33m)\u001b[0m\u001b[1;33m+\u001b[0m\u001b[0mb2\u001b[0m\u001b[1;33m\u001b[0m\u001b[0m\n\u001b[0m\u001b[0;32m     17\u001b[0m     \u001b[0mz2\u001b[0m\u001b[1;33m=\u001b[0m\u001b[0msigmoid\u001b[0m\u001b[1;33m(\u001b[0m\u001b[0ma2\u001b[0m\u001b[1;33m)\u001b[0m\u001b[1;33m\u001b[0m\u001b[0m\n\u001b[0;32m     18\u001b[0m     \u001b[0ma3\u001b[0m\u001b[1;33m=\u001b[0m\u001b[0mnp\u001b[0m\u001b[1;33m.\u001b[0m\u001b[0mdot\u001b[0m\u001b[1;33m(\u001b[0m\u001b[0mz2\u001b[0m\u001b[1;33m,\u001b[0m\u001b[0mW3\u001b[0m\u001b[1;33m)\u001b[0m\u001b[1;33m+\u001b[0m\u001b[0mb3\u001b[0m\u001b[1;33m\u001b[0m\u001b[0m\n",
      "\u001b[1;31mValueError\u001b[0m: shapes (3,) and (2,3) not aligned: 3 (dim 0) != 2 (dim 0)"
     ]
    }
   ],
   "source": [
    "#구현 정리\n",
    "def init_network():\n",
    "    network={}\n",
    "    network['W1']=np.array([[0.1,0.3,0.5],[0.2,0.4,0.6]])\n",
    "    network['b1']=np.array([0.1,0.2,0.3])\n",
    "    network['W2']=np.array([[0.1,0.3,0.5],[0.2,0.4,0.6]])\n",
    "    network['b2']=np.array([0.1,0.2,0.3])\n",
    "    network['W3']=np.array([[0.1,0.3,0.5],[0.2,0.4,0.6]])\n",
    "    network['b3']=np.array([0.1,0.2,0.3])\n",
    "    return network\n",
    "def forward(network,x):\n",
    "    W1,W2,W3=network['W1'],network['W2'],network['W3']\n",
    "    b1,b2,b3=network['b1'],network['b2'],network['b3']\n",
    "    a1=np.dot(x,W1)+b1\n",
    "    z1=sigmoid(a1)\n",
    "    a2=np.dot(z1,W2)+b2\n",
    "    z2=sigmoid(a2)\n",
    "    a3=np.dot(z2,W3)+b3\n",
    "    z3=sigmoid(a3)\n",
    "    y=identity_function(z3)\n",
    "    return y\n",
    "\n",
    "network=init_network()\n",
    "x=np.array([1.0,0.5])\n",
    "y=forward(network,x)"
   ]
  },
  {
   "cell_type": "code",
   "execution_count": 54,
   "metadata": {},
   "outputs": [],
   "source": [
    "#출력층 설계\n",
    "#신경망은 분류와 회귀 모두에 이용할 수 있다.\n",
    "#일반적으로 회귀에는 항등함수를 분류에는 소프트맥스함수를\n",
    "#분류는 데이터가 어느클래스에 속하냐는 문제이다. ex)사진 속 인물의 성별\n",
    "#회귀는 입력 데이터에서 (연속적인) 수치를 예측하는 문제이다. ex)사진 속 인물의 몸무게 예측"
   ]
  },
  {
   "cell_type": "code",
   "execution_count": 55,
   "metadata": {},
   "outputs": [],
   "source": [
    "#분류에서 소프트맥스함수는\n",
    "#softmax(xj)=e(xj)/sum(e(xi)). i는 출력층의 뉴런 수. 분모는 모든 입력 신호의 지수 함수의 합으로 구성되고, 분자는 입력 신호의 지수 함수\n",
    "def softmax(a): #소스코드를 볼 때 a가 matrix라는 점을 생각하고 봐야한다\n",
    "    exp_a=np.exp(a)\n",
    "    sum_exp_a=np.sum(exp_a)\n",
    "    \n",
    "    y=exp_a/sum_exp_a\n",
    "    return y"
   ]
  },
  {
   "cell_type": "code",
   "execution_count": 56,
   "metadata": {},
   "outputs": [
    {
     "name": "stderr",
     "output_type": "stream",
     "text": [
      "C:\\Users\\MSI\\Anaconda3\\lib\\site-packages\\ipykernel_launcher.py:6: RuntimeWarning: invalid value encountered in true_divide\n",
      "  \n"
     ]
    },
    {
     "data": {
      "text/plain": [
       "array([nan, nan, nan])"
      ]
     },
     "execution_count": 56,
     "metadata": {},
     "output_type": "execute_result"
    }
   ],
   "source": [
    "#소프트맥스 함수는 지수 함수를 사용하기 때문에 overflow문제는 봉착할 수 있다.\n",
    "#그리고 이런 큰 값끼리 나눗셈을 하면 겨과 수치가 불안정 해진다\n",
    "#개선하기 위해서는 지수 함수를 계산할 때 어떤 정수를 더하거나 빼도 결과는 바뀌지 않는다는 것이다.\n",
    "#어떤 값을 더하거나 빼도 되지만, 보통 오버플로를 막을 목적으로 입력 신호중 최댓값을 이용하는 것이 일반적이다.\n",
    "a=np.array([1010,1000,990])\n",
    "np.exp(a)/np.sum(np.exp(a)) #overflow로 nan(not a number)가 출력"
   ]
  },
  {
   "cell_type": "code",
   "execution_count": 57,
   "metadata": {},
   "outputs": [
    {
     "data": {
      "text/plain": [
       "array([9.99954600e-01, 4.53978686e-05, 2.06106005e-09])"
      ]
     },
     "execution_count": 57,
     "metadata": {},
     "output_type": "execute_result"
    }
   ],
   "source": [
    "c=np.max(a)\n",
    "ma=a-c\n",
    "np.exp(ma)/np.sum(np.exp(ma))"
   ]
  },
  {
   "cell_type": "code",
   "execution_count": 58,
   "metadata": {},
   "outputs": [],
   "source": [
    "#개선된 softmax\n",
    "def softmax(a):\n",
    "    c=np.max(a)\n",
    "    exp_a=np.exp(a-c)\n",
    "    sum_exp_a=np.sum(exp_a)\n",
    "    \n",
    "    y=exp_a/sum_exp_a\n",
    "    return y"
   ]
  },
  {
   "cell_type": "code",
   "execution_count": 59,
   "metadata": {},
   "outputs": [],
   "source": [
    "#소프트맥스 함수의 특징\n",
    "#출력은 0에서 1사이의 실수\n",
    "#함수 출력의 총합은 1이 된다는 것은 아주 중요한 성질이다\n",
    "#이 성질 덕분에 출력을 확률로 해석할 수 있다.\n",
    "#주의점은 소프트맥스 함수를 적용해도 각 원소의 대소 관계는 변하지 않는다.\n",
    "#이는 지수함수 y=exp(x)가 단조 증가 함수이기 때문이다.\n",
    "\n",
    "#신경망을 이용한 불류에서는 일반적으로 가장 큰 출력을 내는 뉴런에 해당하는 클래스로만 인식한다.\n",
    "#그리고 소프트맥스 함수를 적용해도 출력이 가장 큰 뉴런의 위치는 달라지지 않는다.\n",
    "#결과적으로 신경망으로 분류할 때는 출력층의 소프트맥스 함수를 생략해도 된다.\n",
    "#현업에서도 지수 함수 계산에 드는 자원 낭비를 줄이고자 출력층의 소프트맥스 함수는 생략하는 것이 일반적이다.\n",
    "\n",
    "#기계학습의 무제 풀이는 학습과 출론의 두 단계를 거쳐 이뤄진다.\n",
    "#학습 단계에서 모델을 학습하고, 추론 단계에서 앞서 학습한 모델로 미지의 데이터에 대해서 추론(분류)을 수행한다.\n",
    "#추론단계에서는 출력층의 소프트맥스 함수를 생력하는 것이 일반적이지만 학습시킬때는 출력층의 소프트맥스 함수를 사용한다."
   ]
  },
  {
   "cell_type": "code",
   "execution_count": 60,
   "metadata": {},
   "outputs": [],
   "source": [
    "#출력층의 뉴런 수 정하기\n",
    "#출력층의 뉴런 수는 풀려는 문제에 맞게 적절히 정해야 한다.\n",
    "#분류에서는 분류하고 싶은 클래스 수로 설정하는 것이 일반적이다.\n",
    "#예를 들어 입력 이미지를 숫자 0부터 9중 하나로 분류하는 문제라면 출력층의 뉴런을 10개로 설정해야 한다."
   ]
  },
  {
   "cell_type": "code",
   "execution_count": 61,
   "metadata": {},
   "outputs": [],
   "source": [
    "#솔글씨 숫자 인식\n",
    "#이 예에서는 이미 학습된 매개변수를 사용하여 학습 과정은 생략하고, 추론 과정만 구현한다.\n",
    "#이러한 추론 과정을 신경망의 순전파(forward propagation)이라고 한다.\n",
    "#먼저 훈련 데이터를 사용해 가중치 매개변수를 학습하고, 추론 단게에서는 앞서 학습한 매개변수를 사용하여 입력 데이터를 분류한다."
   ]
  },
  {
   "cell_type": "code",
   "execution_count": 62,
   "metadata": {},
   "outputs": [
    {
     "name": "stdout",
     "output_type": "stream",
     "text": [
      "5\n",
      "(784,)\n",
      "(28, 28)\n"
     ]
    }
   ],
   "source": [
    "#MNIST 데이터셋\n",
    "#0~9까지 숫자 이미지\n",
    "#훈련이미지 6만장 시험이미지 1만장\n",
    "#일반적으로 이들 훈련 이미지를 사용하여 모델을 학습하고, 학습한 모델로 시험 이미지들을 얼마나 정확하게 분류하는지를 평가한다.\n",
    "#28x28크기의 회색이미지(1채널) 픽셀값은 0~255\n",
    "#normalize를하면 이미지 픽셀 값을 0~1사이 값으로 정규화\n",
    "#flatten은 1x28x28대신 784개 원소를 가진 1차원 배열로 변환\n",
    "#one_hot_label은 정답만 1(hot)이고 나머지는 모두0인 배열\n",
    "#pickle은 프로그램 실행 중에 특정 객체를 파일로 저장하는 기능이다.\n",
    "#(mnist의 파일 로드에서 pickle을 사용해서 최초에는 online에서 받아오고 그 이후에는 pickle을 사용한다.)\n",
    "#pil(python image library)모듈을 사용한다\n",
    "import sys, os\n",
    "sys.path.append(os.pardir)\n",
    "from dataset.mnist import load_mnist\n",
    "import pickle\n",
    "import tensorflow as tf\n",
    "from PIL import Image\n",
    "def img_show(img):\n",
    "    pil_img=Image.fromarray(np.uint8(img))\n",
    "    pil_img.show()\n",
    "#reshape()은 원하는 형상을 인수로 지정하면 넘파이 배열의 형상을 바꿀 수 있다.\n",
    "(x_train, t_train), (x_test, t_test) = load_mnist(flatten=True, normalize=False)\n",
    "\n",
    "img = x_train[0]\n",
    "label = t_train[0]\n",
    "print(label)  # 5\n",
    "\n",
    "print(img.shape)  # (784,)\n",
    "img = img.reshape(28,28)\n",
    "print(img.shape)  # (28, 28)\n",
    "\n",
    "img_show(img)"
   ]
  },
  {
   "cell_type": "code",
   "execution_count": 63,
   "metadata": {},
   "outputs": [
    {
     "name": "stdout",
     "output_type": "stream",
     "text": [
      "accuracy:0.9352\n"
     ]
    }
   ],
   "source": [
    "#MNIST의 신경망은 입력층 뉴런을 784개 출력층 뉴런을 10개로 구성한다.\n",
    "#은닉층은 총 2개로 첫번째 은닉층에는 50개의 뉴런을, 두번째 은닉층에는 100개의 뉴런을 배치할 것이다.\n",
    "def get_data():\n",
    "    (x_train,t_train),(x_test,t_test)=load_mnist(normalize=True,flatten=True,one_hot_label=False)\n",
    "    return x_test, t_test #t는 정답을 표시함\n",
    "def init_network():\n",
    "    with open(\"sample_weight.pkl\",'rb') as f: #pkl은 피클파일, weight, bias가 딕셔너리 변수로 저장되어 있다.\n",
    "        network=pickle.load(f)\n",
    "        return network\n",
    "\n",
    "def predict(network, x):\n",
    "    W1,W2,W3=network['W1'],network['W2'],network['W3']\n",
    "    b1,b2,b3=network['b1'],network['b2'],network['b3']\n",
    "    \n",
    "    a1=np.dot(x,W1)+b1\n",
    "    z1=sigmoid(a1)\n",
    "    \n",
    "    a2=np.dot(z1,W2)+b2\n",
    "    z2=sigmoid(a2)\n",
    "    \n",
    "    a3=np.dot(z2,W3)+b3\n",
    "    y=softmax(a3)\n",
    "    return y\n",
    "\n",
    "#정확도 평가\n",
    "x,t=get_data()\n",
    "network=init_network()\n",
    "\n",
    "accuracy_cnt=0\n",
    "for i in range(len(x)):\n",
    "    y=predict(network,x[i])\n",
    "    p=np.argmax(y) #확률이 가장 높은 원소의 인덱스를 얻는다.\n",
    "    if p==t[i]:\n",
    "        accuracy_cnt+=1\n",
    "\n",
    "print(\"accuracy:\"+str(float(accuracy_cnt)/len(x)))"
   ]
  },
  {
   "cell_type": "code",
   "execution_count": 64,
   "metadata": {},
   "outputs": [],
   "source": [
    "#데이터를 특정범위로 변환하는 처리를 정규화라고 하고\n",
    "#신경망의 입력 데이터를 특정 변환을 가하는 것을 전처리라고 한다.\n",
    "#전처리를 통해 식별 능력을 개선하고 학습 속도를 높이는 등의 사례가 많이 제시되고 있다.\n",
    "#실제로는 데이터 전체의 분포를 고려해 전처리하는 경우가 많다\n",
    "#예를 들어 데이터 전체 평균과 표준편차를 이용하여 데이터들이 0을 중심으로 분포하도록 이동하거나 데이터의 확산 범위를 제한하는 정규화를 수행한다.\n",
    "#whitening등도 있다."
   ]
  },
  {
   "cell_type": "code",
   "execution_count": 65,
   "metadata": {},
   "outputs": [
    {
     "name": "stdout",
     "output_type": "stream",
     "text": [
      "Accuracy:0.9352\n"
     ]
    }
   ],
   "source": [
    "#배치 처리\n",
    "#100x784->784x50->50x100->100x10->100x10(y)\n",
    "#위와 같이 하나로 묶은 입력 데이터를 배치(batch)라고 한다. 묶음\n",
    "#배치 처리는 컴퓨터로 계산할 때 큰 이점을 준다.\n",
    "#이미지 1장당 처리 시간을 대폭 줄여준다.\n",
    "#좋아지는 이유는, 첫째 수치 계산 라이브러리 대부분이 큰 배열을 효율적으로 처리할 수 있도록 고도로 최적화되어 있다는 것이다.\n",
    "#두번째 이유는 커다란 신경망에서는 데이터 전송이 병목으로 작용하는 경우가 자주 있는데, 배치 처리를 함으로써 버스에 주는 부하를 줄일 수 있다는 것이다.\n",
    "#느린IO보다는 빠른 CPU나 GPU로 계산 수행\n",
    "#즉, 배치 처리를 수행함으로써 큰 배열로 이뤄진 계산을 하는데, 컴퓨터에서는 큰 배열을 한꺼번에 계산하는 것이 분할된 작은 배열을 여러번 계산하는 것보다 빠르다.\n",
    "x,t=get_data()\n",
    "network=init_network()\n",
    "\n",
    "batch_size=100\n",
    "accuracy_cnt=0\n",
    "for i in range(0,len(x),batch_size): #range(start,end,step)\n",
    "    x_batch=x[i:i+batch_size]\n",
    "    y_batch=predict(network,x_batch)\n",
    "    p=np.argmax(y_batch,axis=1) #1번째 차원을 구성하는 원소에서 최댓값의 인덱스를 찾음(0부터 시작)\n",
    "    accuracy_cnt+=np.sum(p==t[i:i+batch_size]) #배열끼리 ==는 True/False배열을 return.\n",
    "\n",
    "print(\"Accuracy:\"+str(float(accuracy_cnt)/len(x)))"
   ]
  },
  {
   "cell_type": "code",
   "execution_count": 66,
   "metadata": {},
   "outputs": [],
   "source": [
    "#신경망에서는 매끄럽게 변하는 활성화 함수 이용\n",
    "#넘파이 다차원배열 잘 이용하면 효율적으로 구현\n",
    "#입력데이터를 묶은 것을 배치, 추론 처리를 이 배치 단위로 진행하면 결과를 훨씬 빠르게 얻을 수 있다.\n",
    "#step fuction은 linearly separable 한 입력에 대해서 잘 작동 하고 sigmoid는 그렇지 않아도 적용가능\n",
    "#back propagation을 하기위해서는 활성화함수는 미분가능해야한다.\n",
    "#network weight를 update하기위해 gradient descent를 사용하기 때문"
   ]
  },
  {
   "cell_type": "code",
   "execution_count": 67,
   "metadata": {},
   "outputs": [],
   "source": [
    "#학습은 훈련 데이터로부터 가중치 매개변수의 최적값을 자동으로 획득하는 것을 뜻한다.\n",
    "#신경망이 학습할 수 있도록 해주는 지표인 손실함수가 있다.\n",
    "#이 손실 함수의 결과값을 가장 작게 만드는 가중치 매개변수를 찾는 것이 학습의 목표.\n",
    "#데이터가 생명\n",
    "#이미지에서 특징을 추출하고 그 특징의 패턴을 기게학습 기술로 학습하는 것이다.\n",
    "#특징은 입력 데이터에서 본질적인 데이터를 정확하게 추출할 수 있도록 설계된 변환기\n",
    "#보통 벡터로 기술하고 SIFT SURF HOG 특징을 많이 사용\n",
    "#이런 특징을 사용하여 이미지 데이터를 벡터로 변환하고 변환된 벡터를 가지고 지도 학습 방식의 대표 분류 기법인 SVM, KNN등으로 학습할 수 있다.\n",
    "#하지만, 이미지를 벡터로 변환할 때 사용하는 특징은 여전히 사람이 설계\n",
    "#신경망은 이미지를 있는 그대로 학습한다.\n",
    "#기계학습의 경우는 특징을 사람이 설계하고, 기계가 학습을 했지만, 신경망은 이미지에 포함된 중요한 특징까지도 기계가 스스로 학습한다.\n",
    "#딥러닝을 종단간 기계학습이라고 하고, 데이터에서 목표한 결과를 사람의 개입없이 얻는다.\n",
    "#즉, 신경망은 모든 문제를 주어진 데이터 그대로를 입력 데이터로 활용해 'end-to-end'로 학습할 수 있다."
   ]
  },
  {
   "cell_type": "code",
   "execution_count": 68,
   "metadata": {},
   "outputs": [],
   "source": [
    "#주의할 점\n",
    "#기계 학습 문제는 데이터를 훈련데이터와 시험데이터로 나눠 학습과 실험을 수행하는 것이 일반적\n",
    "#우선 훈련데이터로 학습하면서 최적의 매개변수\n",
    "#그럼다음 시험 데이터로 훈련한 모델의 실력을 평가\n",
    "#범용 능력을 획득하는 것이 기계학습의 최종 목표\n",
    "#한 데이터셋에만 지나치게 최적화된 상태를 overfitting이라고 한다. 이걸 피해야 한다."
   ]
  },
  {
   "cell_type": "code",
   "execution_count": 69,
   "metadata": {},
   "outputs": [],
   "source": [
    "#손실 함수\n",
    "#신경망 학습에서는 현재의 상태를 '하나의 지표'로 표현한다.\n",
    "#지표를 가장 좋게 만들어주는 가중치 매개변수의 값을 탐색하는 것\n",
    "#그 중 하나가 손실함수.\n",
    "#이 손실함수는 일반적으로는 평균제곱오차와 교차엔트로피오차를 사용한다.\n",
    "#손실함수는 나쁨을 나타내는 지표로 마이너스를 곱하면 좋음을 나태낼 수 있다."
   ]
  },
  {
   "cell_type": "code",
   "execution_count": 70,
   "metadata": {},
   "outputs": [],
   "source": [
    "#평균제곱오차(mean squared error, MSE)\n",
    "#sigma(i=1,n)(yi-ti)^2/n yi는 신경망의 출력(추정값), ti는 정답 레이블, n은 데이터 차원 수\n",
    "def mean_squared_error(y,t):\n",
    "    return 0.5*np.sum((y-t)**2)"
   ]
  },
  {
   "cell_type": "code",
   "execution_count": 71,
   "metadata": {},
   "outputs": [],
   "source": [
    "#교차엔트로피 교차(cross entropy error, CEE)\n",
    "#-sigma(i=0,n)(ln(oi)*ti) oi가 신경망 출력, ti가 정답레이블\n",
    "#ti는 정답에 해당하는 인덱스의 원소만 1이고 나머지는 0이다.(원핫인코딩)\n",
    "#즉, 교차 엔트로피 오차는 정답일 때의 출력이 전체 값을 정하게 된다.\n",
    "#정답일 때의 출력이 작아질수록 오차는 커진다.\n",
    "def cross_entropy_error(y,t):\n",
    "    delta=1e-7\n",
    "    return -np.sum(t*np.log(y+delta))\n",
    "#delta를 더하는 이유는 np.log()함수에 0을 입력하면 -inf가 된다. 즉 0이 되지 않도록 하게 하기 위해서."
   ]
  },
  {
   "cell_type": "code",
   "execution_count": 72,
   "metadata": {},
   "outputs": [],
   "source": [
    "#미니배치 학습\n",
    "#평균을 구해 사용하면 훈련 데이터 개수와 관계없이 언제든 통일된 지표를 얻을 수 있다.\n",
    "#데이터가 너무많으면 힘드니까 일부를 추려 근사치로 이용한다. 그것을 미니배치라고 한다.\n",
    "train_size=x_train.shape[0]\n",
    "batch_size=10\n",
    "batch_mask=np.random.choice(train_size,batch_size) #결과과 배열로 나온다.\n",
    "x_batch=x_train[batch_mask]\n",
    "t_batch=t_train[batch_mask]"
   ]
  },
  {
   "cell_type": "code",
   "execution_count": 73,
   "metadata": {},
   "outputs": [],
   "source": [
    "#배치용 교차엔트로피 오차\n",
    "def cross_entropy_error(y,t):\n",
    "    if y.ndim==1: #y가 1차원이라면, 데이터 하나당 교차 엔트로피 오차를 구하는 경우\n",
    "        t=t.reshape(1,t.size)\n",
    "        y=y.reshape(1,y.size)\n",
    "        \n",
    "    batch_size=y.shape[0]\n",
    "    return -np.sum(t*np.log(y))/batch_size\n",
    "    #원핫인코딩이아니면\n",
    "    #return -np.sum(np.log(y[np.arrange(batch_size),t]))/batch_size\n",
    "#np.arrange(batch_size)는 0부터 batch_size-1까지 배열을 생성한다.\n",
    "#y[np.arrange(batch_size),t]는 각 데이터의 정답 레이블에 해당하는 신경망의 출력을 추출한다."
   ]
  },
  {
   "cell_type": "code",
   "execution_count": 74,
   "metadata": {},
   "outputs": [],
   "source": [
    "#왜 손실함수?\n",
    "#이유는 신경망 학습에서의 '미분'의 역할에 주목하자.\n",
    "#신경망 학습에서 최적의 매개변수(가중치와 편향)을 탐색할 때 손실 함수의 값을 가능한 한 작게 하는 매개변수 값을 찾는다.\n",
    "#이때 매개변수의 미분을 계산하고, 그 미분 값을 단서로 매개변수의 값을 서서히 갱신하는 과정을 반복한다.\n",
    "#가중치 매개변수의 손실 함수의 미분이란 '가중치 매개변수의 값을 아주 조금 변화시켰을 때, 손실 함수가 어떻게 변하나'라는 의미\n",
    "#음수면 양으로 변화시켜 손실을 줄인다. 0이면 멈춘다.\n",
    "#정확도를 지표로 삼으면 안되는 이유는 미분 값이 대부분의 장소에서 0이 되어 매개변수를 갱신할 수 없기 때문이다.\n",
    "#정확도는 정수로나온다. (미분할수가 없다)"
   ]
  },
  {
   "cell_type": "code",
   "execution_count": 75,
   "metadata": {},
   "outputs": [],
   "source": [
    "#미분\n",
    "#나쁜수현 예\n",
    "def numerical_diff(f,x):\n",
    "    h=10e-50\n",
    "    return (f(x+h)-f(x))/h\n",
    "#이런 식은 반올림 오차문제를 일으킨다.\n",
    "#반올림 오차는 작은값이 생략되어 최종 계산 결과에 오차가 생기게 한다.\n",
    "#즉 너무 작은 값을 이용하면 컴퓨터로 계산하는 데 문제가 된다.\n",
    "#이 미세한 값을 10-4로 이용하면 된다.\n",
    "#h를 무한히 0으로 좁히는 것이 불가능해 생기는 한계\n",
    "#오차를 줄이기 위해 (x+h)와 (x-h)일 때의 함수 f의 차분을 계산\n",
    "def numerical_diff(f,x):\n",
    "    h=1e-4 #0.0001\n",
    "    return (f(x+h)-f(x-h))/(2*h)\n",
    "#아주 작은 차분으로 미분하는 것을 수치 미분이라 한다.\n",
    "#편미분으로 변수가 하나인 함수를 정의하고, 그 함수를 미분하는 형태로 풀 수 있다."
   ]
  },
  {
   "cell_type": "code",
   "execution_count": 86,
   "metadata": {},
   "outputs": [],
   "source": [
    "#기울기\n",
    "#x0와 x1의 편미분을 동시에 계산하는, 모든 변수의 편미분을 벡터로 정리한 것을 기울기(gradient)라고 한다.\n",
    "def numerical_gradient_no_batch(f,x):\n",
    "    h=1e-4\n",
    "    grad=np.zeros_like(x) #x와 형상이 같은 배열을 생성\n",
    "    \n",
    "    for idx in range(x.size):\n",
    "        tmp_val=x[idx]\n",
    "        \n",
    "        #f(x+h) 계산\n",
    "        x[idx]=tmp_val+h\n",
    "        fxh1=f(x)\n",
    "        \n",
    "        #f(x-h) 계산\n",
    "        x[idx]=tmp_val-h\n",
    "        fxh2=f(x)\n",
    "        \n",
    "        grad[idx]=(fxh1-fxh2)/2*h\n",
    "        x[idx]=tmp_val #값 복원\n",
    "    \n",
    "    return grad\n",
    "#사실 기울기는 각 지점에서 낮아지는 방향을 가르킨다.\n",
    "#더 정확히 말하자면 기울기가 가리키는 쪽은 \"각 장소\"에서 함수의 출력 값을 가장 크게 줄이는 방향이다.\n",
    "def numerical_gradient(f,X):\n",
    "    if X.ndim==1:\n",
    "        return numerical_gradient_no_batch(f,X)\n",
    "    else:\n",
    "        grad=np.zeros_like(X)\n",
    "        \n",
    "        for idx,x in enumerate(X):\n",
    "            grad[idx]=numerical_gradient_no_batch(f,x)\n",
    "            \n",
    "        return grad"
   ]
  },
  {
   "cell_type": "code",
   "execution_count": 77,
   "metadata": {},
   "outputs": [],
   "source": [
    "#경사법(경사 하강법)\n",
    "#최적이란 손실 함수가 최솟값이 될 때의 매개변수 값이다.\n",
    "#이런 상황에서 기울기를 잘 이용해 함수의 최솟값을 찾으려는 것이 경사법이다.\n",
    "#주의할 점은 복잡한 함수에서는 기울기가 가리키는 방향에 최솟값이 없는 경우가 대부분이다.\n",
    "#안정점에서 극값이 0이다.\n",
    "#거기가 반드시 최솟값인지는 모른다. 또는 찌그러진 함수에서 학습이 진행 되지 않는 정체기에 빠질 수 있다.\n",
    "#경사법은 현 위치에서 기울어진 방향으로 일정 거리만큼 이동한다.\n",
    "#그런 다음 이동한 곳에서도 마찬가지로 기울기를 구하고, 반복한다.\n",
    "#경사법은 기계학습을 최적화하는데 흔히 쓰는 방법이다.\n",
    "#theta(j)-alpha*d(J(theta))/d(theta(j))\n",
    "#alpha는 갱신하는 양을 나타내는데, 학습률이라고 한다(learning rate).\n",
    "def gradient_descent(f,init_x,lr=0.01,step_num=100):\n",
    "    x=init_x\n",
    "    \n",
    "    for i in range(step_num):\n",
    "        grad=numerical_gradient(f,x)\n",
    "        x-=lr*grad\n",
    "    return x\n",
    "#f는 최적화 하려는 함수 init_x는 x초기값, lr은 learning rate, step_num은 경사법에 따른 반복 횟수.\n",
    "#학습률이 너무 크면 큰 값으로 발산해버리고, 너무 작으면 거의 갱신되지 않는다.\n",
    "#이런 매개변수를 하이퍼파라미터(초매개변수)라고 한다. 사람이 직접 설정해야하는 매개변수.\n",
    "#시험을 통해 가장 잘 학습하는 값을 찾는 과정을 거쳐야 한다."
   ]
  },
  {
   "cell_type": "code",
   "execution_count": 95,
   "metadata": {},
   "outputs": [],
   "source": [
    "#신경망에서의 기울기\n",
    "#가중치 매개변수에 대한 손실 함수의 기울기\n",
    "#dE(t)/dwij(t) 각각의 원소에 대한 편미분\n",
    "#예를 들어 w11을 조금 변경했을 때 손실 함수 E가 얼마나 변화하느냐를 나타낸다.\n",
    "class simpleNet:\n",
    "    def __init__(self):\n",
    "        self.W=np.random.randn(2,3) #정규분포로 초기화(mean 0, variance 1인 값으로 2x3 matrix를 만든다.)\n",
    "        \n",
    "    def predict(self,x):\n",
    "        return np.dot(x,self.W)\n",
    "    \n",
    "    def loss(self, x, t):\n",
    "        z=self.predict(x)\n",
    "        y=softmax(z)\n",
    "        loss=cross_entropy_error(y,t)\n",
    "        return loss"
   ]
  },
  {
   "cell_type": "code",
   "execution_count": 96,
   "metadata": {},
   "outputs": [],
   "source": [
    "x=np.array([0.6,0.9])\n",
    "t=np.array([0,0,1])\n",
    "net = simpleNet()\n",
    "def f(W):\n",
    "    return net.loss(x,t) #f=lambda w: net.loss(x,t)로도 코딩할 수도 있다.\n",
    "dW=numerical_gradient(f,net.W) #loss function에 대한 weight로의 편미분"
   ]
  },
  {
   "cell_type": "code",
   "execution_count": 97,
   "metadata": {},
   "outputs": [],
   "source": [
    "#학습 알고리즘\n",
    "#전체: 신경망에는 적용 가능한 가충치와 편향이 있고, 이 가중치와 편향을 훈련 데이터에 적응하도록 조정하는 과정을 \"학습\"이라 한다.\n",
    "#1단계-미니배치:훈련 데이터 중 일부를 무작위로 가져온다. 손실함수 값을 줄이는 것이 목표.\n",
    "#2단계-기울기 산출:각 가중치 매개변수의 기울기를 구한다. 기울기는 손실 함수의 값을 가장 작게 하는 방향을 제시한다.\n",
    "#3단계-매개변수 갱신:가중치 매개변수를 기울기 방향으로 아주 조금 갱신한다.\n",
    "#4단계-반복:1~3단계 반복\n",
    "#이는 경사 하강법으로 매개변수를 갱신하는 방법이며, 무작위로 선정하기 때문에 확률적 경사하강법(stochastic gradient descent,SGD)"
   ]
  },
  {
   "cell_type": "code",
   "execution_count": 101,
   "metadata": {},
   "outputs": [],
   "source": [
    "#2층 신경망 클래스 구현하기\n",
    "class TwoLayerNet:\n",
    "    #hidden_size는 hidden layer(1층)의 node 갯수\n",
    "    def __init__(self, input_size, hidden_size, output_size, weight_init_std=0.01):\n",
    "        #가중치 초기화\n",
    "        self.params={}\n",
    "        self.params['W1']=weight_init_std*np.random.randn(input_size,hidden_size)\n",
    "        self.params['b1']=np.zeros(hidden_size)\n",
    "        self.params['W2']=weight_init_std*np.random.randn(hidden_size,output_size)\n",
    "        self.params['b2']=np.zeros(output_size)\n",
    "    def predict(self, x):\n",
    "        W1,W2=self.params['W1'], self.params['W2'] #첫번째, 두번째 층의 가중치\n",
    "        b1,b2=self.params['b1'], self.params['b2'] #첫번째, 두번째 층의 편향\n",
    "        \n",
    "        a1=np.dot(x,W1)+b1\n",
    "        z1=sigmoid(a1)\n",
    "        \n",
    "        a2=np.dot(z1,W2)+b2\n",
    "        y=softmax(a2)\n",
    "        return y\n",
    "    def loss(self,x,t):\n",
    "        y=self.predict(x)\n",
    "        return cross_entropy_error(y,t)\n",
    "    def accuracy(self,x,t):\n",
    "        y=self.predict(x)\n",
    "        y=np.argmax(y,axis=1)\n",
    "        t=np.argmax(t,axis=1)\n",
    "        \n",
    "        accuracy=np.sum(y==t)/float(x.shape[0])\n",
    "        return accuracy\n",
    "    def numerical_gradient(self,x,t):\n",
    "        loss_W=lambda W:self.loss(x,t)\n",
    "        \n",
    "        grads={}\n",
    "        grads['W1']=numerical_gradient(loss_W,self.params['W1']) #첫번째 층의 가중치의 기울기\n",
    "        grads['b1']=numerical_gradient(loss_W,self.params['b1']) #첫번째 층의 편향의 기울기\n",
    "        grads['W2']=numerical_gradient(loss_W,self.params['W2']) #두번째 층의 가중치의 기울기\n",
    "        grads['b2']=numerical_gradient(loss_W,self.params['b2']) #두번째 층의 편향의 기울기\n",
    "        \n",
    "        return grads\n",
    "#가중치 매개변수의 초기값을 무엇으로 설정하느냐가 신경망 학습의 성공을 좌우하기도 한다."
   ]
  },
  {
   "cell_type": "code",
   "execution_count": 111,
   "metadata": {},
   "outputs": [
    {
     "ename": "KeyboardInterrupt",
     "evalue": "",
     "output_type": "error",
     "traceback": [
      "\u001b[1;31m---------------------------------------------------------------------------\u001b[0m",
      "\u001b[1;31mKeyboardInterrupt\u001b[0m                         Traceback (most recent call last)",
      "\u001b[1;32m<ipython-input-111-af7a2cb7dc91>\u001b[0m in \u001b[0;36m<module>\u001b[1;34m()\u001b[0m\n\u001b[0;32m     18\u001b[0m \u001b[1;33m\u001b[0m\u001b[0m\n\u001b[0;32m     19\u001b[0m     \u001b[1;31m#기울기 계산\u001b[0m\u001b[1;33m\u001b[0m\u001b[1;33m\u001b[0m\u001b[0m\n\u001b[1;32m---> 20\u001b[1;33m     \u001b[0mgrad\u001b[0m\u001b[1;33m=\u001b[0m\u001b[0mnetwork\u001b[0m\u001b[1;33m.\u001b[0m\u001b[0mnumerical_gradient\u001b[0m\u001b[1;33m(\u001b[0m\u001b[0mx_batch\u001b[0m\u001b[1;33m,\u001b[0m\u001b[0mt_batch\u001b[0m\u001b[1;33m)\u001b[0m \u001b[1;31m#추후 다루는 고속 미분방법인 오차역전파법을 사용하면 더 좋다.\u001b[0m\u001b[1;33m\u001b[0m\u001b[0m\n\u001b[0m\u001b[0;32m     21\u001b[0m \u001b[1;33m\u001b[0m\u001b[0m\n\u001b[0;32m     22\u001b[0m     \u001b[1;31m#매개변수 갱신\u001b[0m\u001b[1;33m\u001b[0m\u001b[1;33m\u001b[0m\u001b[0m\n",
      "\u001b[1;32m<ipython-input-101-e35c6749309a>\u001b[0m in \u001b[0;36mnumerical_gradient\u001b[1;34m(self, x, t)\u001b[0m\n\u001b[0;32m     33\u001b[0m \u001b[1;33m\u001b[0m\u001b[0m\n\u001b[0;32m     34\u001b[0m         \u001b[0mgrads\u001b[0m\u001b[1;33m=\u001b[0m\u001b[1;33m{\u001b[0m\u001b[1;33m}\u001b[0m\u001b[1;33m\u001b[0m\u001b[0m\n\u001b[1;32m---> 35\u001b[1;33m         \u001b[0mgrads\u001b[0m\u001b[1;33m[\u001b[0m\u001b[1;34m'W1'\u001b[0m\u001b[1;33m]\u001b[0m\u001b[1;33m=\u001b[0m\u001b[0mnumerical_gradient\u001b[0m\u001b[1;33m(\u001b[0m\u001b[0mloss_W\u001b[0m\u001b[1;33m,\u001b[0m\u001b[0mself\u001b[0m\u001b[1;33m.\u001b[0m\u001b[0mparams\u001b[0m\u001b[1;33m[\u001b[0m\u001b[1;34m'W1'\u001b[0m\u001b[1;33m]\u001b[0m\u001b[1;33m)\u001b[0m \u001b[1;31m#첫번째 층의 가중치의 기울기\u001b[0m\u001b[1;33m\u001b[0m\u001b[0m\n\u001b[0m\u001b[0;32m     36\u001b[0m         \u001b[0mgrads\u001b[0m\u001b[1;33m[\u001b[0m\u001b[1;34m'b1'\u001b[0m\u001b[1;33m]\u001b[0m\u001b[1;33m=\u001b[0m\u001b[0mnumerical_gradient\u001b[0m\u001b[1;33m(\u001b[0m\u001b[0mloss_W\u001b[0m\u001b[1;33m,\u001b[0m\u001b[0mself\u001b[0m\u001b[1;33m.\u001b[0m\u001b[0mparams\u001b[0m\u001b[1;33m[\u001b[0m\u001b[1;34m'b1'\u001b[0m\u001b[1;33m]\u001b[0m\u001b[1;33m)\u001b[0m \u001b[1;31m#첫번째 층의 편향의 기울기\u001b[0m\u001b[1;33m\u001b[0m\u001b[0m\n\u001b[0;32m     37\u001b[0m         \u001b[0mgrads\u001b[0m\u001b[1;33m[\u001b[0m\u001b[1;34m'W2'\u001b[0m\u001b[1;33m]\u001b[0m\u001b[1;33m=\u001b[0m\u001b[0mnumerical_gradient\u001b[0m\u001b[1;33m(\u001b[0m\u001b[0mloss_W\u001b[0m\u001b[1;33m,\u001b[0m\u001b[0mself\u001b[0m\u001b[1;33m.\u001b[0m\u001b[0mparams\u001b[0m\u001b[1;33m[\u001b[0m\u001b[1;34m'W2'\u001b[0m\u001b[1;33m]\u001b[0m\u001b[1;33m)\u001b[0m \u001b[1;31m#두번째 층의 가중치의 기울기\u001b[0m\u001b[1;33m\u001b[0m\u001b[0m\n",
      "\u001b[1;32m<ipython-input-86-8ddf43534409>\u001b[0m in \u001b[0;36mnumerical_gradient\u001b[1;34m(f, X)\u001b[0m\n\u001b[0;32m     29\u001b[0m \u001b[1;33m\u001b[0m\u001b[0m\n\u001b[0;32m     30\u001b[0m         \u001b[1;32mfor\u001b[0m \u001b[0midx\u001b[0m\u001b[1;33m,\u001b[0m\u001b[0mx\u001b[0m \u001b[1;32min\u001b[0m \u001b[0menumerate\u001b[0m\u001b[1;33m(\u001b[0m\u001b[0mX\u001b[0m\u001b[1;33m)\u001b[0m\u001b[1;33m:\u001b[0m\u001b[1;33m\u001b[0m\u001b[0m\n\u001b[1;32m---> 31\u001b[1;33m             \u001b[0mgrad\u001b[0m\u001b[1;33m[\u001b[0m\u001b[0midx\u001b[0m\u001b[1;33m]\u001b[0m\u001b[1;33m=\u001b[0m\u001b[0mnumerical_gradient_no_batch\u001b[0m\u001b[1;33m(\u001b[0m\u001b[0mf\u001b[0m\u001b[1;33m,\u001b[0m\u001b[0mx\u001b[0m\u001b[1;33m)\u001b[0m\u001b[1;33m\u001b[0m\u001b[0m\n\u001b[0m\u001b[0;32m     32\u001b[0m \u001b[1;33m\u001b[0m\u001b[0m\n\u001b[0;32m     33\u001b[0m         \u001b[1;32mreturn\u001b[0m \u001b[0mgrad\u001b[0m\u001b[1;33m\u001b[0m\u001b[0m\n",
      "\u001b[1;32m<ipython-input-86-8ddf43534409>\u001b[0m in \u001b[0;36mnumerical_gradient_no_batch\u001b[1;34m(f, x)\u001b[0m\n\u001b[0;32m     14\u001b[0m         \u001b[1;31m#f(x-h) 계산\u001b[0m\u001b[1;33m\u001b[0m\u001b[1;33m\u001b[0m\u001b[0m\n\u001b[0;32m     15\u001b[0m         \u001b[0mx\u001b[0m\u001b[1;33m[\u001b[0m\u001b[0midx\u001b[0m\u001b[1;33m]\u001b[0m\u001b[1;33m=\u001b[0m\u001b[0mtmp_val\u001b[0m\u001b[1;33m-\u001b[0m\u001b[0mh\u001b[0m\u001b[1;33m\u001b[0m\u001b[0m\n\u001b[1;32m---> 16\u001b[1;33m         \u001b[0mfxh2\u001b[0m\u001b[1;33m=\u001b[0m\u001b[0mf\u001b[0m\u001b[1;33m(\u001b[0m\u001b[0mx\u001b[0m\u001b[1;33m)\u001b[0m\u001b[1;33m\u001b[0m\u001b[0m\n\u001b[0m\u001b[0;32m     17\u001b[0m \u001b[1;33m\u001b[0m\u001b[0m\n\u001b[0;32m     18\u001b[0m         \u001b[0mgrad\u001b[0m\u001b[1;33m[\u001b[0m\u001b[0midx\u001b[0m\u001b[1;33m]\u001b[0m\u001b[1;33m=\u001b[0m\u001b[1;33m(\u001b[0m\u001b[0mfxh1\u001b[0m\u001b[1;33m-\u001b[0m\u001b[0mfxh2\u001b[0m\u001b[1;33m)\u001b[0m\u001b[1;33m/\u001b[0m\u001b[1;36m2\u001b[0m\u001b[1;33m*\u001b[0m\u001b[0mh\u001b[0m\u001b[1;33m\u001b[0m\u001b[0m\n",
      "\u001b[1;32m<ipython-input-101-e35c6749309a>\u001b[0m in \u001b[0;36m<lambda>\u001b[1;34m(W)\u001b[0m\n\u001b[0;32m     30\u001b[0m         \u001b[1;32mreturn\u001b[0m \u001b[0maccuracy\u001b[0m\u001b[1;33m\u001b[0m\u001b[0m\n\u001b[0;32m     31\u001b[0m     \u001b[1;32mdef\u001b[0m \u001b[0mnumerical_gradient\u001b[0m\u001b[1;33m(\u001b[0m\u001b[0mself\u001b[0m\u001b[1;33m,\u001b[0m\u001b[0mx\u001b[0m\u001b[1;33m,\u001b[0m\u001b[0mt\u001b[0m\u001b[1;33m)\u001b[0m\u001b[1;33m:\u001b[0m\u001b[1;33m\u001b[0m\u001b[0m\n\u001b[1;32m---> 32\u001b[1;33m         \u001b[0mloss_W\u001b[0m\u001b[1;33m=\u001b[0m\u001b[1;32mlambda\u001b[0m \u001b[0mW\u001b[0m\u001b[1;33m:\u001b[0m\u001b[0mself\u001b[0m\u001b[1;33m.\u001b[0m\u001b[0mloss\u001b[0m\u001b[1;33m(\u001b[0m\u001b[0mx\u001b[0m\u001b[1;33m,\u001b[0m\u001b[0mt\u001b[0m\u001b[1;33m)\u001b[0m\u001b[1;33m\u001b[0m\u001b[0m\n\u001b[0m\u001b[0;32m     33\u001b[0m \u001b[1;33m\u001b[0m\u001b[0m\n\u001b[0;32m     34\u001b[0m         \u001b[0mgrads\u001b[0m\u001b[1;33m=\u001b[0m\u001b[1;33m{\u001b[0m\u001b[1;33m}\u001b[0m\u001b[1;33m\u001b[0m\u001b[0m\n",
      "\u001b[1;32m<ipython-input-101-e35c6749309a>\u001b[0m in \u001b[0;36mloss\u001b[1;34m(self, x, t)\u001b[0m\n\u001b[0;32m     20\u001b[0m         \u001b[1;32mreturn\u001b[0m \u001b[0my\u001b[0m\u001b[1;33m\u001b[0m\u001b[0m\n\u001b[0;32m     21\u001b[0m     \u001b[1;32mdef\u001b[0m \u001b[0mloss\u001b[0m\u001b[1;33m(\u001b[0m\u001b[0mself\u001b[0m\u001b[1;33m,\u001b[0m\u001b[0mx\u001b[0m\u001b[1;33m,\u001b[0m\u001b[0mt\u001b[0m\u001b[1;33m)\u001b[0m\u001b[1;33m:\u001b[0m\u001b[1;33m\u001b[0m\u001b[0m\n\u001b[1;32m---> 22\u001b[1;33m         \u001b[0my\u001b[0m\u001b[1;33m=\u001b[0m\u001b[0mself\u001b[0m\u001b[1;33m.\u001b[0m\u001b[0mpredict\u001b[0m\u001b[1;33m(\u001b[0m\u001b[0mx\u001b[0m\u001b[1;33m)\u001b[0m\u001b[1;33m\u001b[0m\u001b[0m\n\u001b[0m\u001b[0;32m     23\u001b[0m         \u001b[1;32mreturn\u001b[0m \u001b[0mcross_entropy_error\u001b[0m\u001b[1;33m(\u001b[0m\u001b[0my\u001b[0m\u001b[1;33m,\u001b[0m\u001b[0mt\u001b[0m\u001b[1;33m)\u001b[0m\u001b[1;33m\u001b[0m\u001b[0m\n\u001b[0;32m     24\u001b[0m     \u001b[1;32mdef\u001b[0m \u001b[0maccuracy\u001b[0m\u001b[1;33m(\u001b[0m\u001b[0mself\u001b[0m\u001b[1;33m,\u001b[0m\u001b[0mx\u001b[0m\u001b[1;33m,\u001b[0m\u001b[0mt\u001b[0m\u001b[1;33m)\u001b[0m\u001b[1;33m:\u001b[0m\u001b[1;33m\u001b[0m\u001b[0m\n",
      "\u001b[1;32m<ipython-input-101-e35c6749309a>\u001b[0m in \u001b[0;36mpredict\u001b[1;34m(self, x)\u001b[0m\n\u001b[0;32m     13\u001b[0m         \u001b[0mb1\u001b[0m\u001b[1;33m,\u001b[0m\u001b[0mb2\u001b[0m\u001b[1;33m=\u001b[0m\u001b[0mself\u001b[0m\u001b[1;33m.\u001b[0m\u001b[0mparams\u001b[0m\u001b[1;33m[\u001b[0m\u001b[1;34m'b1'\u001b[0m\u001b[1;33m]\u001b[0m\u001b[1;33m,\u001b[0m \u001b[0mself\u001b[0m\u001b[1;33m.\u001b[0m\u001b[0mparams\u001b[0m\u001b[1;33m[\u001b[0m\u001b[1;34m'b2'\u001b[0m\u001b[1;33m]\u001b[0m \u001b[1;31m#첫번째, 두번째 층의 편향\u001b[0m\u001b[1;33m\u001b[0m\u001b[0m\n\u001b[0;32m     14\u001b[0m \u001b[1;33m\u001b[0m\u001b[0m\n\u001b[1;32m---> 15\u001b[1;33m         \u001b[0ma1\u001b[0m\u001b[1;33m=\u001b[0m\u001b[0mnp\u001b[0m\u001b[1;33m.\u001b[0m\u001b[0mdot\u001b[0m\u001b[1;33m(\u001b[0m\u001b[0mx\u001b[0m\u001b[1;33m,\u001b[0m\u001b[0mW1\u001b[0m\u001b[1;33m)\u001b[0m\u001b[1;33m+\u001b[0m\u001b[0mb1\u001b[0m\u001b[1;33m\u001b[0m\u001b[0m\n\u001b[0m\u001b[0;32m     16\u001b[0m         \u001b[0mz1\u001b[0m\u001b[1;33m=\u001b[0m\u001b[0msigmoid\u001b[0m\u001b[1;33m(\u001b[0m\u001b[0ma1\u001b[0m\u001b[1;33m)\u001b[0m\u001b[1;33m\u001b[0m\u001b[0m\n\u001b[0;32m     17\u001b[0m \u001b[1;33m\u001b[0m\u001b[0m\n",
      "\u001b[1;31mKeyboardInterrupt\u001b[0m: "
     ]
    }
   ],
   "source": [
    "#미니배치 학습 구현\n",
    "(x_train,t_train),(x_test,t_test)=load_mnist(normalize=True, one_hot_label=True)\n",
    "\n",
    "train_loss_list=[]\n",
    "\n",
    "#하이퍼파라미터\n",
    "iters_num=10000\n",
    "train_size=x_train.shape[0]\n",
    "batch_size=100\n",
    "learning_rate=0.1\n",
    "network=TwoLayerNet(input_size=784,hidden_size=50,output_size=10)\n",
    "\n",
    "for i in range(iters_num):\n",
    "    #미니배치 획득\n",
    "    batch_mask=np.random.choice(train_size,batch_size)\n",
    "    x_batch=x_train[batch_mask]\n",
    "    t_batch=t_train[batch_mask]\n",
    "    \n",
    "    #기울기 계산\n",
    "    grad=network.numerical_gradient(x_batch,t_batch) #추후 다루는 고속 미분방법인 오차역전파법을 사용하면 더 좋다.\n",
    "    \n",
    "    #매개변수 갱신\n",
    "    for key in ('W1','b1','W2','b2'):\n",
    "        network.params[key]-=learning_rate*grad[key]\n",
    "    \n",
    "    #학습 경과 기록\n",
    "    loss=network.loss(x_batch,t_batch)\n",
    "    train_loss_list.append(loss)"
   ]
  },
  {
   "cell_type": "code",
   "execution_count": 105,
   "metadata": {},
   "outputs": [
    {
     "ename": "NameError",
     "evalue": "name 'train_acc_list' is not defined",
     "output_type": "error",
     "traceback": [
      "\u001b[1;31m---------------------------------------------------------------------------\u001b[0m",
      "\u001b[1;31mNameError\u001b[0m                                 Traceback (most recent call last)",
      "\u001b[1;32m<ipython-input-105-114d2315e1c3>\u001b[0m in \u001b[0;36m<module>\u001b[1;34m()\u001b[0m\n\u001b[0;32m     12\u001b[0m         \u001b[0mtrain_acc\u001b[0m\u001b[1;33m=\u001b[0m\u001b[0mnetwork\u001b[0m\u001b[1;33m.\u001b[0m\u001b[0maccuracy\u001b[0m\u001b[1;33m(\u001b[0m\u001b[0mx_train\u001b[0m\u001b[1;33m,\u001b[0m\u001b[0mt_train\u001b[0m\u001b[1;33m)\u001b[0m\u001b[1;33m\u001b[0m\u001b[0m\n\u001b[0;32m     13\u001b[0m         \u001b[0mtest_acc\u001b[0m\u001b[1;33m=\u001b[0m\u001b[0mnetwork\u001b[0m\u001b[1;33m.\u001b[0m\u001b[0maccuracy\u001b[0m\u001b[1;33m(\u001b[0m\u001b[0mx_test\u001b[0m\u001b[1;33m,\u001b[0m\u001b[0mt_test\u001b[0m\u001b[1;33m)\u001b[0m\u001b[1;33m\u001b[0m\u001b[0m\n\u001b[1;32m---> 14\u001b[1;33m         \u001b[0mtrain_acc_list\u001b[0m\u001b[1;33m.\u001b[0m\u001b[0mappend\u001b[0m\u001b[1;33m(\u001b[0m\u001b[0mtrain_acc\u001b[0m\u001b[1;33m)\u001b[0m\u001b[1;33m\u001b[0m\u001b[0m\n\u001b[0m\u001b[0;32m     15\u001b[0m         \u001b[0mtrain_acc_list\u001b[0m\u001b[1;33m.\u001b[0m\u001b[0mappend\u001b[0m\u001b[1;33m(\u001b[0m\u001b[0mtest_acc\u001b[0m\u001b[1;33m)\u001b[0m\u001b[1;33m\u001b[0m\u001b[0m\n",
      "\u001b[1;31mNameError\u001b[0m: name 'train_acc_list' is not defined"
     ]
    }
   ],
   "source": [
    "#훈련 데이터의 손실 함수 값이 작아지는 것이 다른 데이터셋에도 똑같이 잘 될지는 모른다. 그래서 데이터를 올바르게 인식하는지를 확인해야한다.\n",
    "#\"오버피팅\"을 일으키지 않는지 확인해야한다.\n",
    "#오버피팅되었다는것은, 훈련데이터만 잘 구분하고 나머지는 식별할 수 없다는 뜻이다.\n",
    "#범용 능력을 평가하려면 훈련 데이터에 포함되지 않은 데이터를 사용해 평가해봐야 한다.\n",
    "#에폭(epoch)은 하나의 단위이다.\n",
    "#1에폭은 학습에서 훈련 데이터를 모두 소진했을 때의 횟수에 해당한다.\n",
    "iter_per_epoch=max(train_size/batch_size,1)\n",
    "\n",
    "for i in range(iters_num):\n",
    "    #1에폭당 정확도 계산\n",
    "    if i%iter_per_epoch==0:\n",
    "        train_acc=network.accuracy(x_train,t_train)\n",
    "        test_acc=network.accuracy(x_test,t_test)\n",
    "        train_acc_list.append(train_acc)\n",
    "        train_acc_list.append(test_acc)"
   ]
  },
  {
   "cell_type": "code",
   "execution_count": null,
   "metadata": {},
   "outputs": [],
   "source": [
    "#정리해보면\n",
    "#훈련 데이터로 학습한 모델의 범용 능력을 시험 데이터로 평가한다.\n",
    "#손실 함수를 지표로, 작아지는 방향으로 가중치 매개변수를 갱신한다."
   ]
  },
  {
   "cell_type": "code",
   "execution_count": 106,
   "metadata": {},
   "outputs": [],
   "source": [
    "#수치미분은 오래걸린다는게 단점인데, 오차역전파법(backpropagation)은 어렵지만 시간이 짧게걸린다.\n",
    "#하나는 수식을 통한 것이고, 다른 하나는 계산 그래프를 통한 것이다.\n",
    "#계산 그래프(computational graph)는 계산 과정을 그래프로 나타낸 것이다.\n",
    "#1.계산 그래프를 구성한다.\n",
    "#2. 그래프에서 계산을 왼쪽에서 오른쪽으로 진행한다. (이것은 순전파)\n",
    "#순전파는 출발점부터 종착점으로의 전파이다.\n",
    "#반대는 역전파인데 이후에 미분을 계산할 때 중요한 역할을 한다.\n",
    "#계산 그래프의 특징은 '국소적 계산'을 전파함으로써 최종 결과를 얻는다는 점에 있다.\n",
    "#국소적이란 자신과 직접 관련된 작은 범위\n",
    "#국소적 계산은 결국 전체에서 어떤 일이 벌어지든 상관없이 자신과 관계된 정보만으로 결과를 출력할 수 있다는 것이다.\n",
    "#국소적 계산은 단순하지만, 그 결과를 전달함으로써 전체를 구성하는 복잡한 계산을 해낼 수 있다.\n",
    "#아무리 복잡해도 각 노드에서는 단순한 계산에 집중하여 문제를 단순화 할 수 있다.\n",
    "#또한, 중간 계산 결과를 모두 보관할 수 있다.\n",
    "#또한, 미분을 효율적으로 계산할 수 있다."
   ]
  },
  {
   "cell_type": "code",
   "execution_count": 107,
   "metadata": {},
   "outputs": [],
   "source": [
    "#국소적 미분을 전달하는 원리는 연쇄법칙(chain rule)에 따른 것이다.\n",
    "#역전파의 계산 절차는 전달되는 신호에 노드의 국소적 미분을 곱한 후 다음 노드로 전달하는 것이다.\n",
    "#국소적 미분은 순전파 때의 미분을 구한다는 것이다."
   ]
  },
  {
   "cell_type": "code",
   "execution_count": 112,
   "metadata": {},
   "outputs": [],
   "source": [
    "#합성함수란 여러 함수로 구성된 함수이다.\n",
    "#합성 함수의 미분은 합성 함수를 구성하는 각 함수의 미분의 곱으로 나타낼 수 있다. 이것이 연쇄법칙의 원리이다.\n",
    "#덧셈 노드의 역전파:입력 값을 그대로 흘려보낸다.\n",
    "#곱셈 노드의 역전파:상류의 값에 순전파 때의 입력 신호들을 \"서로 바꾼 값\"을 곱해서 하류로 보낸다.\n",
    "#순전파때 x가 곱해졌다면 역전파에서는 y를, 순전파때 y가 곱해졌다면 역전파때 x를 곱해서 전달한다"
   ]
  },
  {
   "cell_type": "code",
   "execution_count": 113,
   "metadata": {},
   "outputs": [],
   "source": [
    "#신경망을 구현하는 \"계층\" 각각을 하나의 클래스로 구현한다.\n",
    "#계층은 신경망의 기능 단위이다."
   ]
  },
  {
   "cell_type": "code",
   "execution_count": 117,
   "metadata": {},
   "outputs": [
    {
     "name": "stdout",
     "output_type": "stream",
     "text": [
      "price: 220\n",
      "dApple: 2.2\n",
      "dApple_num: 110\n",
      "dTaxL: 200\n"
     ]
    }
   ],
   "source": [
    "#곱셈 계층\n",
    "class MulLayer: #곱셈 layer\n",
    "    def __init__(self):\n",
    "        self.x=None\n",
    "        self.y=None\n",
    "        \n",
    "    def forward(self,x,y):\n",
    "        self.x=x\n",
    "        self.y=y\n",
    "        out=x*y\n",
    "        return out\n",
    "    \n",
    "    def backward(self, dout): #x와 y를 바꾸어 계산\n",
    "        dx=dout*self.y\n",
    "        dy=dout*self.x\n",
    "        return dx, dy\n",
    "\n",
    "apple=100\n",
    "apple_num=2\n",
    "tax=1.1\n",
    "\n",
    "#계층들\n",
    "mul_apple_layer=MulLayer()\n",
    "mul_tax_layer=MulLayer()\n",
    "\n",
    "#순전파\n",
    "apple_price=mul_apple_layer.forward(apple,apple_num)\n",
    "price=mul_tax_layer.forward(apple_price,tax)\n",
    "\n",
    "dprice=1\n",
    "dapple_price,dtax=mul_tax_layer.backward(dprice)\n",
    "dapple,dapple_num=mul_apple_layer.backward(dapple_price)\n",
    "\n",
    "print(\"price:\",int(price))\n",
    "print(\"dApple:\",dapple)\n",
    "print(\"dApple_num:\",int(dapple_num))\n",
    "print(\"dTaxL:\",dtax)\n",
    "    "
   ]
  },
  {
   "cell_type": "code",
   "execution_count": 118,
   "metadata": {},
   "outputs": [],
   "source": [
    "#덧셈 계층\n",
    "class AddLayer:\n",
    "    def __init__(self):\n",
    "        pass #아무일도 하지 말라는 명령\n",
    "    \n",
    "    def forward(self,x,y):\n",
    "        out=x+y\n",
    "        return out\n",
    "    \n",
    "    def backward(self,dout):\n",
    "        dx=dout*1\n",
    "        dy=dout*1\n",
    "        return dx, dy"
   ]
  },
  {
   "cell_type": "code",
   "execution_count": 140,
   "metadata": {},
   "outputs": [],
   "source": [
    "#ReLU계층\n",
    "#y=x if x>0\n",
    "#  0 if x<=0\n",
    "#미분은 1 if x>0\n",
    "#      0 if x<=0\n",
    "#이는 순전파 때의 입력인 x가 0보다 크면 역전파는 상류의 값을 그대로 하류로 흘린다.\n",
    "#반대로 순전파 때 x가 0이하면 역전파 때는 하류로 신호를 보내지 않는다.\n",
    "class ReLU:\n",
    "    def __init__(self):\n",
    "        self.mask=None\n",
    "        \n",
    "    def forward(self,x):\n",
    "        self.mask=(x<=0)\n",
    "        out=x.copy()\n",
    "        out[self.mask]=0\n",
    "        return out\n",
    "    \n",
    "    def backward(self,dout):\n",
    "        dout[self.mask]=0\n",
    "        dx=dout\n",
    "        return dx\n",
    "#ReLU는 스위치 ON OFF랑 같다."
   ]
  },
  {
   "cell_type": "code",
   "execution_count": 119,
   "metadata": {},
   "outputs": [],
   "source": [
    "#sigmoid 계층\n",
    "#1/(1+e(-x))\n",
    "#미분해보면 역전파 때는 상류에서 흘러온 값에 -y^2을 곱해서 하류로 전달한다.\n",
    "#(dL/dy)y^2exp(-x) 이고 정리된 버전은 (dL/dy)y(1-y) 즉, y만으로 계산할 수 있다.\n",
    "class Sigmoid:\n",
    "    def __init__(self):\n",
    "        self.out=None\n",
    "        \n",
    "    def forward(self,x):\n",
    "        out=1/(1+np.exp(-x))\n",
    "        self.out=out\n",
    "        return out\n",
    "    \n",
    "    def backward(self,dout):\n",
    "        dx=dout*(1.0-self.out)*self.out\n",
    "        return dx"
   ]
  },
  {
   "cell_type": "code",
   "execution_count": 120,
   "metadata": {},
   "outputs": [],
   "source": [
    "#Affine 계층\n",
    "#신경망의 순전파 때 수행하는 행렬의 내적은 기하학에서는 어파인 변환이라고 한다.\n",
    "#XdotW를 하기 때문에 역전파할 때는 W의 위치는 오른쪽, X의 위치는 왼쪽이다.\n",
    "#dL/dX=dL/dY dot W^T\n",
    "#dL/dW=X^T dot dL/dY\n",
    "#^T는 전치행렬로 (i,j)원소를 (j,i)로 바꾼 것"
   ]
  },
  {
   "cell_type": "code",
   "execution_count": 202,
   "metadata": {},
   "outputs": [],
   "source": [
    "#배치용 Affine\n",
    "#순전파의 편향 덧셈은 각각의 데이터에 더해진다.\n",
    "#역전파 때는 각 데이터의 역전파 값이 편향의 원소에 모여야 한다.\n",
    "#dB=np.sum(dY, axis=0) #0번째 축\n",
    "\n",
    "class Affine:\n",
    "    def __init__(self,W,b):\n",
    "        self.W=W\n",
    "        self.b=b\n",
    "        self.x=None\n",
    "        self.dW=None\n",
    "        self.db=None\n",
    "        \n",
    "    def forward(self,x):\n",
    "        self.x=x\n",
    "        out=np.dot(x,self.W)+self.b\n",
    "        return out\n",
    "    \n",
    "    def backward(self, dout):\n",
    "        dx=np.dot(dout,self.W.T) #transposed matrix\n",
    "        self.dW=np.dot(self.x.T,dout)\n",
    "        self.db=np.sum(dout,axis=0)"
   ]
  },
  {
   "cell_type": "code",
   "execution_count": 197,
   "metadata": {},
   "outputs": [],
   "source": [
    "#Softmax-with-loss계층\n",
    "#소프트맥스 함수는 입력 값을 정규화하여 출력한다.\n",
    "#추론할 때는 일반적으로 softmax계층을 사용하지 않는다.\n",
    "#추론할 때는 마지막 Affine계층의 출력을 인식 결과로 이용한다.\n",
    "#신경망에서 정규화하지 않는 출력 결과를 점수(score)라고 한다.\n",
    "#추론에서는 가장 높은 점수만 알면 되나, 신경망을 학습할 때는 softmax계층이 필요.\n",
    "#손실 함수인 교차 엔트로피 오차도 포함\n",
    "#역전파 결과는 (y1-t1,y2-t2,y3-t3) 이다. y는 소프트맥스 계층의 출력, t는 정답 레이블이다.\n",
    "#신경망의 역전파에서는 이 차분이 앞 계층에 전해지는 것이다.\n",
    "#두개를 같이 이용해야 역전파가 y-t로 나온다. 회귀에서도 항등 함수와 평균제곱오차를 이용해 y-t로 나온다.\n",
    "class SoftmaxWithLoss:\n",
    "    def __init__(self):\n",
    "        self.loss=None #손실\n",
    "        self.y=None #softmax 출력\n",
    "        self.t=None #정답 레이블(원-핫 벡터)\n",
    "        \n",
    "    def forward(self,x,y):\n",
    "        self.t=t\n",
    "        self.y=softmax(x)\n",
    "        self.loss=cross_entropy_error(self.y,self.y)\n",
    "        return self.loss\n",
    "    \n",
    "    def backward(self, dout=1):\n",
    "        batch_size = self.t.shape[0]\n",
    "        if self.t.size == self.y.size: # 教師データがone-hot-vectorの場合\n",
    "            dx = (self.y - self.t) / batch_size\n",
    "        else:\n",
    "            dx = self.y.copy()\n",
    "            dx[np.arange(batch_size), self.t] -= 1\n",
    "            dx = dx / batch_size\n",
    "        \n",
    "        return dx"
   ]
  },
  {
   "cell_type": "code",
   "execution_count": 198,
   "metadata": {},
   "outputs": [],
   "source": [
    "#오차역전파법 구현하기\n",
    "#1단계-미니배치:훈련 데이터 중 일부를 무작위로 가져온다. 이렇게 선별한 데이터를 미니배치라 하며, 그 미니배치의 손실 함수 값을 줄이는 것이 목표이다.\n",
    "#2단계-기울기 산출:각 가중치 매개변수의 기울기를 구한다. 기울기는 손실 함수의 값을 가장 작게 하는 방향을 제시한다.\n",
    "#3단계-매개변수 갱신:가중치 매개변수를 기울기 방향으로 아주 조금 갱신한다.\n",
    "#4단계:1~3단계를 반복한다."
   ]
  },
  {
   "cell_type": "code",
   "execution_count": 200,
   "metadata": {},
   "outputs": [],
   "source": [
    "#오차역전파법을 적용한 신경망 구현하기\n",
    "from collections import OrderedDict\n",
    "class TwoLayerNet:\n",
    "    def __init__(self,input_size,hidden_size,output_size,weight_init_std=0.01):\n",
    "        #가중치 초기화\n",
    "        self.params={}\n",
    "        self.params['W1']=weight_init_std*np.random.randn(input_size,hidden_size)\n",
    "        self.params['b1']=np.zeros(hidden_size)\n",
    "        self.params['W2']=weight_init_std*np.random.randn(hidden_size,output_size)\n",
    "        self.params['b2']=np.zeros(output_size)\n",
    "        \n",
    "        #계층 생성\n",
    "        self.layers=OrderedDict() #순서가 보장되어야 한다.\n",
    "        self.layers['Affine1']=Affine(self.params['W1'],self.params['b1'])\n",
    "        self.layers['ReLU1']=ReLU()\n",
    "        self.layers['Affine2']=Affine(self.params['W2'],self.params['b2'])\n",
    "        self.lastLayer=SoftmaxWithLoss()\n",
    "        \n",
    "    def predict(self,x):\n",
    "        for layer in self.layers.values():\n",
    "            x=layer.forward(x)\n",
    "        return x\n",
    "    \n",
    "    def loss(self, x, t):\n",
    "        y=self.predict(x)\n",
    "        return self.lastLayer.forward(y,t)\n",
    "    \n",
    "    def accuracy(self, x, t):\n",
    "        y=self.predict(x)\n",
    "        y=np.argmax(y,axis=1)\n",
    "        if t.ndim!=1:\n",
    "            t=np.argmax(t,axis=1)\n",
    "            \n",
    "        accuracy=np.sum(y==t)/float(x.shape[0])\n",
    "        return accuracy\n",
    "    \n",
    "    def numerical_gradient(self,x,t):\n",
    "        loss_W=lambda W:self.loss(x,t)\n",
    "        \n",
    "        grads={}\n",
    "        grads['W1']=numerical_gradient(loss_W,self.params['W1'])\n",
    "        grads['b1']=numerical_gradient(loss_W,self.params['b1'])\n",
    "        grads['W2']=numerical_gradient(loss_W,self.params['W2'])\n",
    "        grads['b2']=numerical_gradient(loss_W,self.params['b2'])\n",
    "        return grads\n",
    "    \n",
    "    def gradient(self,x,t):\n",
    "        #순전파\n",
    "        self.loss(x,t)\n",
    "        \n",
    "        #역전파\n",
    "        dout=1\n",
    "        dout=self.lastLayer.backward(dout)\n",
    "        \n",
    "        layers=list(self.layers.values())\n",
    "        layers.reverse()\n",
    "        for layer in layers:\n",
    "            dout=layer.backward(dout)\n",
    "            \n",
    "        #결과 저장\n",
    "        grads={}\n",
    "        grads['W1']=self.layers['Affine1'].dW\n",
    "        grads['b1']=self.layers['Affine1'].db\n",
    "        grads['W2']=self.layers['Affine2'].dW\n",
    "        grads['b2']=self.layers['Affine2'].db\n",
    "        return grads"
   ]
  },
  {
   "cell_type": "code",
   "execution_count": 203,
   "metadata": {},
   "outputs": [
    {
     "ename": "TypeError",
     "evalue": "'NoneType' object does not support item assignment",
     "output_type": "error",
     "traceback": [
      "\u001b[1;31m---------------------------------------------------------------------------\u001b[0m",
      "\u001b[1;31mTypeError\u001b[0m                                 Traceback (most recent call last)",
      "\u001b[1;32m<ipython-input-203-24a7f5fd1fd0>\u001b[0m in \u001b[0;36m<module>\u001b[1;34m()\u001b[0m\n\u001b[0;32m      8\u001b[0m \u001b[1;33m\u001b[0m\u001b[0m\n\u001b[0;32m      9\u001b[0m \u001b[0mgrad_numerical\u001b[0m\u001b[1;33m=\u001b[0m\u001b[0mnetwork\u001b[0m\u001b[1;33m.\u001b[0m\u001b[0mnumerical_gradient\u001b[0m\u001b[1;33m(\u001b[0m\u001b[0mx_batch\u001b[0m\u001b[1;33m,\u001b[0m\u001b[0mt_batch\u001b[0m\u001b[1;33m)\u001b[0m\u001b[1;33m\u001b[0m\u001b[0m\n\u001b[1;32m---> 10\u001b[1;33m \u001b[0mgrad_backprop\u001b[0m\u001b[1;33m=\u001b[0m\u001b[0mnetwork\u001b[0m\u001b[1;33m.\u001b[0m\u001b[0mgradient\u001b[0m\u001b[1;33m(\u001b[0m\u001b[0mx_batch\u001b[0m\u001b[1;33m,\u001b[0m\u001b[0mt_batch\u001b[0m\u001b[1;33m)\u001b[0m\u001b[1;33m\u001b[0m\u001b[0m\n\u001b[0m\u001b[0;32m     11\u001b[0m \u001b[1;33m\u001b[0m\u001b[0m\n\u001b[0;32m     12\u001b[0m \u001b[1;32mfor\u001b[0m \u001b[0mkey\u001b[0m \u001b[1;32min\u001b[0m \u001b[0mgrad_numerical\u001b[0m\u001b[1;33m.\u001b[0m\u001b[0mkeys\u001b[0m\u001b[1;33m(\u001b[0m\u001b[1;33m)\u001b[0m\u001b[1;33m:\u001b[0m\u001b[1;33m\u001b[0m\u001b[0m\n",
      "\u001b[1;32m<ipython-input-200-39121ba38f4a>\u001b[0m in \u001b[0;36mgradient\u001b[1;34m(self, x, t)\u001b[0m\n\u001b[0;32m     56\u001b[0m         \u001b[0mlayers\u001b[0m\u001b[1;33m.\u001b[0m\u001b[0mreverse\u001b[0m\u001b[1;33m(\u001b[0m\u001b[1;33m)\u001b[0m\u001b[1;33m\u001b[0m\u001b[0m\n\u001b[0;32m     57\u001b[0m         \u001b[1;32mfor\u001b[0m \u001b[0mlayer\u001b[0m \u001b[1;32min\u001b[0m \u001b[0mlayers\u001b[0m\u001b[1;33m:\u001b[0m\u001b[1;33m\u001b[0m\u001b[0m\n\u001b[1;32m---> 58\u001b[1;33m             \u001b[0mdout\u001b[0m\u001b[1;33m=\u001b[0m\u001b[0mlayer\u001b[0m\u001b[1;33m.\u001b[0m\u001b[0mbackward\u001b[0m\u001b[1;33m(\u001b[0m\u001b[0mdout\u001b[0m\u001b[1;33m)\u001b[0m\u001b[1;33m\u001b[0m\u001b[0m\n\u001b[0m\u001b[0;32m     59\u001b[0m \u001b[1;33m\u001b[0m\u001b[0m\n\u001b[0;32m     60\u001b[0m         \u001b[1;31m#결과 저장\u001b[0m\u001b[1;33m\u001b[0m\u001b[1;33m\u001b[0m\u001b[0m\n",
      "\u001b[1;32m<ipython-input-140-cf7f417170ea>\u001b[0m in \u001b[0;36mbackward\u001b[1;34m(self, dout)\u001b[0m\n\u001b[0;32m     17\u001b[0m \u001b[1;33m\u001b[0m\u001b[0m\n\u001b[0;32m     18\u001b[0m     \u001b[1;32mdef\u001b[0m \u001b[0mbackward\u001b[0m\u001b[1;33m(\u001b[0m\u001b[0mself\u001b[0m\u001b[1;33m,\u001b[0m\u001b[0mdout\u001b[0m\u001b[1;33m)\u001b[0m\u001b[1;33m:\u001b[0m\u001b[1;33m\u001b[0m\u001b[0m\n\u001b[1;32m---> 19\u001b[1;33m         \u001b[0mdout\u001b[0m\u001b[1;33m[\u001b[0m\u001b[0mself\u001b[0m\u001b[1;33m.\u001b[0m\u001b[0mmask\u001b[0m\u001b[1;33m]\u001b[0m\u001b[1;33m=\u001b[0m\u001b[1;36m0\u001b[0m\u001b[1;33m\u001b[0m\u001b[0m\n\u001b[0m\u001b[0;32m     20\u001b[0m         \u001b[0mdx\u001b[0m\u001b[1;33m=\u001b[0m\u001b[0mdout\u001b[0m\u001b[1;33m\u001b[0m\u001b[0m\n\u001b[0;32m     21\u001b[0m         \u001b[1;32mreturn\u001b[0m \u001b[0mdx\u001b[0m\u001b[1;33m\u001b[0m\u001b[0m\n",
      "\u001b[1;31mTypeError\u001b[0m: 'NoneType' object does not support item assignment"
     ]
    }
   ],
   "source": [
    "#오차역전파법으로 구한 기울기 검증하기\n",
    "#수치 미분의 결과와 오차역전파법의 결과를 비교하여 검증하는 기울기 확인을 한다\n",
    "(x_train,t_train),(x_test,t_test)=load_mnist(normalize=True,one_hot_label=True)\n",
    "network=TwoLayerNet(input_size=784, hidden_size=50, output_size=10)\n",
    "\n",
    "x_batch=x_train[:3]\n",
    "t_batch=t_train[:3]\n",
    "\n",
    "grad_numerical=network.numerical_gradient(x_batch,t_batch)\n",
    "grad_backprop=network.gradient(x_batch,t_batch)\n",
    "\n",
    "for key in grad_numerical.keys():\n",
    "    diff=np.average(np.abs(grad_backprop[key]-grad_numerical[key]))"
   ]
  },
  {
   "cell_type": "code",
   "execution_count": 148,
   "metadata": {},
   "outputs": [],
   "source": [
    "#결과오차가 0이 되는 일은 드물다. 0에 아주 가까워진다. 그 값이 크면 잘못 구현한듯\n",
    "#계산 그래프를 이용하면 계산 과정을 시각적으로 파악할 수 있다.\n",
    "#계산 그래프의 노드는 국소적으로 계산한다. 국소적 계산을 조합해 전체 계산을 구성한다.\n",
    "#계산 그래프의 순전파는 통상의 계산을 수행한다. 역전파로는 각 노드의 미분을 구할 수 있다.\n",
    "#신경망의 구성 요소를 계층으로 구현하여 기울기를 효율적으로 계산(오차역전파법)\n",
    "#수치 미분과 오차역전파법의 결과를 비교하면 확인할 수 있다."
   ]
  },
  {
   "cell_type": "code",
   "execution_count": 151,
   "metadata": {},
   "outputs": [],
   "source": [
    "#매개변수 갱신\n",
    "#매개변수의 최적값을 찾아야하고, 이런것을 최적화(optimization)이라고 한다.\n",
    "#W*<-W-aG W는 갱신할 가중치 매개변수 G는 Gradient a는 학습률\n",
    "class SGD:\n",
    "    def __init__(self,lr=0.01):\n",
    "        self.lr=lr\n",
    "        \n",
    "    def update(self,params,grads):\n",
    "        for key in params.keys():\n",
    "            params[key]-=self.lr*grads[key]\n",
    "#대부분의 딥러닝 프레임워크는 다양한 최적화 기법을 구현해 제공한ㄴ다."
   ]
  },
  {
   "cell_type": "code",
   "execution_count": 152,
   "metadata": {},
   "outputs": [],
   "source": [
    "#SGD의 단점\n",
    "#단순하고 구현도 쉽지만, 문제에 따라서 비효율적일 때가 있다.\n",
    "#비등방성(anisotropy)함수(기울기가 달라지는 함수)에서는 탐색 경로가 비효율적이라는 것이다.\n",
    "#단점을 개선해주는 모멘텀, AdaGrad, Adam이라는 방법들이다"
   ]
  },
  {
   "cell_type": "code",
   "execution_count": 157,
   "metadata": {},
   "outputs": [],
   "source": [
    "#모멘텀\n",
    "#모멘텀(momentum)은 운동량을 뜻하는 단어, 기울기 방향으로 힘을 받아 물체가 가속된다는 물리 법칙\n",
    "#v<-av-zeta*dL/dW\n",
    "#W<-W+v\n",
    "#a는 momentum으로 0.9등의 값. (av값은 물체가 아무런 힘을 받지 않을 때 서서히 하강시키는 역할) zeta는 학습률이다.\n",
    "class Momentum:\n",
    "    def __init__(self, lr=0.01,momentum=0.9):\n",
    "        self.lr=lr\n",
    "        self.momentum=momentum\n",
    "        self.v=None #velocity\n",
    "        \n",
    "    def update(self,params,grads):\n",
    "        if self.v is None:\n",
    "            self.v={}\n",
    "            for key, val in params.items():\n",
    "                self.v[key]=np.zeros_like(val)\n",
    "                \n",
    "            for key in params.keys():\n",
    "                self.v[key]=self.momentum*self.v[key]-self.lr*grads[key]\n",
    "                params[key]+=self.v[key]\n",
    "#SGD에서 기울기의 변화에 따라 지그재그로 춤추던 학습 그래프가, Momentum에서는 공이 그릇바닥을 구르듯 훨씬 적은 wave를 만들어 최저값을 찾는다."
   ]
  },
  {
   "cell_type": "code",
   "execution_count": 158,
   "metadata": {},
   "outputs": [],
   "source": [
    "#AdaGrad\n",
    "#학습률 값이 너무 작으면 학습 시간이 너무 길어지고, 반대로 너무 크면 발산하여 학습이 제대로 이루어지지 않는다.\n",
    "#그래서 학습률을 정하는 효과적 기술로 학습률감소(learning rate decay)가 있다.\n",
    "#학습을 진행하면서 학습률을 점차 줄여가는 방법이다.\n",
    "#처음에는 크게 학습하다가 조금씩 작게학습한다는 얘기로, 실제 신경망 학습에 자주 쓰인다.\n",
    "#가장 간단한 방법은 매개변수 \"전체\"의 학습률 값을 일괄적으로 낮추는 것이다.\n",
    "#이를 발전시킨것이 AdaGrad이다. 이것은 '각각의' 매개변수에 '맞춤형'값을 만들어 준다.\n",
    "#AdaGrad는 개별 매개변수에 adaptive 학습률을 조정하면서 학습을 진행한다.\n",
    "#h<-h+dL/dW O dL/dW\n",
    "#W<-W-zeta*1/h^0.5*dL/dW\n",
    "#h는 기존 기울기값을 제곱하여 계속 더해준다. O는 행렬의 원소별 곱셈을 의미.\n",
    "#매개변수를 갱신할 때 1/h^0.5를 곱해 학습률을 조정한다.\n",
    "#매개변수의 원소 중에서 많이 움직인 원소는 학습률이 낮아진다는 뜻인데, 다시 말해 학습률 감소가 매개변수의 원소마다 다르게 적용\n",
    "#AdaGrad는 과거의 기울기를 제곱하여 계속 더해간다. 그래서 학습을 진행할수록 갱신 강도가 약해진다.\n",
    "#무한히 계속 학습한다면 어느 순간 갱신량이 0이 되어 전혀 갱신되지 않는다.\n",
    "#이것을 개선한 기법이 RMSProp이라는 방법이다.\n",
    "#이것은 과거의 모든 기울기를 균일하게 더해가는 것이 아니라, 먼 과거의 기울기는 서서히 잊고 새로운 기울기 정보를 크게 반영한다.\n",
    "#이를 지수이동편균(Exponential Moving Average, EMA)라고 하며, 과거 기울기의 반영 규모를 기하급수적으로 감소한다.\n",
    "class AdaGrad:\n",
    "    def __init__(self, lr=0.01):\n",
    "        self.lr=lr\n",
    "        self.h=None\n",
    "        \n",
    "    def update(self, paras, grads):\n",
    "        if self.h is None:\n",
    "            self.h={}\n",
    "            for key, val in params.items():\n",
    "                self.h[key]=np.zeors_like(val)\n",
    "                \n",
    "        for key in params.keys():\n",
    "            self.h[key]+=grads[key]*grads[key]\n",
    "            params[key]-=self.lr*grads[key]/(np.sqrt(self.h[key])+1e-7) #divide by 0막기"
   ]
  },
  {
   "cell_type": "code",
   "execution_count": 159,
   "metadata": {},
   "outputs": [],
   "source": [
    "#Adam\n",
    "#Momentum은 공이 그릇 바닥을 구르는 듯한 움직임을 보였다.\n",
    "#AdaGrad는 매개변수의 원소마다 적응적으로 갱신 정도를 조정했다.\n",
    "#이 두 기법을 융합한 것이 Adam이다.\n",
    "#또한, 하이퍼파라미터의 \"편향 보정\"이 진행된다는 점도 Adam의 특징이다.\n",
    "#Adam의 갱신과정도 그릇 바닥을 구르듯 움직이지만, 기본 모멘텀에 비해 공의 좌우 흔들림이 적다.\n",
    "#이는 학습의 갱신 강도를 적응적으로 조정해서 얻는 혜택이다.\n",
    "#Adam은 하이퍼파라미터를 3개 설정한다.\n",
    "#하나는 학습률, 나머지 두개는 일차 모멘텀용 계수 베타1, 이차 모멘텀용 계수 베타2이다.\n",
    "#논문의 베타1은 0.9, 베타2는 0.999이며, 이 값이면 많은 경우에 좋은 결과를 얻을 수 있다고 한다."
   ]
  },
  {
   "cell_type": "code",
   "execution_count": 160,
   "metadata": {},
   "outputs": [],
   "source": [
    "#어느 갱신 방법을 이용할 것인가?\n",
    "#결론적으론 모든 문제에서 항상 뛰어난 기법은 없다."
   ]
  },
  {
   "cell_type": "code",
   "execution_count": 161,
   "metadata": {},
   "outputs": [],
   "source": [
    "#MNIST 데이터셋으로 본 갱신 방법 비교\n",
    "#일반적으로는 SGD보다는 다른 세 기법이 빠르게 학습하고, 최종 정확도도 높게 나타나는 편이다."
   ]
  },
  {
   "cell_type": "code",
   "execution_count": 162,
   "metadata": {},
   "outputs": [],
   "source": [
    "#가중치의 초깃값\n",
    "#오버피팅을 억제해 범용 성능을 높이는 테크닉으로 가중치 감수(weight decay)가 있다.\n",
    "#즉, 가중치 매개변수의 값이 작아지도록 학습하는 방법이다. 가중치 값을 작게하여 오버피팅이 일어나지 않게하는 것이다.\n",
    "#그러나 0부터시작하면 학습이 올바로 이뤄지지 않는다. 정확히는 가중치를 균일한 값으로 설정해서는 안된다.\n",
    "#바로 오차역전파법에서 모든 가중치의 값이 똑같이 갱신되기 때문이다.\n",
    "#그러면 가중치를 여러개 갖는 의미를 사라지게 한다.\n",
    "#따라서 '가중치가 고르게 되어버리는 상황'을 막으려면 (대칭적인 구조를 무너뜨리려면) 초깃값을 무작위로 설정해야 한다.\n",
    "#지금까지 가중치의 초깃값은 0.01(표준편차)*np.random.randn(10,100)처럼 정규분포에서 생성되는 값을 사용했다."
   ]
  },
  {
   "cell_type": "code",
   "execution_count": 163,
   "metadata": {},
   "outputs": [],
   "source": [
    "#은닉층의 활성화값 분포\n",
    "#은닉층의 활성화값(활성화 함수의 출력 데이터)의 분포를 관찰하면 중요한 정보를 얻을 수 있다.\n",
    "#시그모이드 함수는 출력이 작아지거나 커지면서 기울기가 0에 다가간다.\n",
    "#그래서 데이터가 큰 값 혹은 작은 값에 치우쳐 분포하게 되면 역전파의 기울기 값이 점점 작아지다가 사라진다.\n",
    "#이것이 기울기 소실(gradient vanishing)이라 알려진 문제이다.\n",
    "#딥러닝에서는 기울기 소실은 더 심각한 문제가 될 수 있다.\n",
    "#각 층에서 활성화값들이 같은 패턴을 보이는 것은 그것대로 문제이다.\n",
    "#뉴런을 여러 개 둔 의미가 없다는 의미이다.\n",
    "#그래서 활성화값들이 치우치면 \"표현력을 제한\"한다는 관점에서 문제가 된다.\n",
    "#각 층의 활성화값은 적당히 고루 분포되어야 한다.\n",
    "#층과 층 사이에 적당하게 다양한 데이터가 흐르게 해야 신경만 학습이 효율적으로 이뤄지기 때문이다.\n",
    "#반대로 치우친 데이터가 흐르면 기울기 소실이나 표현력 제한 문제에 빠져 학습이 잘 이뤄지지 않는 경우가 생긴다.\n",
    "#Xavier 초기값은 일반적인 딥러닝 프레임워크들이 표준적으로 이용하고 있다.\n",
    "#각 층의 활성화값들을 광범위하게 분포시킬 목적으로 가중치의 적절한 분포를 찾고자 했고, 앞 계층의 노드가 n개라면 표준편차가 1/n^0.5인 분포를 사용하면 된다.\n",
    "#Xavier 초깃값을 사용하면 앞 층에 노드가 많을수록 대상 노드의 초기값으로 설정하는 가중치가 좁게 퍼진다.\n",
    "#Xavier초기값을 사용했을 때 layer를 통과하면서 그래프가 일그러지는 것은 sigmoid 대신 tanh(쌍곡선)을 이용하면 개선된다.\n",
    "#실제로 tanh함수를 이용하면 말끔한 종 모양으로 분포된다.\n",
    "#활성화 함수용으로는 원점에서 대칭인 함수가 바람직하다고 알려져 있다."
   ]
  },
  {
   "cell_type": "code",
   "execution_count": 164,
   "metadata": {},
   "outputs": [],
   "source": [
    "#ReLU를 사용할 때의 가중치 초기값\n",
    "#Xavier초기값은 활성화 함수가 선형인 것을 전제로 이끈 결과. 중앙 부근이 선형인 함수이다.\n",
    "#반면, ReLU를 이용할 때 ReLU에 특화된 초기값을 이용하라고 권장한다.\n",
    "#\"He 초기값\"은 앞 계층의 노드가 n개일 때, 표준편차가(2/n)^0.5인 정규분포를 사용.\n",
    "#ReLU는 음의 영역이 0이라서 더 넓게 분포시키기 위해 2배의 계속가 필요하다는 느낌.\n",
    "#활성화 값들이 작은 값이라는 것은 신경망에 작은 데이터가 흐른다는 것이다.\n",
    "#이는 역전파 때 가중치의 기울기 역시 작아진다는 뜻이다.(소실도)\n",
    "#이는 실제로는 학습이 거의 이뤄지지 않음을 이야기한다.\n",
    "#따라서 활성화 함수로 ReLU를 사용할 때는 He초기값 sigmoid나 tanh등의 s자 모양 곡선일 때는 Xavier초기값을 사용하는 것이 좋다."
   ]
  },
  {
   "cell_type": "code",
   "execution_count": 165,
   "metadata": {},
   "outputs": [],
   "source": [
    "#배치 정규화\n",
    "#가중치의 초기값을 적절히 설정하면 각 층의 활성화 값 분포가 적당히 퍼지면서 학습이 원활하게 수행된다.\n",
    "#각 층이 활성화를 적당히 퍼뜨리도록 '강제'할 수도 있는데, 이를 배치 정규화(Batch Normalization)이라고 한다.\n",
    "#1.학습을 빨리 진행할 수 있다.(학습 속도 개선)\n",
    "#2. 초기값에 크게 의존하지 않는다.\n",
    "#3. 오버피팅을 억제한다.(드롭아웃 등의 필요성 감소)\n",
    "#기본 아이디어는 각 층에서의 활성화값이 적당히 분포되도록 조정하는 것이다.\n",
    "#데이터 분포를 정규화하는 '배치 정규화 계층(Batch Norm)'을 신경망에 삽입할 수 있다. (Affine과 Activation Function 사이에)\n",
    "#이는 학습시 미니배치 단위로 정규화한다.\n",
    "#구체적으로는 데이터 분포가 평균이 0, 분산이 1이 되도록 정규화한다.\n",
    "#배치 정규화 계층을 활성화 함수의 앞혹은 뒤에 삽입함으로써 데이터 분포가 덜 치우치게 할 수 있다.\n",
    "#또, 배치 정규화 계층마다 이 정규화된 데이터에 고유한 확대(scale)과 이동(shift)변환을 수행한다."
   ]
  },
  {
   "cell_type": "code",
   "execution_count": 167,
   "metadata": {},
   "outputs": [],
   "source": [
    "#배치 정규화의 효과\n",
    "#학습 진도가 빠르고, 배치 정규화를 이용하지 않는 경우엔 초기값이 잘 분포되어 있지 않으면 학습이 전혀 진행되지 않기도 한다.\n",
    "#바른 학습을 위해\n",
    "#훈련 데이터에는 포함되지 않는, 아직 보지 못한 데이터가 주어져도 바르게 식별해내는 모델이 바람직하다.\n",
    "#오버피팅 원인\n",
    "#1.매개변수가 많고 표현력이 높은 모델(층 수가 많다)\n",
    "#2.훈련 데이터가 적음"
   ]
  },
  {
   "cell_type": "code",
   "execution_count": 168,
   "metadata": {},
   "outputs": [],
   "source": [
    "#가중치 감소\n",
    "#학습 과정에서 큰 가중치에 대해서는 그에 상응하는 큰 페널티를 부과하여 오버피팅을 억제하는 방법이다.\n",
    "#원래 오버피팅은 가중치 매개변수의 값이 커서 발생하는 경우가 많기 때문이다.\n",
    "#신경망 학습의 목적은 손실 함수의 값을 줄이는 것.\n",
    "#가중치의 제곱법칙(L2 법칙)을 손실함수에 더하면 가중치가 커지는 것을 억제할 수 있다.\n",
    "#L2법칙은 각 원소의 제곱들을 더한 것에 해당한다.\n",
    "#가중치가 있다면 L2법칙에서는 (w1^2+w2^2+...)^0.5로 계산할 수 있다.\n",
    "#L2법칙 외에 L1법칙과 L무한대 법칙도 있다.\n",
    "#L1법칙은 절대값의 합 |w1|+|w2|+..에 해당한다.\n",
    "#가중치 감소를 사용하면 training data의 정확도는 줄어들지만, test data와의 정확도 차도 줄어든다."
   ]
  },
  {
   "cell_type": "code",
   "execution_count": 169,
   "metadata": {},
   "outputs": [],
   "source": [
    "#드롭아웃\n",
    "#신경망 모델이 복잡해지면 가중치 감소만으로는 대응하기 어려워진다. 그럴 때 Dropout이란 기법을 이용한다.\n",
    "#드롭아웃은 뉴런을 임의로 삭제하면서 학습하는 방법이다.\n",
    "#훈련 때 은닉층의 뉴런을 무작위로 골라 삭제한다. 삭제된 뉴런은 신호를 전달하지 않게 된다.\n",
    "#훈련때는 데이터를 흘릴 때마다 삭제할 뉴런을 무작위로 선택하고, 시험 때는 모든 뉴런에 신호를 전달한다.\n",
    "#단, 시험 때는 각 뉴런의 출력에 훈련 때 삭제한 비율을 곱하여 출력한다.\n",
    "class Droupout:\n",
    "    def __init__(self, dropout_ratio=0.5):\n",
    "        self.dropout_ratio=dropout_ratio\n",
    "        self.mask=None\n",
    "        \n",
    "    def forward(self,x,train_flg=True):\n",
    "        if train_flg:\n",
    "            self.mask=np.random.rand(*x.shape)>self.dropout_ratio\n",
    "            return x*self.mask\n",
    "        else:\n",
    "            return x*(1.0-self.dropout_ratio)\n",
    "    \n",
    "    def backward(self, dout):\n",
    "        return dout*self.mask\n",
    "#드롭아웃을 사용하면 training data의 정확도는 줄어들지만, test data와의 정확도 차도 줄어든다.\n",
    "#기계학습에서는 앙상블학습(ensemble learning)을 애용한다.\n",
    "#앙상블 학습은 개별적으로 학습시킨 여러 모델의 출력을 평균 내어 추론하는 방식이다.\n",
    "#신경망의 맥락에서 얘기하면 비슷한 구조의 네트워크 5개를 준비하여 따로따로 학습시키고, 시험 때는 그 5개 출력을 평균내어 답하는 것이다.\n",
    "#정확도가 몇 %개선된다는 것이 실험적으로 알려져 있다.\n",
    "#앙상블 학습은 드롭아웃과 밀접하다.\n",
    "#드롭아웃이 학습 때 뉴런을 무작위로 삭제하는 행위를 매번 다른 모델로 학습시키는 것으로 해석할 수 있기 때문이다.\n",
    "#그리고 추론 때는 뉴런의 출력에 삭제한 비율을 곱함으로써 앙상블 학습에서 여러 모델의 평균을 내는 것과 같은 효과\n",
    "#즉, 드롭아웃은 앙상블 학습과 같은 효과를 하나의 네트워크로 구현했다고 생각할 수 있다."
   ]
  },
  {
   "cell_type": "code",
   "execution_count": 170,
   "metadata": {},
   "outputs": [],
   "source": [
    "#적절한 하이퍼파라미터 값 찾기\n",
    "#하이퍼파라미터는 각 층의 뉴런 수, 배치크기, 매개변수 갱신시의 학습률과 가중치 감소 등이다."
   ]
  },
  {
   "cell_type": "code",
   "execution_count": 171,
   "metadata": {},
   "outputs": [],
   "source": [
    "#검증 데이터\n",
    "#하이퍼파라미터의 성능을 평가할 때는 시험 데이터를 사용해서는 안된다.\n",
    "#이유는 시험 데이터를 사용하여 하이퍼파라미터를 조정하면 하이퍼파라미터 값이 시험 데이터에 오버피팅되기 때문이다.\n",
    "#하이퍼파라미터의 값이 시험 데이터에만 적합하도록 조정된다는 것이다. 그러면 범용성이 떨어진다.\n",
    "#조정할 때는 그래서 하이퍼파라미터 전용 확인 데이터가 필요하다. 일반적으로 검증데이터(validation data)라고 부른다.\n",
    "#훈련데이터:매개변수 학습\n",
    "#검증데이터:하이퍼파라미터 성능 평가\n",
    "#시험데이터:신경망의 범용 성능 평가\n",
    "\n",
    "#훈련데이터에서 검증 데이터를 얻는 가장 간단한 방법은 훈련 데이터중 20%정도를 검증 데이터로 분리하는 것이다."
   ]
  },
  {
   "cell_type": "code",
   "execution_count": 172,
   "metadata": {},
   "outputs": [],
   "source": [
    "#하이퍼파라미터 최적화\n",
    "#최적화 핵심은 \"최적값\"이 존재하는 범위를 조금씩 줄여간다는 것이다.\n",
    "#범위를 조금씩 줄이려면 우선 대략적인 범위를 설정하고 그 범위에서 무작위로 하이퍼파라미터 값을 골라내(샘플링) 후, 그 값으로 정화도를 평가한다.\n",
    "#정확도를 잘 살피면서 이 작업을 여러 번 반복해서 최적값 범위를 좁혀가는 것이다.\n",
    "#최적화에는 그리드 서치(grid search) 같은 규칙적인 탐색보다는 무작위로 샘플링해 탐색하는 편이 좋은 결과를 낸다라고 알려져 있다.\n",
    "#이는 최종 정확도에 미치는 영향력이 하이퍼 파라미터마다 다르기 때문이다.\n",
    "#범위는 대략적으로 지정하는 것이 효과적이다.\n",
    "#실제로도 0.001에서 1.000과 같이 10의 거듭제곱 단위로 범위를 지정한다. 이를 로그 스케일로 지정한다고 한다.\n",
    "#최적화할 때는 딥러닝 학습에는 오랜 시간(며칠이상 몇주)이 걸린다는 점을 기억해야 한다.\n",
    "#나쁠 듯한 값은 일찍 포기하는 것이 좋다.\n",
    "#학습을 위한 에폭을 작게하여, 1회 평가에 걸리느 시간을 단축하는 것이 효과적이다.\n",
    "#0단계:하이퍼파라미터 값의 범위를 설정\n",
    "#1단계:설정된 범위에서 하이퍼파라미터의 값을 무작위로 추출\n",
    "#2단계:1단계에서 샘플링한 하이퍼파라미터 값을 사용하여 학습하고, 검증 데이터로 정확도를 평가(단, 에폭을 작게 설정)\n",
    "#3단계:1단계와 2단계를 특정횟수(100회 등) 반복하여, 그 정확도의 결과를 보고 하이퍼파라미터의 범위를 좁힌다.\n",
    "\n",
    "#최적화방법은 실용적인 방법이다. 지혜와 직관에 의존된다.\n",
    "#더 세련된 기법을 원한다면 베이즈 최적화(Bayesian optimization)을 쓸 수 있다.\n",
    "#베이즈 최적화는 베이즈정리를 중심으로 한 수학 이론을 구사하여 더 엄밀하고 효율적으로 최적화를 수행한다."
   ]
  },
  {
   "cell_type": "code",
   "execution_count": 174,
   "metadata": {},
   "outputs": [],
   "source": [
    "#하이퍼파라미터 최적화 구현하기\n",
    "weight_decay=10**np.random.uniform(-8,-4) #10^(-8)~10^(-4)\n",
    "lr=10**np.random.uniform(-6,-2) #10^(-6)~10^(-2)\n",
    "#하이퍼파라미터 최적화를 한 후 돌려보면 학습이 잘 진행되는 범위가 좁혀진다.\n",
    "#계속 좁히다가 특정 단계에서 최종 하이퍼파라미터 값을 하나 선택해서 진행한다."
   ]
  },
  {
   "cell_type": "code",
   "execution_count": 175,
   "metadata": {},
   "outputs": [],
   "source": [
    "#정리를 해보면\n",
    "#매개변수 갱신 방법에는 SGD외에도 Momentum, AdaGrad, Adam등이 있다.\n",
    "#가중치 초기값을 정하는 방법은 올바른 학습을 하는데 매우 중요하다.\n",
    "#가중치의 초기값으로는 Xavier초기값과 He초기값이 효과적.\n",
    "#배치 정규화를 이용하면 학습을 빠르게 진행할 수 있으면, 초기값에 영향을 덜 받게 된다.\n",
    "#하이퍼파라미터 값 탐색은 최적값이 존재할 법한 범위를 점차 좁히면서 하는 것이 효과적이다."
   ]
  },
  {
   "cell_type": "code",
   "execution_count": 176,
   "metadata": {},
   "outputs": [],
   "source": [
    "#합성곱 신경망(Convolutional Neutral Network, CNN)\n",
    "#CNN은 이미지 인식과 음성 인식 등 다양한 곳에서 사용된다.\n",
    "#특히 이미지 인식 분야에서 딥러닝을 활용한 기법은 거의 다 CNN을 기초로 한다."
   ]
  },
  {
   "cell_type": "code",
   "execution_count": 177,
   "metadata": {},
   "outputs": [],
   "source": [
    "#전체구조\n",
    "#CNN도 기존 신경망과 같이 블록처럼 계층을 조합하여 만들 수 있다.\n",
    "#지금까지 본 신경망은 인접하는 계층의 모든 뉴런과 결합되어 있었다.\n",
    "#이를 완전연결(fully connected, 전결합)이라고 한다.\n",
    "#완전히 연결된 계층을 Affine 계층이라는 이름으로 구현했다.\n",
    "#완전연결 신경망은 Affine 계층 뒤에 활성화 함수를 갖는 ReLU계층(이나 Sigmoid)이 이어진다.\n",
    "#CNN계층은 합성곱 계층(conv)와 풀링 계층(pooling)이 추가된다.\n",
    "#Conv-ReLU-(Pooling)흐름으로 연결된다. (풀링은 생략되기도 한다)\n",
    "#CNN에서 주목할 또 다른 점은 출력에 가까운 층에서는 지금까지의 Affine-ReLU구성을 사용할 수 있다는 것이고, 마지막 출력 계층에서는 Affine-Softmax조합을 그대로 사용한다.\n",
    "#(Conv-ReLU-Pooling-Conv-ReLU-Pooling-Conv-ReLU-Affine-ReLU-Affine-Softmax느낌)"
   ]
  },
  {
   "cell_type": "code",
   "execution_count": 178,
   "metadata": {},
   "outputs": [],
   "source": [
    "#합성곱 계층\n",
    "#CNN에서는 패팅(padding), 스트라이드(stride)등 CNN고유 용어가 나온다.\n",
    "#각 계층 사이에는 3차원 데이터같이 입체적인 데이터가 흐른다는 점에서 완전연결 신경망과 다르다."
   ]
  },
  {
   "cell_type": "code",
   "execution_count": 179,
   "metadata": {},
   "outputs": [],
   "source": [
    "#완전연결 계층의 문제점\n",
    "#완전연결 신경망에서는 완전연결 계층(Affine)을 이용했다.\n",
    "#완전연결 계층에서는 인접하는 계층의 뉴런이 모두 연결되고 출력의 수는 임의로 정할 수 있다.\n",
    "#문제점은 \"데이터의 형상이 무시\"된다는 사실이다.\n",
    "#이미지는 세로, 가로, 채널(색상)로 구성된 3차원 데이터이다.\n",
    "#그러나 완전연결 계층에 입력할 때는 3차원 데이터를 평평평 1차원 데이터로 평탄화해줘야 한다.\n",
    "#이미지는 3차원 형상이며, 이 형상에는 소중한 공간적 정보가 담겨 있다.\n",
    "#예를 들어, 공간적으로 가까운 픽셀은 값이 비슷하거나, RGB의 각 채널은 서로 밀접하게 관련되어 있거나, 거리가 먼 픽셀끼리는 별 연관이 없는등, 3차원 속에서 의미를 갖는 본질적인 패턴이 있다.\n",
    "#완전연결 계층은 형상을 무시하고 모든 입력 데이터를 동등한 뉴런(같은 차원의 뉴런)으로 취급하여 형상에 담긴 정보를 살릴 수 없다.\n",
    "#하지만 합성 계층은 형상을 유지한다. 이미지도 3차원 데이터로 입력받으며, 3차원 데이터로 전달한다.\n",
    "#CNN에서는 이미지처럼 형상을 가진 데이터를 제대로 이해할 가능성이 있다는 것이다.\n",
    "#CNN에서는 합성곱 계층의 입출력 데이터를 특징맵(feature map)이라고도 한다.\n",
    "#입력데이터를 input feature map, 출력데이터를 output feature map"
   ]
  },
  {
   "cell_type": "code",
   "execution_count": 180,
   "metadata": {},
   "outputs": [],
   "source": [
    "#합성곱 연산\n",
    "#합성곱 계층에서는 합성곱 연산은 처리한다.\n",
    "#합성곱 연산은 이미지 처리에서 말하는 \"필터 연산\"에 해당한다.\n",
    "#필터를 커널이라 하기도 한다.\n",
    "#합성곱 연산은 필터의 윈도우(window)를 일정 간격으로 이동해가며 입력 데이터에 적용한다.\n",
    "#입력과 필터에서 대응하는 원소끼리 곱한후 그 총합을 구한다.(이 계산을 단일 곱셈-누산(fussed multiply_add,FMA)라 한다)\n",
    "#그리고 그 결과를 출력의 해당 장소에 저장한다.\n",
    "#이 과정을 모든 장소에서 수행하면 합성곱 연산의 출력이 완성된다.\n",
    "\n",
    "#CNN에서는 필터의 매개변수가 그동안의 '가중치'에 해단한다. 편향도 존재한다."
   ]
  },
  {
   "cell_type": "code",
   "execution_count": 181,
   "metadata": {},
   "outputs": [],
   "source": [
    "#패딩\n",
    "#합성곱 연산을 수행하기 전에 입력 데이터 주변을 특정값(보통 0)으로 채우기도 한다.\n",
    "#폭 1짜리 패딩이라 하면 입력 데이터 사방 1픽셀을 특정 값으로 채우는 것이다.\n",
    "#패딩은 주로 출력 크기를 조정할 목적으로 사용한다.\n",
    "#예를 들어 (4,4)입력 데이터에 (3,3)필터를 적용하면 출력은 (2,2)가 되어 입력보다 2만큼 줄어든다.\n",
    "#이는 합성곱 연산을 몇 번이나 되풀이하는 심층 신경망에서는 문제가 될 수 있다.\n",
    "#합성곱 연산을 거칠 때마다 크기가 작아지면 어느 시점에서는 출력크기가 1이 되어버린다.\n",
    "#이런 사태를 막기위해 패딩을 사용한다."
   ]
  },
  {
   "cell_type": "code",
   "execution_count": 182,
   "metadata": {},
   "outputs": [],
   "source": [
    "#스트라이드\n",
    "#필터를 적용하는 위치의 간격을 스트라디으(stride)라고 한다.\n",
    "#스트라이드를 2로하면 필터를 적용하는 윈도우가 두 칸씩 이동한다.\n",
    "#스트라이드를 키우면 출력크기가 작아진다. (패딩을 크게하면 출력 크기가 커진다.)\n",
    "#입력크기를 (H,W), 필터 크기를 (FH,FW), 출력 크기를 (OH,OW), 패딩을 P, 스트라이드를 S라 하면,\n",
    "#OH=(H+2P-FH)/S+1\n",
    "#OW=(W+2P-FW)/S+1\n",
    "#이 값은 정수가 되어야 한다는 점에 주의해야 한다. 아니면 오류를 내는 등의 대응을 해줘야한다. 반올림을 이용해서 구현하기도 한다."
   ]
  },
  {
   "cell_type": "code",
   "execution_count": 183,
   "metadata": {},
   "outputs": [],
   "source": [
    "#3차원 데이터의 합성곱 연산\n",
    "#주의할 점은 입력 데이터의 채널 수와 필터의 채널 수가 같아야 한다.\n",
    "#필터 자체의 크기는 원하는 값으로 설정할 수 있지만, 모든 채널의 필터가 같은 크기여야 한다."
   ]
  },
  {
   "cell_type": "code",
   "execution_count": 184,
   "metadata": {},
   "outputs": [],
   "source": [
    "#블록으로 생각하기\n",
    "#3차원의 합성곱 연산은 데이터와 필터를 3차원 직육면체 블록이라고 생각하면 쉽다.\n",
    "#3차원 데이터를 다차원 배열로 나타낼 때는 (Channel, Height, Width)로 표현할 수 있다(C,H,W)\n",
    "#연산의 결과는 2차원이 된다. 합성곱 연산의 출력으로 다수의 채널을 내보내려면(3차원을 유지하려면) 필터 가중치를 다수 사용하는것이다.\n",
    "#필터를 N개 사용하면 출력 맵도 N개가 된다. (3차원이면서 Channel의 수가 N이 된다.)\n",
    "\n",
    "#합성곱 연산에서는 필터의 수도 고려해야 한다.\n",
    "#필터의 가중치 데이터는 4차원 데이터이다. (출력채널수(N), 입력채널수, 높이,너비)\n",
    "#합성곱 연산에도 완전연결 계층과 마찬가지로 편향이 쓰인다.\n",
    "#편향의 형상은 (FN,1,1)이다."
   ]
  },
  {
   "cell_type": "code",
   "execution_count": 185,
   "metadata": {},
   "outputs": [],
   "source": [
    "#배치처리\n",
    "#계층을 흐르는 데이터의 차원을 하나 늘려 4차원 데이터로 저장한다.(데이터수, 채널수, 높이, 너비)\n",
    "#신경망에 4차원 데이터가 하나 흐를 때마다 데이터 N개에 대한 합성곱 연산이 이뤄진다.\n",
    "#즉, N회 분의 처리를 한번에 수행하는 것이다."
   ]
  },
  {
   "cell_type": "code",
   "execution_count": 186,
   "metadata": {},
   "outputs": [],
   "source": [
    "#풀링 게층\n",
    "#풀링은 세로,가로 방향의 공간을 줄이는 연산이다.\n",
    "#최대 풀리은 대상 영역에서 최댓값을 취하는 연산인 반면, 평균 풀링은 대상 영역의 평균을 계산한다.\n",
    "#이미지 인식 분야에서는 주로 최대 풀링을 사용한다."
   ]
  },
  {
   "cell_type": "code",
   "execution_count": 187,
   "metadata": {},
   "outputs": [],
   "source": [
    "#풀링 계층의 특징\n",
    "#1.학습해야 할 매개변수가 없다.\n",
    "#풀링은 대상 영역에서 최댓값이나 평균을 취하는 명확한 처리이므로 특별히 학습할 것이 없다.\n",
    "#2.채널 수가 변하지 않는다.\n",
    "#풀링 연산은 입력 데이터의 채널 수 그대로 출력 데이터를 내보낸다. 채널마다 독립적으로 계산하기 때문이다.\n",
    "#3.입력의 변화에 영향을 적게 받는다.(강건하다)\n",
    "#입력 데이터가 조금 변해도 풀링의 결과는 잘 변하지 않는다."
   ]
  },
  {
   "cell_type": "code",
   "execution_count": 188,
   "metadata": {},
   "outputs": [],
   "source": [
    "#4차원 배열\n",
    "#데이터의 향상이 (10,1,28,28)이라면 높이 28, 너비28, 채널 1개인 데이터가 10개라는 이야기이다.\n",
    "x=np.random.rand(10,1,28,28)"
   ]
  },
  {
   "cell_type": "code",
   "execution_count": 189,
   "metadata": {},
   "outputs": [],
   "source": [
    "#im2col로 데이터 전개하기\n",
    "#합성곱 연산을 곧이곧대로 구현하려면 for문을 겹겹이 써야한다. 성능문제때문에 대신 im2col이라는 편의 함수를 사용하면 간단하다.\n",
    "#im2col은 입력 데이터를 필터링(가중치 계산)하기 좋게 전개하는(펼치는) 함수이다.\n",
    "#3차원 입력데이터에 im2col을 적용하면 2차원 행렬로 바뀐다. (정확히는 배치 안의 데이터 수까지 포함한 4차원 데이터를 2차원으로 변환한다.)\n",
    "#입력데이터에서 \"필터를 적용하는 영역\"을 한줄로 늘어놓는다.\n",
    "#실제 상황에서는 스트라이드가 크지 않다면 필터의 적용 영역이 겹치는 경우가 대부분이다.\n",
    "#필터 적용 영역이 겹치게 되면 im2col로 전개한 후의 원소 수가 원래 블록의 원소 수보다 많아진다.\n",
    "#그래서 im2col을 사용해 구현하면 메모리를 더 많이 소비하는 단점이 있다.\n",
    "#하지만 컴퓨터는 큰 행렬을 묶어서 계산하는 데 탁월하다.\n",
    "#그래서 문제를 행렬 계산으로 만들면 선형 대수 라이브러리를 활용해 효율을 높일 수 있다.\n",
    "#image to column 즉 이미지에서 행렬로라는 뜻이다.\n",
    "#Caffe 나 Chainer 등의 딥러닝 프레임워크는 im2col이라는 이름의 함수를 만들어 합성곱 계층을 구현할 때 이용하고 있다.\n",
    "#입력 데이터를 전개한 다음에는 합성곱 게층의 필터(가중치)를 1열로 전개하고 두 행렬의 내적을 계산하면 된다.\n",
    "#완전 연결 Affine 계층에서 한 것과 거의 같다.\n",
    "#CNN은 데이터를 4차원 배열로 저장하므로 2차원인 출력데이터를 4차원으로 변형(reshape)해야 한다."
   ]
  },
  {
   "cell_type": "code",
   "execution_count": 204,
   "metadata": {},
   "outputs": [],
   "source": [
    "#합성곱 게층 구현하기\n",
    "#im2col(input_data,filter_h,filter_w,stride=1,pad=0) 이 함수는 필터크기, 스트라이드,패딩을 고려해 입력 데이터를 2차원 배열로 전개한다.\n",
    "def im2col(input_data, filter_h, filter_w, stride=1, pad=0):\n",
    "    N, C, H, W = input_data.shape\n",
    "    out_h = (H + 2*pad - filter_h)//stride + 1\n",
    "    out_w = (W + 2*pad - filter_w)//stride + 1\n",
    "\n",
    "    img = np.pad(input_data, [(0,0), (0,0), (pad, pad), (pad, pad)], 'constant')\n",
    "    col = np.zeros((N, C, filter_h, filter_w, out_h, out_w))\n",
    "\n",
    "    for y in range(filter_h):\n",
    "        y_max = y + stride*out_h\n",
    "        for x in range(filter_w):\n",
    "            x_max = x + stride*out_w\n",
    "            col[:, :, y, x, :, :] = img[:, :, y:y_max:stride, x:x_max:stride]\n",
    "\n",
    "    col = col.transpose(0, 4, 5, 1, 2, 3).reshape(N*out_h*out_w, -1)\n",
    "    return col\n",
    "\n",
    "def col2im(col, input_shape, filter_h, filter_w, stride=1, pad=0):\n",
    "    N, C, H, W = input_shape\n",
    "    out_h = (H + 2*pad - filter_h)//stride + 1\n",
    "    out_w = (W + 2*pad - filter_w)//stride + 1\n",
    "    col = col.reshape(N, out_h, out_w, C, filter_h, filter_w).transpose(0, 3, 4, 5, 1, 2)\n",
    "\n",
    "    img = np.zeros((N, C, H + 2*pad + stride - 1, W + 2*pad + stride - 1))\n",
    "    for y in range(filter_h):\n",
    "        y_max = y + stride*out_h\n",
    "        for x in range(filter_w):\n",
    "            x_max = x + stride*out_w\n",
    "            img[:, :, y:y_max:stride, x:x_max:stride] += col[:, :, y, x, :, :]\n",
    "\n",
    "    return img[:, :, pad:H + pad, pad:W + pad]"
   ]
  },
  {
   "cell_type": "code",
   "execution_count": 205,
   "metadata": {},
   "outputs": [],
   "source": [
    "x1=np.random.rand(1,3,7,7)\n",
    "col1=im2col(x1,5,5,stride=1,pad=0) #shape=(9,75)=(3^2,5*5*5)\n",
    "\n",
    "x2=np.random.rand(10,3,7,7) #배치\n",
    "col2=im2col(x2,5,5,stride=1,pad=0) #shape=(90,75)=(3^2*10,5*5*3)"
   ]
  },
  {
   "cell_type": "code",
   "execution_count": 207,
   "metadata": {},
   "outputs": [],
   "source": [
    "class Convolution:\n",
    "    def __init__(self,W,b,stride=1,pad=0):\n",
    "        self.W=W\n",
    "        self.b=b\n",
    "        self.stride=stride\n",
    "        self.pad=pad\n",
    "        \n",
    "    def forward(self,x):\n",
    "        FN,C,FH,FW=self.W.shape\n",
    "        N,C,H,W=x.shape\n",
    "        out_h=int(1+(H+2*self.pad-FH)/self.stride)\n",
    "        out_w=int(1+(W+2*self.pad-FW)/self.stride)\n",
    "        \n",
    "        col=im2col(x,FH,FW,self.stride,self.pad)\n",
    "        col_W=self.W.reshape(FN,-1).T #필터전개, -1편의 기능으로 FN갯수로 행을 만들었을 때 열 수는 원소개수 변화없도록 알아서 적용되는 방식의 param값이다.\n",
    "        out=np.dot(col,col_W)+self.b\n",
    "        out=out.reshape(N,out_h,out_w,-1).transpose(0,3,1,2) #축의 순서를 바꾸어준다.\n",
    "        return out\n",
    "    \n",
    "    def backward(self, dout):\n",
    "        FN, C, FH, FW = self.W.shape\n",
    "        dout = dout.transpose(0,2,3,1).reshape(-1, FN)\n",
    "\n",
    "        self.db = np.sum(dout, axis=0)\n",
    "        self.dW = np.dot(self.col.T, dout)\n",
    "        self.dW = self.dW.transpose(1, 0).reshape(FN, C, FH, FW)\n",
    "\n",
    "        dcol = np.dot(dout, self.col_W.T)\n",
    "        dx = col2im(dcol, self.x.shape, FH, FW, self.stride, self.pad)\n",
    "\n",
    "        return dx\n",
    "\n",
    "    \n",
    "#주의할 점은 합성곱 계층의 역전파에서는 im2col을 역으로 처리해야 한다. 이는 col2im함수로 보통 구현되어 있다."
   ]
  },
  {
   "cell_type": "code",
   "execution_count": 209,
   "metadata": {},
   "outputs": [],
   "source": [
    "#풀링 계층 구현하기\n",
    "#폴링의 경우엔 채널 쪽이 독립적이라는 점이 합성곱 계층 떄와 다르다.\n",
    "#전개한 후 전개한 행렬에서 행별 최댓값을 구하고 적절한 형상으로 성형하기만 하면 된다.\n",
    "class Pooling:\n",
    "    def __init__(self,pool_h,pool_w,stride=1,pad=0):\n",
    "        self.pool_h=pool_h\n",
    "        self.pool_w=pool_w\n",
    "        self.stride=stride\n",
    "        self.pad=pad\n",
    "        \n",
    "    def forward(self,x):\n",
    "        N,C,H,W=x.shape\n",
    "        out_h=int(1+(H-self.pool_h)/self.stride)\n",
    "        out_w=int(1+(W-self.pool_w)/self.stride)\n",
    "        \n",
    "        #전개\n",
    "        col=im2col(x,self.pool_h,self.pool_w,self.stride,self.pad)\n",
    "        col=col.reshape(-1,self.pool_h*self.pool_w)\n",
    "        \n",
    "        #최대값\n",
    "        out=np.max(col,axis=1)\n",
    "        \n",
    "        #성형\n",
    "        out=out.reshape(N, out_h,out_w,C).transpose(0,3,1,2)\n",
    "        \n",
    "        return out\n",
    "\n",
    "#1. 입력 데이터를 전개한다.\n",
    "#2. 행별 최댓값을 구한다.\n",
    "#3. 적절한 모양으로 성형한다.\n",
    "#최댓값 계산에는 np.max를 이용할 수 있다. 인수로 axis을 지정할 수 있는데 지정한 축마다 최댓값을 구할 수 있다.\n",
    "#예를 들어, np.max(x,axis=1)과 같이 쓰면 입력 x의 첫번째 차원의 축마다 최댓값을 구할 수 있다."
   ]
  },
  {
   "cell_type": "code",
   "execution_count": 210,
   "metadata": {},
   "outputs": [],
   "source": [
    "#CNN 구현하기\n",
    "#Convolution-ReLU-Pooling-Affine-ReLU-Affine-Softmax\n",
    "class SimpleConvNet:\n",
    "    def __init__(self,input_dim=(1,28,28),conv_param={'filter_num':30,'filter_size':5,'pad':0,'stride':1}, hidden_size=100, output_size=10, weight_init_std=0.01):\n",
    "        filter_num=conv_param['filter_num']\n",
    "        filter_size=conv_param['filter_size']\n",
    "        filter_pad=conv_param['pad']\n",
    "        filter_stride=conv_param['stride']\n",
    "        input_size=input_dim[1]\n",
    "        conv_output_size=(input_size-filter_size+2*filter_pad)/filter_stride+1\n",
    "        pool_output_size=int(filter_num*(conv_output_size/2)*(conv_output_size/2))\n",
    "        \n",
    "        self.params={}\n",
    "        self.params['W1']=weight_init_std*np.random.randn(filter_num,input_dim[0],filter_size,filter_size)\n",
    "        self.params['b1']=np.zeros(filter_num)\n",
    "        self.params['W2']=weight_init_std*np.random.randn(pool_output_size,hidden_size)\n",
    "        self.params['b2']=np.zeros(hidden_size)\n",
    "        self.params['W3']=weight_init_std*np.random.randn(hidden_size,output_size)\n",
    "        self.params['b3']=np.zeros(output_size)\n",
    "        \n",
    "        self.layers=OrderedDict()\n",
    "        self.layers['Conv1']=Convolution(self.params['W1'],self.params['b1'],conv_param['stride'],conv_param['pad'])\n",
    "        self.layers['Relu1']=ReLU()\n",
    "        self.layers['Pool1']=Pooling(pool_h=2,pool_w=2,stride=2)\n",
    "        self.layers['Affine1']=Affine(self.params['W2'],self.params['b2'])\n",
    "        self.layers['Relu2']=ReLU()\n",
    "        self.layers['Affine2']=Affine(self.params['W3'],self.params['b3'])\n",
    "        \n",
    "        self.last_layer=SoftmaxWithLoss()\n",
    "        \n",
    "    def predict(self,x):\n",
    "        for layer in self.layers.values():\n",
    "            x=layer.forward(x)\n",
    "        return x\n",
    "    \n",
    "    def loss(self,x,t):\n",
    "        y=self.predict(x)\n",
    "        return self.last_layer.forward(y,t)\n",
    "    \n",
    "    def gradient(self,x,t):\n",
    "        #순전파\n",
    "        self.loss(x,t)\n",
    "        \n",
    "        #역전파\n",
    "        dout=1\n",
    "        dout=self.last_layer.backward(dout)\n",
    "        \n",
    "        layers=list(self.layers.values())\n",
    "        layers.reverse()\n",
    "        for layer in layers:\n",
    "            dout=layer.backward(dout)\n",
    "            \n",
    "        grads={}\n",
    "        grads['W1']=self.layers['Conv1'].dW\n",
    "        grads['b1']=self.layers['Conv1'].db\n",
    "        grads['W2']=self.layers['Affine1'].dW\n",
    "        grads['b2']=self.layers['Affine1'].db\n",
    "        grads['W3']=self.layers['Affine2'].dW\n",
    "        grads['b3']=self.layers['Affine2'].db\n",
    "        \n",
    "        return grads\n",
    "        "
   ]
  },
  {
   "cell_type": "code",
   "execution_count": 211,
   "metadata": {},
   "outputs": [],
   "source": [
    "#1번째 층의 가중치 시각화하기\n",
    "#학습전 필터는 무작위로 초기화 되어 있어 흑백의 정도에 규칙성을 찾기 어렵다.\n",
    "#한편, 학습을 마친 필터는 규칙성 있는 이미지가 되어있다.\n",
    "#흰색에서 검은색으로 점차 변화하는 필터와 덩어리(blob)가 진 필터 등, 규칙을 띄는 필터로 바뀌었다.\n",
    "#왼쪽 절반이 흰색이고 오른쪽 절반이 검은색인 필터는 세로 방향의 에지에 반응하는 필터이다."
   ]
  },
  {
   "cell_type": "code",
   "execution_count": 212,
   "metadata": {},
   "outputs": [],
   "source": [
    "#층 깊이에 따른 추출 정보변화\n",
    "#계층이 깊어질수록 추출되는 정보(강하게 반응하는 뉴런)는 더 추상화된다.\n",
    "#합성곱 계층을 여러 겹 쌓으면, 층이 깊어지면서 더 복잡하고 추상화된 정보가 추출된다.\n",
    "#처음 층은 단순한 에지에 반응하고, 이어서 텍스처에 반응하고, 더 복잡한 사물의 일부에 반응하도록 변화한다.\n",
    "#즉, 층이 깊어지면서 뉴런이 반응하는 대상이 단순한 모양에서 \"고급\"정보로 변화해간다.\n",
    "#사물의 \"의미\"를 이해하도록 변화하는 것이다."
   ]
  },
  {
   "cell_type": "code",
   "execution_count": 213,
   "metadata": {},
   "outputs": [],
   "source": [
    "#LeNet\n",
    "#LeNet은 손글씨 숫자를 인식하는 네트워크\n",
    "#합성곱 계층과 풀링 계층(단순히 원소를 줄이기만 하는)을 반복하고, 마지막으로 완전연결 계층을 거치면서 결과를 출력한다.\n",
    "#LeNet은 활성화 함수로 sigmoid함수를 이용하고 CNN은 주로 ReLU를 사용한다.\n",
    "#LeNet은 서브샘블링을 하면서 중간데이터의 크기가 작아지지만 CNN은 최대 풀링이 주류이다."
   ]
  },
  {
   "cell_type": "code",
   "execution_count": 214,
   "metadata": {},
   "outputs": [],
   "source": [
    "#AlexNet\n",
    "#합성곱 계층과 풀링 계층을 거듭하며 마지막으로 완전연결 계층을 거쳐 결과를 출력한다.\n",
    "#1. 활성화 함수로 ReLU를 이용한다.\n",
    "#2. LRN(Local Response Normalization)이라는 국소적 정규화를 실시하는 계층을 이용한다.\n",
    "#3. Dropout을 사용한다.\n",
    "#빅데이터와 GPU가 딥러닝 발전의 큰 원동력"
   ]
  },
  {
   "cell_type": "code",
   "execution_count": 215,
   "metadata": {},
   "outputs": [],
   "source": [
    "#정리해보면,\n",
    "#CNN은 지금까지의 완전연결 계층 네트워크에 합성곱 계층과 풀링 계층을 새로 추가한다.\n",
    "#합성곱 계층과 풀링 계층은 im2col을 이용하면 간단하고 효율적으로 구현할 수 있다.\n",
    "#CNN을 시각화해보면 계층이 깊어질수록 고급 정보가 추출되는 모습을 확인할 수 있다.\n",
    "#LeNet,AlexNet\n",
    "#발전에는 빅데이터와 GPU가 기여"
   ]
  },
  {
   "cell_type": "code",
   "execution_count": 216,
   "metadata": {},
   "outputs": [],
   "source": [
    "#딥러닝\n",
    "#딥러닝은 층을 깊게 한 심층 신경망이다.\n",
    "#심층 신경망은 학습시키는 데는 시간이 오래 걸린다. 그러나 정확도는 올라간다.\n",
    "#MNIST데이터셋에 대해서는 층을 깊게 안하고도 최고 수준의 결과가 나온다.\n",
    "#반면, 대규모 일반 사물 인식에서는 문제가 훨씬 복잡해지므로 층을 깊게하면 정확도를 크게 끌어올릴 수 있다.\n",
    "#앙상블 학습, 학습률 감소, 데이터 확장 등의 기법으로 정확도 향상을 꾀할 수 있다.\n",
    "#데이터 확장은 손쉬운 방법이면서도 정확도 개선에 아주 효과적이다.\n",
    "#데이터 확장(data augmentation)은 입력이미지(훈련이미지)를 알고리즘을 동원해 '인위적'으로 확장한다.\n",
    "#입력 이미지를 회전하거나 세로로 이동하는등 미세한 변화를 주어 이미지의 개수를 늘리는 것이다.\n",
    "#crop이나 flip, 회전, 이동 등이 있고, 밝기 등의 외형 변화나 확대, 축소 등의 스케일 변화도 효과적이다."
   ]
  },
  {
   "cell_type": "code",
   "execution_count": 217,
   "metadata": {},
   "outputs": [],
   "source": [
    "#깊게하는 이유\n",
    "#층의 깊이에 비례해 정확도가 좋아지는 것이다.\n",
    "#층을 깊게 할 때의 장점 중 하나는 신경망의 매개변수 수가 줄어든다는 것이다.\n",
    "#층을 깊게 한 신경망은 깊지 않은 경우보다 적은 매개변수로 같은(혹은 그 이상) 수준의 표현력을 달성할 수 있다.\n",
    "#적은 필터를 겹쳐 신경망을 깊게 할 때의 장점은 매개변수 수를 줄여 넓은 수용 영역(뉴런에 변화를 일으키는 국소적 공간)을 소화할 수 있다는 데 있다.\n",
    "#층을 거듭하면서 활성화 함수를 계층 사이에 끼움으로써 신경망의 표현력이 개선된다.\n",
    "#이는 활성화 함수가 신경망에 \"비선형\"힘을 가하고, 비선형 함수가 겹치면서 더 복잡한 것도 표현할 수 있게 되기 때문이다.\n",
    "#층이 깊어지면 학습 효율성도 좋아진다.\n",
    "#학습 데이터의 양을 줄여 학습을 고속으로 수행할 수 있다는 뜻이다.\n",
    "#\"개\"를 인식한다고 하면, 한번에 개의 특징의 많은 부분을 이해해야 한다. 학습시간이 오래걸린다.\n",
    "#하지만, 층이 깊어지면 학습해야할 문제를 계층적으로 분해할 수 있다.\n",
    "#각 층이 학습해야 할 문제를 더 단순한 문제로 대체할 수 있다는 것이다.\n",
    "#예를 들어 처음 층에는 에지 학습에 전념하고, 그 다음은 얼굴의 특징을 찾고 등이다.\n",
    "#층을 깊게하면 정보를 계층적으로 전달할 수 있다.\n",
    "#층이 깊어지면서 학습해야 할 문제를 \"풀기 쉬운 단순한 문제\"로 분해할 수 있어 효율적으로 학습하리라는 것을 기대할 수 있다."
   ]
  },
  {
   "cell_type": "code",
   "execution_count": 218,
   "metadata": {},
   "outputs": [],
   "source": [
    "#딥러닝의 초기역사\n",
    "#큰주목을 받게된 계기는 이미지 인식 기술을 겨루는 ILSVRC의 2012년 대회였다."
   ]
  },
  {
   "cell_type": "code",
   "execution_count": 219,
   "metadata": {},
   "outputs": [],
   "source": [
    "#이미지넷\n",
    "#ImageNet은 100만 장이 넘는 이미지를 담고 있는 데이터셋이다.\n",
    "#다양한 종류의 이미지가 있고, 각 이미지에는 레이블(클래스 이름)이 붙어있다.\n",
    "#classification이 있는데 1000개의 클래스를 제대로 분류하는지를 겨룬다.\n",
    "#VGG, GoogLenet, ResNet등 우승을 하고 에러율도 엄청나게 낮추었다."
   ]
  },
  {
   "cell_type": "code",
   "execution_count": 220,
   "metadata": {},
   "outputs": [],
   "source": [
    "#VGG\n",
    "#합성곱 계층과 풀링 계층으로 구성되는 기본적인 CNN이다.\n",
    "#다만, 비중있는 층(합성곱 계층, 완전연결 계층)을 모두 16층으로 심화한 게 특징이다. VGG16\n",
    "#주목할 점은 3x3의 작은 필터를 사용한 합성곱 계층을 연속으로 거친다는 것이다.\n",
    "#합성곱 계층을 2~4회 연속으로 풀링 계층을 두어 절반으로 줄이는 처리를 반복한다.\n",
    "#그리고 마지막에는 완전연결 계층을 통과시켜 결과를 출력한다.\n",
    "#구성이 간단하여 응용하기 좋다."
   ]
  },
  {
   "cell_type": "code",
   "execution_count": 221,
   "metadata": {},
   "outputs": [],
   "source": [
    "#GoogLeNet\n",
    "#세로 방향 깊이뿐 아니라 가로 방향도 깊다는 점이 특징이다.\n",
    "#가로 방향에 \"폭\"이 있다. 이를 인셉션 구조라 한다.\n",
    "#이 구조는 크기가 다른 필터와 풀링을 여러 개 적용하여 그 결과를 결합한다.\n",
    "#이 구조를 하나의 빌딩 블록으로(구성요소)로 사용하는 것이 특징이다.\n",
    "#또 1x1크기의 필터를 사용한 합성곱 계층을 많은 곳에서 사용한다.\n",
    "#1x1 합성곱 연산은 채널 쪽으로 크기를 줄이는 것으로, 매개변수 제거와 고속 처리에 기여한다."
   ]
  },
  {
   "cell_type": "code",
   "execution_count": 222,
   "metadata": {},
   "outputs": [],
   "source": [
    "#ResNet(Residual Network)는 마소에서 개발한 네트워크\n",
    "#딥러닝의 학습에서 층이 지나치게 깊으면 학습이 잘 되지 않고, 오히려 성능이 떨어지는 경우도 많았다.\n",
    "#해결하기 위해 스킵 연결(skip connection)을 도입한다.\n",
    "#이 구조가 층의 깊이에 비례해 성늘을 향상시킬 수 있게 한 핵심이다.\n",
    "#이 스킵연결이란 입력 데이터를 합성곱 계층을 건너뛰어 출력에 바로 더하는 구조를 말한다.\n",
    "#이 구조가 역전파 때 신호 감소를 막아주어 층이 깊어져도 학습을 효율적으로 할 수 있게 해준다.\n",
    "#스킵연결은 입력 데이터를 '그대로'흘리는 것으로, 역전파 때도 상류의 기울기를 그대로 하류로 보낸다.\n",
    "#그래서 스킵 연결로 기울기가 작아지거나 지나치게 커질 걱정 없이 앞 층에 '의미 있는 기울기'가 전해지리라 기대할 수 있다.\n",
    "#층을 깊게 할수록 기울기가 작아지는 소실 문제를 이 스킵 연결이 줄여주는 것이다.\n",
    "#VGG를 기반으로 스킵연결을 도입, 합성곱 계층을 2개 층마다 건너뛰면서 층을 깊게 한다.\n",
    "\n",
    "#학습된 가중치를 다른 신경망에 복사한 다음, 그 상태로 재학습을 수행한다.\n",
    "#예를 들어 VGG와 구성이 같은 신경망을 준비하고, 미리 학습된 가중치를 초깃값으로 설정한 후, 새로운 데이터셋을 대상으로 재학습(fine tuning)한다.\n",
    "#전이 학습은 보유한 데이터셋이 적을 때 특히 유용한 방법이다."
   ]
  },
  {
   "cell_type": "code",
   "execution_count": 223,
   "metadata": {},
   "outputs": [],
   "source": [
    "#딥러닝 고속화\n",
    "#GPU을 활용해 대량의 연산을 고속으로 처리할 수 있다.\n",
    "#합성곱 계층에서 이뤄지는 연산을 어떻게 고속으로 효율적으로 하느냐가 딥러닝의 과제이다.\n",
    "#그래서 딥러닝 고속화라는 주제는 대량의 단일 곱셈-누산을 어떻게 고속으로 효율적으로 계산하느냐이다."
   ]
  },
  {
   "cell_type": "code",
   "execution_count": 224,
   "metadata": {},
   "outputs": [],
   "source": [
    "#GPU를 이용한 고속화\n",
    "#GPU로 범용 수치연산을 수행하는 거을 GPU컴퓨팅이라고 한다.\n",
    "#이런 대량 병렬 연산은 GPU의 특기이다. CPU는 연속적인 복잡한 계산을 잘 처리한다.\n",
    "#CUDA라는 엔비디아의 GPU 컴퓨팅용 통합 개발 환경을 사용하기 때문이다. cuDNN이 CUDA위에서 동작하는 딥러닝에 최적화된 함수가 구현된 라이브러리"
   ]
  },
  {
   "cell_type": "code",
   "execution_count": 225,
   "metadata": {},
   "outputs": [],
   "source": [
    "#분산학습\n",
    "#시험을 수없이 반복해야 하고, 시간을 최대한 단축하기위해서 수평확장(scale out)하자는 아이디어('분산 학습')가 중요해진다.\n",
    "#텐서플로우와 CNTK는 분산학습에 역점을 두고 개발하고 있다.\n",
    "#저지연, 고처리량 네트워크 위에서 이들 프레임워크가 수행하는 분산 학습은 놀라운 효과를 보인다.\n",
    "#텐서플로우 추천"
   ]
  },
  {
   "cell_type": "code",
   "execution_count": 226,
   "metadata": {},
   "outputs": [],
   "source": [
    "#연산 정밀도와 비트 줄이기\n",
    "#메모리 용량과 버스대역폭 등이 딥러닝 고속화에 병목이 될 수 있다.\n",
    "#메모리 용량 면에서는 대량의 가중치 매개변수와 중간 데이터를 메모리에 저장해야 한다는 것을 생각해야되고,\n",
    "#버스 대역폭 면에서는 GPU혹은 CPU의 버스를 타고 흐르는 데이터가 많아져 한계를 넘어서면 병목이 된다.\n",
    "#그래서 네트워크로 주고받는 데이터의 비트수는 최소로 만드는 것이 바람직하다.\n",
    "#컴퓨터에서는 주로 64비트나 32비트 부동소수점 수를 사용해 실수를 표현한다.\n",
    "#계산오차는 줄어들지만, 계산에 드는 비용과 메모리 사용량이 늘고 버스 대역폭에 부담을 준다.\n",
    "#딥러닝은 높은 수치 정밀도(수치를 몇 비트로 표현하느냐)를 요구하지 않는다.\n",
    "#신경망의 견고성에 따른 특성이다. 예를 들어 입력 이미지에 노이즈가 조금 섞여 있어도 출력 결과가 잘 달라지지 않는 강건함을 보여준다.\n",
    "#견고성 덕분에 신경망을 흐르는 데이터를 '퇴화'시켜도 출력에 주는 영향은 적다.\n",
    "#지금까지의 실험으로는 딥러닝은 16비트 반정밀도만사용해도 학습에 문제가 없다고 알려져 있다.\n",
    "#파이썬에서는 일반적으로 64비트 double precision 부동소수점 수를 사용한다. 하지만 넘파이는 16비트 반정밀도 지원해서 괜찮다.\n",
    "#최근에는 가중치와 중간데이터를 1비트로 표현하는 Binarized Neural Networks라는 방법도 등장"
   ]
  },
  {
   "cell_type": "code",
   "execution_count": 227,
   "metadata": {},
   "outputs": [],
   "source": [
    "#사물 검출\n",
    "#이미지 속에 담긴 사물의 위치와 종류(클래스)를 알아내는 기술이다.\n",
    "#사물 검출은 사물 인식보다 어려운 과제이다.\n",
    "#사물 인식은 이미지 정체를 대상으로 했지만, 사물 검출에서는 이미지 어딘가에 있을 사물의 위치까지 알아내야 한다.\n",
    "#게다가 한 이미지에 여러 사물이 존재할 수도 있다.\n",
    "#R-CNN(Resions with Convolutional Neural Network)가 사물 검출에 유명한 네트워크이다.\n",
    "#\"후보 영역 추출\"과 CNN특징 계산이라는 특징이 있다.\n",
    "#먼저 사물이 위치한 영역을 찾아내고, 추출한 각 영역에 CNN을 적용하여 클래스를 분류하는 것이다.\n",
    "#여기서 이미지를 사각형으로 변형하거나 분류할 때 서포트벡터머신(SVM)을 사용하는 등 실제 처리 흐름은 다소 복잡하지만, 큰 틀에서는 이들 두 처리로 구성된다.\n",
    "#후보 영역 추출에는 컴퓨터비전 분야에서 발전해온 다양한 기법을 사용할 수 있고, Selective Search기법을 사용했다.\n",
    "#최근에는 이 후보영역 추출까지 CNN으로 처리하는 Faster R-CNN기법도 등장.\n",
    "#Faster R-CNN은 모든 일을 하나의 CNN에서 처리하기 때문에 아주 빠르다."
   ]
  },
  {
   "cell_type": "code",
   "execution_count": 228,
   "metadata": {},
   "outputs": [],
   "source": [
    "#분할(segmentation)\n",
    "#이미지 픽셀 수준에서 분류하는 문제이다.\n",
    "#픽셀 단위로 채색된 지도(supervised)데이터를 사용해 학습한다.\n",
    "#그리고 추론할 때 입력 이미지의 모든 픽셀을 분류한다.\n",
    "#신경망을 이용해 분할하는 가장 단순한 방법은 모든 픽셀 각각을 추론하는 것이다.\n",
    "#FCN(Fully Convolutional Network)로 단한번의 forward처리로 모든 픽셀의 클래스를 분류해주는 놀라운 기법이다.\n",
    "#이는 완전연결 계층을 '같은 기능을 하는 합성곱 계층'으로 바꾼다.\n",
    "#FCN에서는 공간 볼륨을 유지한 채 마지막 출력까지 처리할 수 있다.\n",
    "#마지막에 공간 크기를 확대하는 처리를 도입했다는 것도 특징이다.\n",
    "#마지막에 수행하는 확대는 이중 선형 보간에 의한 선형 확대이다.\n",
    "#이 선형 확대를 역합성곱 연산으로 구현해내고 있다.\n",
    "\n",
    "#완전연결 계층에서는 출력이 모든 입력과 연결된다. 이런 구성을 합성곱 계층으로도 구현할 수 있다."
   ]
  },
  {
   "cell_type": "code",
   "execution_count": 229,
   "metadata": {},
   "outputs": [],
   "source": [
    "#사진 캡션 생성\n",
    "#딥러닝으로 사진 캡션을 생성하는 방법으로는 NIC(Neural Image Caption) 모델이 대표적이다.\n",
    "#이는 심층 CNN과 자연어를 다루는 순환 신경망(Recurrent Neural Network,RNN)으로 구성된다.\n",
    "#RNN은 순환전 관계를 갖는 신경망으로 잔연어나 시계열 데이터 등의 연속된 데이터를 다룰 때 많이 활용한다.\n",
    "#NIC는 CNN으로 사진에서 특징을 추출하고, 그 특징을 RNN에 넘긴다.\n",
    "#RNN은 CNN이 추출한 특징을 초기값으로 해서 텍스트를 순환적으로 생성한다.\n",
    "#NIC는 신경망(CNN,RNN)을 조합한 간단한 구성이다.\n",
    "#사진이나 자연어와 같은 어려 종류의 정보를 조합하고 처리하는 것을 멀티모달 처리(multimodal processing)라고 한다."
   ]
  },
  {
   "cell_type": "code",
   "execution_count": 230,
   "metadata": {},
   "outputs": [],
   "source": [
    "#이미지 스타일(화풍)변환\n",
    "#두 이미지를 입력해서 새로운 그림을 생성하는 연구\n",
    "#하나는 컨텐츠 이미지, 다른 하나는 스타일 이미지.\n",
    "#이 기술은 네트워크의 중간 데이터가 콘텐츠 이미지의 중간 데이터와 비슷해지도록 학습한다.\n",
    "#이렇게 하면 입력 이미지를 콘텐츠 이미지의 형태로 흉내낼 수 있다.\n",
    "#또, 화풍을 흡수하기 위해 '스타일 행렬'이라는 개념을 도입한다.\n",
    "#그 스타일 행렬의 오차를 줄이도록 학습하여 입력 이미지를 입력된 화풍으로 만드는 것이다."
   ]
  },
  {
   "cell_type": "code",
   "execution_count": 231,
   "metadata": {},
   "outputs": [],
   "source": [
    "#이미지 생성\n",
    "#아무런 이미지 없이도 새로운 이미지를 그려내는 연구\n",
    "#물론 먼저 대량의 이미지를 사용하여 학습하긴 하지만, 학습이 끝난 후에는 아무런 입력 이미지 없이도 새로운 그림을 그려낸다.\n",
    "#침실 이미지를 무로부터 생성하는 게 가능하다.\n",
    "#DCGAN(Deep Convolutional Generative Adversarial Network)기법으로 생성 가능하다.\n",
    "#이 기술의 핵심은 생성자와 식별자로 불리는 2개의 신경망을 이용한다는 점이다.\n",
    "#생성자가 진짜와 똑같은 이미지를 생성하고 식별자는 그것이 진짜인지를 판정한다.\n",
    "#둘을 겨루도록 학습시켜, 생성자는 더 정교한 가짜 이미지 생성 기술을 학습하고 식별자는 더 정확하게 간파할 수 있는 감정사로 성정하는 것이다.\n",
    "#이전까지 살펴본 학습문제는 지도학습 유형이였다. 이후에는 지도없이 스스로 학습하는 자율학습문제이다."
   ]
  },
  {
   "cell_type": "code",
   "execution_count": 232,
   "metadata": {},
   "outputs": [],
   "source": [
    "#자율 주행\n",
    "#SegNet이라는 CNN기반 신경망은 주변 환경을 정확하게 인식해낸다. 이미지를 분할(픽셀 수준에서 판정)한다."
   ]
  },
  {
   "cell_type": "code",
   "execution_count": 234,
   "metadata": {},
   "outputs": [],
   "source": [
    "#Deep Q-Network(강화 학습)\n",
    "#사람이 시행착오를 겪으며 배우듯 컴퓨터도 시행착오 과정에서 스스로 학습하게 하려는 분야 강화학습\n",
    "#에이전트라는 것이 환경에 맞게 행동을 선택하고, 그 행동에 의해서 환경이 변한다는 게 기본적인 틀이다.\n",
    "#환경이 변화하면 에이전트는 어떠한 보상을 얻는다.\n",
    "#강화 학습의 목적은 더 나은 보상을 받는 쪽으로 에이전트의 행동 지침을 바로잡는 것이다.\n",
    "#여기에서 보상은 정해진 것이 아니라 \"예상 보상\"이다.\n",
    "#예를 들어 슈퍼마리오에서 오른쪽으로 이동했을때 얻는 보상이 좋을수도 나쁠수도있다.\n",
    "#이런 불명확한 상황에서는 게임 점수나 게임 종료 등의 명확한 지표로부터 역산해서 \"예상 보상\"을 정해야 한다.\n",
    "#DQN은 Q학습이라는 강화학습 알고리즘을 기초로한다.\n",
    "#Q학습에서는 최적 행동 가치 함수로 최적의 행동을 정한다.\n",
    "#이함수를 딥러닝(CNN)으로 비슷하게 흉내내어 사용하는 것이 DQN이다.\n",
    "#비디오 게임에서 사람을 뛰어넘는 수준의 조작등..\n",
    "#비디오 게임 학습에서는 게임의 상태는 미리 추출하는 것이 보토이었다.\n",
    "#그러나 DQN에서의 입력데이터는 비디오의 게임의 영상 뿐이다.\n",
    "#게임마다 설정을 바꿀 필요없이 단순히 DQN에 게임 영상을 보여주기만 하면된다.\n",
    "#알파고에도 딥러닝과 강화학습이 이용됐다.\n",
    "#알파고와 DQN은 모두 구글이 인수한 딥마인드(Deep Mind)가 진행한 연구이다."
   ]
  }
 ],
 "metadata": {
  "kernelspec": {
   "display_name": "Python 3",
   "language": "python",
   "name": "python3"
  },
  "language_info": {
   "codemirror_mode": {
    "name": "ipython",
    "version": 3
   },
   "file_extension": ".py",
   "mimetype": "text/x-python",
   "name": "python",
   "nbconvert_exporter": "python",
   "pygments_lexer": "ipython3",
   "version": "3.6.6"
  }
 },
 "nbformat": 4,
 "nbformat_minor": 2
}
