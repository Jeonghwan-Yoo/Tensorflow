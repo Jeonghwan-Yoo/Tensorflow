{
 "cells": [
  {
   "cell_type": "code",
   "execution_count": 15,
   "metadata": {},
   "outputs": [],
   "source": [
    "#learn and use ML\n",
    "import tensorflow as tf\n",
    "#loading datas from mnist\n",
    "mnist=tf.keras.datasets.mnist"
   ]
  },
  {
   "cell_type": "code",
   "execution_count": 16,
   "metadata": {},
   "outputs": [],
   "source": [
    "#load_data() returns two tuples of numpy arrays, the first tuple represents the training x-y pairs\n",
    "#while the second tuple represents the test x-y pairs.\n",
    "(x_train,y_train),(x_test,y_test)=mnist.load_data()\n",
    "#x_train=x_train/255.0 x_test=x_test/255.0\n",
    "x_train,x_test=x_train/255.0,x_test/255.0"
   ]
  },
  {
   "cell_type": "code",
   "execution_count": 5,
   "metadata": {},
   "outputs": [],
   "source": [
    "#create model\n",
    "#sequential is for linear stack of layers.\n",
    "model=tf.keras.models.Sequential([\n",
    "    #\n",
    "    tf.keras.layers.Flatten(),\n",
    "    tf.keras.layers.Dense(512,activation=tf.nn.relu),\n",
    "    tf.keras.layers.Dropout(0.2),\n",
    "    tf.keras.layers.Dense(10,activation=tf.nn.softmax)\n",
    "])"
   ]
  },
  {
   "cell_type": "code",
   "execution_count": 6,
   "metadata": {},
   "outputs": [],
   "source": [
    "#complie model\n",
    "model.compile(optimizer='adam',loss='sparse_categorical_crossentropy',metrics=['accuracy'])"
   ]
  },
  {
   "cell_type": "code",
   "execution_count": 7,
   "metadata": {},
   "outputs": [
    {
     "name": "stdout",
     "output_type": "stream",
     "text": [
      "Epoch 1/5\n",
      "60000/60000 [==============================] - 13s 222us/step - loss: 0.2181 - acc: 0.9351\n",
      "Epoch 2/5\n",
      "60000/60000 [==============================] - 13s 218us/step - loss: 0.0958 - acc: 0.9709\n",
      "Epoch 3/5\n",
      "60000/60000 [==============================] - 13s 215us/step - loss: 0.0689 - acc: 0.9795\n",
      "Epoch 4/5\n",
      "60000/60000 [==============================] - 13s 217us/step - loss: 0.0532 - acc: 0.9831\n",
      "Epoch 5/5\n",
      "60000/60000 [==============================] - 13s 220us/step - loss: 0.0427 - acc: 0.9861\n"
     ]
    },
    {
     "data": {
      "text/plain": [
       "<tensorflow.python.keras.callbacks.History at 0x26378cb5b38>"
      ]
     },
     "execution_count": 7,
     "metadata": {},
     "output_type": "execute_result"
    }
   ],
   "source": [
    "#fit the model\n",
    "#training epochs=>rotation number\n",
    "model.fit(x_train,y_train,epochs=5)"
   ]
  },
  {
   "cell_type": "code",
   "execution_count": 13,
   "metadata": {},
   "outputs": [
    {
     "name": "stdout",
     "output_type": "stream",
     "text": [
      "10000/10000 [==============================] - 0s 41us/step\n"
     ]
    },
    {
     "data": {
      "text/plain": [
       "[0.06321836526404367, 0.9808]"
      ]
     },
     "execution_count": 13,
     "metadata": {},
     "output_type": "execute_result"
    }
   ],
   "source": [
    "#evaluate model\n",
    "model.evaluate(x_test,y_test)"
   ]
  },
  {
   "cell_type": "code",
   "execution_count": 1,
   "metadata": {},
   "outputs": [
    {
     "name": "stdout",
     "output_type": "stream",
     "text": [
      "1.9.0\n"
     ]
    }
   ],
   "source": [
    "#Basic classification\n",
    "#TensorFlow and tf.keras\n",
    "import tensorflow as tf\n",
    "from tensorflow import keras\n",
    "\n",
    "#Helper libraries\n",
    "import numpy as np\n",
    "import matplotlib.pyplot as plt\n",
    "\n",
    "print(tf.__version__)"
   ]
  },
  {
   "cell_type": "code",
   "execution_count": 2,
   "metadata": {},
   "outputs": [
    {
     "name": "stdout",
     "output_type": "stream",
     "text": [
      "Downloading data from http://fashion-mnist.s3-website.eu-central-1.amazonaws.com/train-labels-idx1-ubyte.gz\n",
      "32768/29515 [=================================] - 0s 10us/step\n",
      "Downloading data from http://fashion-mnist.s3-website.eu-central-1.amazonaws.com/train-images-idx3-ubyte.gz\n",
      "26427392/26421880 [==============================] - 14s 1us/step\n",
      "Downloading data from http://fashion-mnist.s3-website.eu-central-1.amazonaws.com/t10k-labels-idx1-ubyte.gz\n",
      "8192/5148 [===============================================] - 0s 0us/step\n",
      "Downloading data from http://fashion-mnist.s3-website.eu-central-1.amazonaws.com/t10k-images-idx3-ubyte.gz\n",
      "4423680/4422102 [==============================] - 8s 2us/step\n"
     ]
    }
   ],
   "source": [
    "fashion_mnist=keras.datasets.fashion_mnist\n",
    "(train_images,train_labels),(test_images,test_labels)=fashion_mnist.load_data()"
   ]
  },
  {
   "cell_type": "code",
   "execution_count": 16,
   "metadata": {},
   "outputs": [],
   "source": [
    "class_names=['T-shirt/top','Trouser','Pullover','Dress','Coat','Sandal','Shirt','Sneaker','Bag','Ankle boot']"
   ]
  },
  {
   "cell_type": "code",
   "execution_count": 5,
   "metadata": {},
   "outputs": [
    {
     "data": {
      "text/plain": [
       "(60000, 28, 28)"
      ]
     },
     "execution_count": 5,
     "metadata": {},
     "output_type": "execute_result"
    }
   ],
   "source": [
    "#explore the data before training the model.\n",
    "train_images.shape"
   ]
  },
  {
   "cell_type": "code",
   "execution_count": 6,
   "metadata": {},
   "outputs": [
    {
     "data": {
      "text/plain": [
       "60000"
      ]
     },
     "execution_count": 6,
     "metadata": {},
     "output_type": "execute_result"
    }
   ],
   "source": [
    "len(train_labels)"
   ]
  },
  {
   "cell_type": "code",
   "execution_count": 7,
   "metadata": {},
   "outputs": [
    {
     "data": {
      "text/plain": [
       "array([9, 0, 0, ..., 3, 0, 5], dtype=uint8)"
      ]
     },
     "execution_count": 7,
     "metadata": {},
     "output_type": "execute_result"
    }
   ],
   "source": [
    "train_labels"
   ]
  },
  {
   "cell_type": "code",
   "execution_count": 8,
   "metadata": {},
   "outputs": [
    {
     "data": {
      "text/plain": [
       "(10000, 28, 28)"
      ]
     },
     "execution_count": 8,
     "metadata": {},
     "output_type": "execute_result"
    }
   ],
   "source": [
    "test_images.shape"
   ]
  },
  {
   "cell_type": "code",
   "execution_count": 9,
   "metadata": {},
   "outputs": [
    {
     "data": {
      "text/plain": [
       "10000"
      ]
     },
     "execution_count": 9,
     "metadata": {},
     "output_type": "execute_result"
    }
   ],
   "source": [
    "len(test_labels)"
   ]
  },
  {
   "cell_type": "code",
   "execution_count": 10,
   "metadata": {},
   "outputs": [
    {
     "data": {
      "image/png": "[encoded data removed]",
      "text/plain": [
       "<Figure size 432x288 with 2 Axes>"
      ]
     },
     "metadata": {
      "needs_background": "light"
     },
     "output_type": "display_data"
    }
   ],
   "source": [
    "#Preprocess the data before training the network.\n",
    "plt.figure()\n",
    "plt.imshow(train_images[0])\n",
    "plt.colorbar()\n",
    "plt.grid(False)"
   ]
  },
  {
   "cell_type": "code",
   "execution_count": 11,
   "metadata": {},
   "outputs": [],
   "source": [
    "#we scale these values to a range of 0 to 1 before feeding to the neural network model.\n",
    "train_images=train_images/255.0\n",
    "test_images=test_images/255.0"
   ]
  },
  {
   "cell_type": "code",
   "execution_count": 23,
   "metadata": {},
   "outputs": [
    {
     "data": {
      "image/png": "[encoded data removed]",
      "text/plain": [
       "<Figure size 720x720 with 25 Axes>"
      ]
     },
     "metadata": {},
     "output_type": "display_data"
    }
   ],
   "source": [
    "#Display the first 25images from the training set and class name below each image.\n",
    "plt.figure(figsize=(10,10)) #width, height in inches.\n",
    "for i in range(25):\n",
    "    #the subplot will take the index position on a grid with nrows rows and ncols columns. index starts at 1 in the upper left corner and increases to the right.\n",
    "    plt.subplot(5,5,i+1)\n",
    "    plt.xticks([])\n",
    "    plt.yticks([])\n",
    "    plt.grid(False)\n",
    "    plt.imshow(train_images[i], cmap=plt.cm.binary)\n",
    "    plt.xlabel(class_names[train_labels[i]])"
   ]
  },
  {
   "cell_type": "code",
   "execution_count": 25,
   "metadata": {},
   "outputs": [],
   "source": [
    "#Build the model\n",
    "#Setup the layers\n",
    "#The basic building block of a neural network is the layer.\n",
    "model=keras.Sequential([\n",
    "    keras.layers.Flatten(input_shape=(28,28)),\n",
    "    keras.layers.Dense(128,activation=tf.nn.relu),\n",
    "    keras.layers.Dense(10,activation=tf.nn.softmax)\n",
    "])\n",
    "#the first layer in this network, tf.keras.layers.Flatten, transfroms the format of the images from a 2d-array to 1d-array.\n",
    "#rest layers are densely-connected, or fully-connected, neural layers. 128nodes(or neurons), 10node softmax.\n",
    "#returns an array of 10 probability scores that sum to 1."
   ]
  },
  {
   "cell_type": "code",
   "execution_count": 26,
   "metadata": {},
   "outputs": [],
   "source": [
    "#Compile the model\n",
    "#Loss function-This measures how accurate the model is during training. we want to minimize this funcion to \"steer\" the model\n",
    "#Optimizer-This is how the model is updated based on the data it sess and its los functino.\n",
    "#Metrics-Used to monitor the training and testing steps. The following example uses accuracy, the fraction of the images that are correctly classified.\n",
    "model.compile(optimizer=tf.train.AdamOptimizer(),\n",
    "             loss='sparse_categorical_crossentropy',\n",
    "             metrics=['accuracy'])"
   ]
  },
  {
   "cell_type": "code",
   "execution_count": 28,
   "metadata": {},
   "outputs": [
    {
     "name": "stdout",
     "output_type": "stream",
     "text": [
      "Epoch 1/5\n",
      "60000/60000 [==============================] - 3s 47us/step - loss: 0.4959 - acc: 0.8253\n",
      "Epoch 2/5\n",
      "60000/60000 [==============================] - 3s 43us/step - loss: 0.3749 - acc: 0.8643\n",
      "Epoch 3/5\n",
      "60000/60000 [==============================] - 2s 40us/step - loss: 0.3380 - acc: 0.8772\n",
      "Epoch 4/5\n",
      "60000/60000 [==============================] - 2s 37us/step - loss: 0.3137 - acc: 0.8854\n",
      "Epoch 5/5\n",
      "60000/60000 [==============================] - 2s 36us/step - loss: 0.2979 - acc: 0.8906\n"
     ]
    },
    {
     "data": {
      "text/plain": [
       "<tensorflow.python.keras.callbacks.History at 0x2052f1877f0>"
      ]
     },
     "execution_count": 28,
     "metadata": {},
     "output_type": "execute_result"
    }
   ],
   "source": [
    "#Train the model\n",
    "#1.Feed the training data to the model\n",
    "#2.The model learns to associate images and labels.\n",
    "#3.We ask the model to malke predictions about a test set\n",
    "model.fit(train_images, train_labels, epochs=5)"
   ]
  },
  {
   "cell_type": "code",
   "execution_count": 31,
   "metadata": {},
   "outputs": [
    {
     "name": "stdout",
     "output_type": "stream",
     "text": [
      "10000/10000 [==============================] - 0s 17us/step\n",
      "Test accuracy: 0.8686\n"
     ]
    }
   ],
   "source": [
    "#Evaluate accuracy\n",
    "test_loss,test_acc=model.evaluate(test_images,test_labels)\n",
    "print('Test accuracy:',test_acc)\n",
    "#overfitting is when a machine learning model performs worse on new data than on their training data."
   ]
  },
  {
   "cell_type": "code",
   "execution_count": 32,
   "metadata": {},
   "outputs": [
    {
     "data": {
      "text/plain": [
       "array([8.27193887e-08, 3.60982777e-09, 8.46341948e-08, 1.11831206e-07,\n",
       "       3.68350648e-08, 2.37682689e-04, 5.19019181e-07, 9.40979868e-02,\n",
       "       1.09293842e-06, 9.05662358e-01], dtype=float32)"
      ]
     },
     "execution_count": 32,
     "metadata": {},
     "output_type": "execute_result"
    }
   ],
   "source": [
    "#Make predictions\n",
    "predictions=model.predict(test_images)\n",
    "predictions[0]"
   ]
  },
  {
   "cell_type": "code",
   "execution_count": 33,
   "metadata": {},
   "outputs": [
    {
     "data": {
      "text/plain": [
       "9"
      ]
     },
     "execution_count": 33,
     "metadata": {},
     "output_type": "execute_result"
    }
   ],
   "source": [
    "np.argmax(predictions[0])"
   ]
  },
  {
   "cell_type": "code",
   "execution_count": 34,
   "metadata": {},
   "outputs": [
    {
     "data": {
      "text/plain": [
       "9"
      ]
     },
     "execution_count": 34,
     "metadata": {},
     "output_type": "execute_result"
    }
   ],
   "source": [
    "test_labels[0]"
   ]
  },
  {
   "cell_type": "code",
   "execution_count": 39,
   "metadata": {},
   "outputs": [],
   "source": [
    "def plot_image(i, predictions_array, true_label, img):\n",
    "    predictions_array, true_label, img = predictions_array[i], true_label[i], img[i]\n",
    "    plt.grid(False)\n",
    "    plt.xticks([])\n",
    "    plt.yticks([])\n",
    "  \n",
    "    plt.imshow(img, cmap=plt.cm.binary)\n",
    "\n",
    "    predicted_label = np.argmax(predictions_array)\n",
    "    if predicted_label == true_label:\n",
    "        color = 'blue'\n",
    "    else:\n",
    "        color = 'red'\n",
    "  \n",
    "    plt.xlabel(\"{} {:2.0f}% ({})\".format(class_names[predicted_label],\n",
    "                                100*np.max(predictions_array),\n",
    "                                class_names[true_label]),\n",
    "                                color=color)\n",
    "    \n",
    "def plot_value_array(i,predictions_array,true_label):\n",
    "    predictions_array,true_label=predictions_array[i],true_label[i]\n",
    "    plt.grid(False)\n",
    "    plt.xticks([])\n",
    "    plt.yticks([])\n",
    "    thisplot=plt.bar(range(10),predictions_array,color=\"#777777\")\n",
    "    plt.ylim([0,1])\n",
    "    predicted_label=np.argmax(predictions_array)\n",
    "    \n",
    "    thisplot[predicted_label].set_color('red')\n",
    "    thisplot[true_label].set_color('blue')"
   ]
  },
  {
   "cell_type": "code",
   "execution_count": 40,
   "metadata": {},
   "outputs": [
    {
     "data": {
      "image/png": "[encoded data removed]",
      "text/plain": [
       "<Figure size 432x216 with 2 Axes>"
      ]
     },
     "metadata": {},
     "output_type": "display_data"
    }
   ],
   "source": [
    "i=0\n",
    "plt.figure(figsize=(6,3))\n",
    "plt.subplot(1,2,1)\n",
    "plot_image(i,predictions,test_labels,test_images)\n",
    "plt.subplot(1,2,2)\n",
    "plot_value_array(i,predictions,test_labels)"
   ]
  },
  {
   "cell_type": "code",
   "execution_count": 41,
   "metadata": {},
   "outputs": [
    {
     "data": {
      "image/png": "[encoded data removed]",
      "text/plain": [
       "<Figure size 432x216 with 2 Axes>"
      ]
     },
     "metadata": {},
     "output_type": "display_data"
    }
   ],
   "source": [
    "i=12\n",
    "plt.figure(figsize=(6,3))\n",
    "plt.subplot(1,2,1)\n",
    "plot_image(i,predictions,test_labels,test_images)\n",
    "plt.subplot(1,2,2)\n",
    "plot_value_array(i,predictions,test_labels)"
   ]
  },
  {
   "cell_type": "code",
   "execution_count": 42,
   "metadata": {},
   "outputs": [
    {
     "data": {
      "image/png": "[encoded data removed]",
      "text/plain": [
       "<Figure size 864x720 with 30 Axes>"
      ]
     },
     "metadata": {},
     "output_type": "display_data"
    }
   ],
   "source": [
    "#Plot the first X test images, their predicted label, and the true label\n",
    "#Color correct predictions in blue, incorrect predictions in red\n",
    "num_rows=5\n",
    "num_cols=3\n",
    "num_images=num_rows*num_cols\n",
    "plt.figure(figsize=(2*2*num_cols,2*num_rows))\n",
    "for i in range(num_images):\n",
    "    plt.subplot(num_rows,2*num_cols,2*i+1)\n",
    "    plot_image(i,predictions,test_labels,test_images)\n",
    "    plt.subplot(num_rows,2*num_cols,2*i+2)\n",
    "    plot_value_array(i,predictions,test_labels)"
   ]
  },
  {
   "cell_type": "code",
   "execution_count": 44,
   "metadata": {},
   "outputs": [
    {
     "name": "stdout",
     "output_type": "stream",
     "text": [
      "(28, 28)\n"
     ]
    }
   ],
   "source": [
    "#Grab an images from the test dataset\n",
    "img=test_images[0]\n",
    "print(img.shape)"
   ]
  },
  {
   "cell_type": "code",
   "execution_count": 45,
   "metadata": {},
   "outputs": [
    {
     "name": "stdout",
     "output_type": "stream",
     "text": [
      "(1, 28, 28)\n"
     ]
    }
   ],
   "source": [
    "#tf.keras models are optimized to make perdictions on a batch, or collection, of examples at once.\n",
    "#Add the image  to a batch where it's the only member.\n",
    "img=(np.expand_dims(img,0))\n",
    "print(img.shape)"
   ]
  },
  {
   "cell_type": "code",
   "execution_count": 47,
   "metadata": {},
   "outputs": [
    {
     "name": "stdout",
     "output_type": "stream",
     "text": [
      "[[8.2719382e-08 3.6098342e-09 8.4634024e-08 1.1183140e-07 3.6835058e-08\n",
      "  2.3768266e-04 5.1901912e-07 9.4098158e-02 1.0929383e-06 9.0566224e-01]]\n"
     ]
    }
   ],
   "source": [
    "predictions_single=model.predict(img)\n",
    "print(predictions_single)"
   ]
  },
  {
   "cell_type": "code",
   "execution_count": 48,
   "metadata": {},
   "outputs": [
    {
     "data": {
      "image/png": "[encoded data removed]",
      "text/plain": [
       "<Figure size 432x288 with 1 Axes>"
      ]
     },
     "metadata": {
      "needs_background": "light"
     },
     "output_type": "display_data"
    }
   ],
   "source": [
    "plot_value_array(0,predictions_single,test_labels)\n",
    "_=plt.xticks(range(10),class_names,rotation=45)"
   ]
  },
  {
   "cell_type": "code",
   "execution_count": 1,
   "metadata": {},
   "outputs": [
    {
     "ename": "NameError",
     "evalue": "name 'np' is not defined",
     "output_type": "error",
     "traceback": [
      "\u001b[1;31m---------------------------------------------------------------------------\u001b[0m",
      "\u001b[1;31mNameError\u001b[0m                                 Traceback (most recent call last)",
      "\u001b[1;32m<ipython-input-1-e35ff8f9bdd6>\u001b[0m in \u001b[0;36m<module>\u001b[1;34m()\u001b[0m\n\u001b[1;32m----> 1\u001b[1;33m \u001b[0mnp\u001b[0m\u001b[1;33m.\u001b[0m\u001b[0margmax\u001b[0m\u001b[1;33m(\u001b[0m\u001b[0mpredictions_single\u001b[0m\u001b[1;33m[\u001b[0m\u001b[1;36m0\u001b[0m\u001b[1;33m]\u001b[0m\u001b[1;33m)\u001b[0m\u001b[1;33m\u001b[0m\u001b[0m\n\u001b[0m",
      "\u001b[1;31mNameError\u001b[0m: name 'np' is not defined"
     ]
    }
   ],
   "source": [
    "np.argmax(predictions_single[0])"
   ]
  },
  {
   "cell_type": "code",
   "execution_count": 2,
   "metadata": {},
   "outputs": [
    {
     "name": "stdout",
     "output_type": "stream",
     "text": [
      "1.9.0\n"
     ]
    }
   ],
   "source": [
    "#Text clssification with movie review\n",
    "import tensorflow as tf\n",
    "from tensorflow import keras\n",
    "\n",
    "import numpy as np\n",
    "print(tf.__version__)"
   ]
  },
  {
   "cell_type": "code",
   "execution_count": 17,
   "metadata": {},
   "outputs": [],
   "source": [
    "#Download the IMDB dataset\n",
    "imdb=keras.datasets.imdb\n",
    "(train_data,train_labels),(test_data,test_labels)=imdb.load_data(num_words=10000)"
   ]
  },
  {
   "cell_type": "code",
   "execution_count": 19,
   "metadata": {},
   "outputs": [
    {
     "name": "stdout",
     "output_type": "stream",
     "text": [
      "Training entries:25000, labels: 25000\n"
     ]
    }
   ],
   "source": [
    "#Explore the data\n",
    "print(\"Training entries:{}, labels: {}\".format(len(train_data),len(train_labels)))"
   ]
  },
  {
   "cell_type": "code",
   "execution_count": 20,
   "metadata": {},
   "outputs": [
    {
     "name": "stdout",
     "output_type": "stream",
     "text": [
      "[1, 14, 22, 16, 43, 530, 973, 1622, 1385, 65, 458, 4468, 66, 3941, 4, 173, 36, 256, 5, 25, 100, 43, 838, 112, 50, 670, 2, 9, 35, 480, 284, 5, 150, 4, 172, 112, 167, 2, 336, 385, 39, 4, 172, 4536, 1111, 17, 546, 38, 13, 447, 4, 192, 50, 16, 6, 147, 2025, 19, 14, 22, 4, 1920, 4613, 469, 4, 22, 71, 87, 12, 16, 43, 530, 38, 76, 15, 13, 1247, 4, 22, 17, 515, 17, 12, 16, 626, 18, 2, 5, 62, 386, 12, 8, 316, 8, 106, 5, 4, 2223, 5244, 16, 480, 66, 3785, 33, 4, 130, 12, 16, 38, 619, 5, 25, 124, 51, 36, 135, 48, 25, 1415, 33, 6, 22, 12, 215, 28, 77, 52, 5, 14, 407, 16, 82, 2, 8, 4, 107, 117, 5952, 15, 256, 4, 2, 7, 3766, 5, 723, 36, 71, 43, 530, 476, 26, 400, 317, 46, 7, 4, 2, 1029, 13, 104, 88, 4, 381, 15, 297, 98, 32, 2071, 56, 26, 141, 6, 194, 7486, 18, 4, 226, 22, 21, 134, 476, 26, 480, 5, 144, 30, 5535, 18, 51, 36, 28, 224, 92, 25, 104, 4, 226, 65, 16, 38, 1334, 88, 12, 16, 283, 5, 16, 4472, 113, 103, 32, 15, 16, 5345, 19, 178, 32]\n"
     ]
    }
   ],
   "source": [
    "#the text of reviews have been converted to integers, where each integer represents a specific word in a dictionary.\n",
    "print(train_data[0])"
   ]
  },
  {
   "cell_type": "code",
   "execution_count": 21,
   "metadata": {},
   "outputs": [
    {
     "data": {
      "text/plain": [
       "(218, 189)"
      ]
     },
     "execution_count": 21,
     "metadata": {},
     "output_type": "execute_result"
    }
   ],
   "source": [
    "len(train_data[0]),len(train_data[1])"
   ]
  },
  {
   "cell_type": "code",
   "execution_count": 22,
   "metadata": {},
   "outputs": [],
   "source": [
    "#Convert the integers back to words\n",
    "#A dictionary mapping words to an integer index\n",
    "word_index=imdb.get_word_index()\n",
    "\n",
    "#The first indices are reserved\n",
    "#Dictionaries have a method called items that returns a list of tuples, where each tuple is a key-value pair\n",
    "word_index={k:(v+3) for k,v in word_index.items()}\n",
    "word_index[\"<PAD>\"]=0\n",
    "word_index[\"<START>\"]=1\n",
    "word_index[\"<UNK>\"]=2 #unknown\n",
    "word_index[\"<UNUSED>\"]=3\n",
    "\n",
    "reverse_word_index=dict([(value,key) for (key,value) in word_index.items()])\n",
    "\n",
    "def decode_review(text):\n",
    "    return ' '.join([reverse_word_index.get(i,'?') for i in text])"
   ]
  },
  {
   "cell_type": "code",
   "execution_count": 23,
   "metadata": {},
   "outputs": [
    {
     "data": {
      "text/plain": [
       "\"<START> this film was just brilliant casting location scenery story direction everyone's really suited the part they played and you could just imagine being there robert <UNK> is an amazing actor and now the same being director <UNK> father came from the same scottish island as myself so i loved the fact there was a real connection with this film the witty remarks throughout the film were great it was just brilliant so much that i bought the film as soon as it was released for <UNK> and would recommend it to everyone to watch and the fly fishing was amazing really cried at the end it was so sad and you know what they say if you cry at a film it must have been good and this definitely was also <UNK> to the two little boy's that played the <UNK> of norman and paul they were just brilliant children are often left out of the <UNK> list i think because the stars that play them all grown up are such a big profile for the whole film but these children are amazing and should be praised for what they have done don't you think the whole story was so lovely because it was true and was someone's life after all that was shared with us all\""
      ]
     },
     "execution_count": 23,
     "metadata": {},
     "output_type": "execute_result"
    }
   ],
   "source": [
    "decode_review(train_data[0])"
   ]
  },
  {
   "cell_type": "code",
   "execution_count": 24,
   "metadata": {},
   "outputs": [],
   "source": [
    "#Prepare the data\n",
    "#the reviews ust be converted to tensors before fed into the neural network.\n",
    "#One-hot-encode the arrays to convert them into vectors of 0s and 1s.\n",
    "#Since the movie reviews must be the smae length, we will use the pad_sequences function to standardize the lengths\n",
    "train_data=keras.preprocessing.sequence.pad_sequences(train_data,\n",
    "                                                     value=word_index[\"<PAD>\"],\n",
    "                                                     padding='post',\n",
    "                                                     maxlen=256)\n",
    "test_data=keras.preprocessing.sequence.pad_sequences(test_data,\n",
    "                                                    value=word_index[\"<PAD>\"],\n",
    "                                                    padding='post',\n",
    "                                                    maxlen=256)"
   ]
  },
  {
   "cell_type": "code",
   "execution_count": 25,
   "metadata": {},
   "outputs": [
    {
     "data": {
      "text/plain": [
       "(256, 256)"
      ]
     },
     "execution_count": 25,
     "metadata": {},
     "output_type": "execute_result"
    }
   ],
   "source": [
    "len(train_data[0]),len(train_data[1])"
   ]
  },
  {
   "cell_type": "code",
   "execution_count": 26,
   "metadata": {},
   "outputs": [
    {
     "name": "stdout",
     "output_type": "stream",
     "text": [
      "[   1   14   22   16   43  530  973 1622 1385   65  458 4468   66 3941\n",
      "    4  173   36  256    5   25  100   43  838  112   50  670    2    9\n",
      "   35  480  284    5  150    4  172  112  167    2  336  385   39    4\n",
      "  172 4536 1111   17  546   38   13  447    4  192   50   16    6  147\n",
      " 2025   19   14   22    4 1920 4613  469    4   22   71   87   12   16\n",
      "   43  530   38   76   15   13 1247    4   22   17  515   17   12   16\n",
      "  626   18    2    5   62  386   12    8  316    8  106    5    4 2223\n",
      " 5244   16  480   66 3785   33    4  130   12   16   38  619    5   25\n",
      "  124   51   36  135   48   25 1415   33    6   22   12  215   28   77\n",
      "   52    5   14  407   16   82    2    8    4  107  117 5952   15  256\n",
      "    4    2    7 3766    5  723   36   71   43  530  476   26  400  317\n",
      "   46    7    4    2 1029   13  104   88    4  381   15  297   98   32\n",
      " 2071   56   26  141    6  194 7486   18    4  226   22   21  134  476\n",
      "   26  480    5  144   30 5535   18   51   36   28  224   92   25  104\n",
      "    4  226   65   16   38 1334   88   12   16  283    5   16 4472  113\n",
      "  103   32   15   16 5345   19  178   32    0    0    0    0    0    0\n",
      "    0    0    0    0    0    0    0    0    0    0    0    0    0    0\n",
      "    0    0    0    0    0    0    0    0    0    0    0    0    0    0\n",
      "    0    0    0    0]\n"
     ]
    }
   ],
   "source": [
    "print(train_data[0])"
   ]
  },
  {
   "cell_type": "code",
   "execution_count": 27,
   "metadata": {},
   "outputs": [
    {
     "name": "stdout",
     "output_type": "stream",
     "text": [
      "_________________________________________________________________\n",
      "Layer (type)                 Output Shape              Param #   \n",
      "=================================================================\n",
      "embedding_1 (Embedding)      (None, None, 16)          160000    \n",
      "_________________________________________________________________\n",
      "global_average_pooling1d_1 ( (None, 16)                0         \n",
      "_________________________________________________________________\n",
      "dense_2 (Dense)              (None, 16)                272       \n",
      "_________________________________________________________________\n",
      "dense_3 (Dense)              (None, 1)                 17        \n",
      "=================================================================\n",
      "Total params: 160,289\n",
      "Trainable params: 160,289\n",
      "Non-trainable params: 0\n",
      "_________________________________________________________________\n"
     ]
    }
   ],
   "source": [
    "#Build the model\n",
    "#How many layers to use in the model?\n",
    "#How many hidden units to use for each layer?\n",
    "#input shape is the vocabulary count used for the movie reviews(10,000 words)\n",
    "vocab_size=10000\n",
    "model=keras.Sequential()\n",
    "#Embedding layer takes the integer-encoded vocabulary and looks up the embedding vector for each word-index.\n",
    "#These vectors are learned as the model trains.\n",
    "#The vectors add a dimension to the output array.\n",
    "#The resulting dimensions are (batch, sequence, embedding)\n",
    "model.add(keras.layers.Embedding(vocab_size,16))\n",
    "#GlobalAveragePooling1D returns a fixed-length output vector for each example by averaging over the sequence dimension.\n",
    "#This allows the model to handle input of variable length, in the simplest way possible.\n",
    "model.add(keras.layers.GlobalAveragePooling1D())\n",
    "#This fixed-length output vector is piped through a fully-connected(Dens) layer with 16hidden units.\n",
    "model.add(keras.layers.Dense(16,activation=tf.nn.relu))\n",
    "#The last layer is densely connected with a single output node. Using the sigmoid activation functino, this value is a float between 0 and 1 or confidence level.\n",
    "model.add(keras.layers.Dense(1,activation=tf.nn.sigmoid))\n",
    "\n",
    "model. summary()"
   ]
  },
  {
   "cell_type": "code",
   "execution_count": 28,
   "metadata": {},
   "outputs": [],
   "source": [
    "#Hidden units\n",
    "#The amount of freedom the network is allowed when learning an internal representation.\n",
    "#Loss function and optimizer\n",
    "#binary_crossentropy is better for dealing with probabilities.\n",
    "model.compile(optimizer=tf.train.AdamOptimizer(),\n",
    "             loss='binary_crossentropy',\n",
    "             metrics=['accuracy'])"
   ]
  },
  {
   "cell_type": "code",
   "execution_count": 29,
   "metadata": {},
   "outputs": [],
   "source": [
    "#Create a validation set\n",
    "#Create a validation set by setting apart 10,000 examples from the original training data.\n",
    "x_val=train_data[:10000]\n",
    "partial_x_train=train_data[10000:]\n",
    "\n",
    "y_val=train_labels[:10000]\n",
    "partial_y_train=train_labels[10000:]"
   ]
  },
  {
   "cell_type": "code",
   "execution_count": 33,
   "metadata": {},
   "outputs": [
    {
     "name": "stdout",
     "output_type": "stream",
     "text": [
      "Train on 15000 samples, validate on 10000 samples\n",
      "Epoch 1/40\n",
      "15000/15000 [==============================] - 1s 75us/step - loss: 0.6934 - acc: 0.5042 - val_loss: 0.6917 - val_acc: 0.5229\n",
      "Epoch 2/40\n",
      "15000/15000 [==============================] - 1s 58us/step - loss: 0.6894 - acc: 0.5531 - val_loss: 0.6881 - val_acc: 0.5795\n",
      "Epoch 3/40\n",
      "15000/15000 [==============================] - 1s 58us/step - loss: 0.6858 - acc: 0.6010 - val_loss: 0.6850 - val_acc: 0.6246\n",
      "Epoch 4/40\n",
      "15000/15000 [==============================] - 1s 57us/step - loss: 0.6817 - acc: 0.6443 - val_loss: 0.6822 - val_acc: 0.5428\n",
      "Epoch 5/40\n",
      "15000/15000 [==============================] - 1s 56us/step - loss: 0.6769 - acc: 0.6702 - val_loss: 0.6758 - val_acc: 0.6890\n",
      "Epoch 6/40\n",
      "15000/15000 [==============================] - 1s 57us/step - loss: 0.6703 - acc: 0.7137 - val_loss: 0.6689 - val_acc: 0.7067\n",
      "Epoch 7/40\n",
      "15000/15000 [==============================] - 1s 56us/step - loss: 0.6616 - acc: 0.7308 - val_loss: 0.6602 - val_acc: 0.7220\n",
      "Epoch 8/40\n",
      "15000/15000 [==============================] - 1s 55us/step - loss: 0.6501 - acc: 0.7437 - val_loss: 0.6488 - val_acc: 0.7268\n",
      "Epoch 9/40\n",
      "15000/15000 [==============================] - 1s 56us/step - loss: 0.6358 - acc: 0.7536 - val_loss: 0.6336 - val_acc: 0.7439\n",
      "Epoch 10/40\n",
      "15000/15000 [==============================] - 1s 58us/step - loss: 0.6173 - acc: 0.7687 - val_loss: 0.6154 - val_acc: 0.7579\n",
      "Epoch 11/40\n",
      "15000/15000 [==============================] - 1s 55us/step - loss: 0.5959 - acc: 0.7703 - val_loss: 0.5968 - val_acc: 0.7516\n",
      "Epoch 12/40\n",
      "15000/15000 [==============================] - 1s 57us/step - loss: 0.5717 - acc: 0.7836 - val_loss: 0.5716 - val_acc: 0.7792\n",
      "Epoch 13/40\n",
      "15000/15000 [==============================] - ETA: 0s - loss: 0.5456 - acc: 0.804 - 1s 57us/step - loss: 0.5446 - acc: 0.8053 - val_loss: 0.5478 - val_acc: 0.7926\n",
      "Epoch 14/40\n",
      "15000/15000 [==============================] - 1s 54us/step - loss: 0.5174 - acc: 0.8141 - val_loss: 0.5227 - val_acc: 0.8033\n",
      "Epoch 15/40\n",
      "15000/15000 [==============================] - 1s 58us/step - loss: 0.4896 - acc: 0.8279 - val_loss: 0.4974 - val_acc: 0.8125\n",
      "Epoch 16/40\n",
      "15000/15000 [==============================] - 1s 56us/step - loss: 0.4629 - acc: 0.8390 - val_loss: 0.4738 - val_acc: 0.8227\n",
      "Epoch 17/40\n",
      "15000/15000 [==============================] - 1s 55us/step - loss: 0.4361 - acc: 0.8521 - val_loss: 0.4518 - val_acc: 0.8352\n",
      "Epoch 18/40\n",
      "15000/15000 [==============================] - 1s 55us/step - loss: 0.4119 - acc: 0.8627 - val_loss: 0.4310 - val_acc: 0.8421\n",
      "Epoch 19/40\n",
      "15000/15000 [==============================] - 1s 56us/step - loss: 0.3897 - acc: 0.8701 - val_loss: 0.4126 - val_acc: 0.8468\n",
      "Epoch 20/40\n",
      "15000/15000 [==============================] - 1s 56us/step - loss: 0.3695 - acc: 0.8755 - val_loss: 0.3964 - val_acc: 0.8524\n",
      "Epoch 21/40\n",
      "15000/15000 [==============================] - 1s 55us/step - loss: 0.3512 - acc: 0.8829 - val_loss: 0.3821 - val_acc: 0.8566\n",
      "Epoch 22/40\n",
      "15000/15000 [==============================] - 1s 57us/step - loss: 0.3349 - acc: 0.8873 - val_loss: 0.3698 - val_acc: 0.8609\n",
      "Epoch 23/40\n",
      "15000/15000 [==============================] - 1s 56us/step - loss: 0.3206 - acc: 0.8911 - val_loss: 0.3595 - val_acc: 0.8635\n",
      "Epoch 24/40\n",
      "15000/15000 [==============================] - 1s 56us/step - loss: 0.3071 - acc: 0.8947 - val_loss: 0.3499 - val_acc: 0.8668\n",
      "Epoch 25/40\n",
      "15000/15000 [==============================] - 1s 55us/step - loss: 0.2953 - acc: 0.8982 - val_loss: 0.3417 - val_acc: 0.8685\n",
      "Epoch 26/40\n",
      "15000/15000 [==============================] - 1s 55us/step - loss: 0.2844 - acc: 0.9015 - val_loss: 0.3350 - val_acc: 0.8721\n",
      "Epoch 27/40\n",
      "15000/15000 [==============================] - 1s 55us/step - loss: 0.2749 - acc: 0.9031 - val_loss: 0.3287 - val_acc: 0.8718\n",
      "Epoch 28/40\n",
      "15000/15000 [==============================] - 1s 55us/step - loss: 0.2653 - acc: 0.9069 - val_loss: 0.3229 - val_acc: 0.8743\n",
      "Epoch 29/40\n",
      "15000/15000 [==============================] - 1s 56us/step - loss: 0.2570 - acc: 0.9089 - val_loss: 0.3184 - val_acc: 0.8765\n",
      "Epoch 30/40\n",
      "15000/15000 [==============================] - 1s 56us/step - loss: 0.2499 - acc: 0.9105 - val_loss: 0.3139 - val_acc: 0.8761\n",
      "Epoch 31/40\n",
      "15000/15000 [==============================] - 1s 55us/step - loss: 0.2417 - acc: 0.9155 - val_loss: 0.3104 - val_acc: 0.8788\n",
      "Epoch 32/40\n",
      "15000/15000 [==============================] - 1s 55us/step - loss: 0.2355 - acc: 0.9176 - val_loss: 0.3071 - val_acc: 0.8783\n",
      "Epoch 33/40\n",
      "15000/15000 [==============================] - 1s 55us/step - loss: 0.2282 - acc: 0.9191 - val_loss: 0.3041 - val_acc: 0.8795\n",
      "Epoch 34/40\n",
      "15000/15000 [==============================] - 1s 57us/step - loss: 0.2221 - acc: 0.9225 - val_loss: 0.3018 - val_acc: 0.8810\n",
      "Epoch 35/40\n",
      "15000/15000 [==============================] - 1s 56us/step - loss: 0.2167 - acc: 0.9239 - val_loss: 0.2992 - val_acc: 0.8800\n",
      "Epoch 36/40\n",
      "15000/15000 [==============================] - 1s 56us/step - loss: 0.2105 - acc: 0.9271 - val_loss: 0.2973 - val_acc: 0.8818\n",
      "Epoch 37/40\n",
      "15000/15000 [==============================] - 1s 55us/step - loss: 0.2053 - acc: 0.9279 - val_loss: 0.2955 - val_acc: 0.8826\n",
      "Epoch 38/40\n",
      "15000/15000 [==============================] - 1s 55us/step - loss: 0.2003 - acc: 0.9295 - val_loss: 0.2940 - val_acc: 0.8834\n",
      "Epoch 39/40\n",
      "15000/15000 [==============================] - 1s 55us/step - loss: 0.1950 - acc: 0.9321 - val_loss: 0.2924 - val_acc: 0.8837\n",
      "Epoch 40/40\n",
      "15000/15000 [==============================] - 1s 57us/step - loss: 0.1902 - acc: 0.9343 - val_loss: 0.2912 - val_acc: 0.8846\n"
     ]
    }
   ],
   "source": [
    "#Train the model\n",
    "#40epochs in mini-batches of 512samples.\n",
    "history=model.fit(partial_x_train,\n",
    "                 partial_y_train,\n",
    "                 epochs=40,\n",
    "                 batch_size=512,\n",
    "                 validation_data=(x_val,y_val),\n",
    "                 verbose=1)"
   ]
  },
  {
   "cell_type": "code",
   "execution_count": 30,
   "metadata": {},
   "outputs": [
    {
     "name": "stdout",
     "output_type": "stream",
     "text": [
      "25000/25000 [==============================] - 0s 19us/step\n",
      "[0.7002674054145813, 0.5]\n"
     ]
    }
   ],
   "source": [
    "#Evaluate the model\n",
    "results = model.evaluate(test_data, test_labels)\n",
    "print(results)"
   ]
  },
  {
   "cell_type": "code",
   "execution_count": 31,
   "metadata": {},
   "outputs": [
    {
     "data": {
      "text/plain": [
       "dict_keys(['val_loss', 'val_acc', 'loss', 'acc'])"
      ]
     },
     "execution_count": 31,
     "metadata": {},
     "output_type": "execute_result"
    }
   ],
   "source": [
    "#Create a graph of accuracy and loss over time\n",
    "#model.fit() returns a History object that contains a dictionary with everything that happened during training.\n",
    "history_dict=history.history\n",
    "history_dict.keys()"
   ]
  },
  {
   "cell_type": "code",
   "execution_count": 35,
   "metadata": {},
   "outputs": [
    {
     "data": {
      "image/png": "[encoded data removed]",
      "text/plain": [
       "<Figure size 432x288 with 1 Axes>"
      ]
     },
     "metadata": {
      "needs_background": "light"
     },
     "output_type": "display_data"
    },
    {
     "data": {
      "image/png": "[encoded data removed]",
      "text/plain": [
       "<Figure size 432x288 with 1 Axes>"
      ]
     },
     "metadata": {
      "needs_background": "light"
     },
     "output_type": "display_data"
    }
   ],
   "source": [
    "import matplotlib.pyplot as plt\n",
    "acc=history.history['acc']\n",
    "val_acc=history.history['val_acc']\n",
    "loss=history.history['loss']\n",
    "val_loss=history.history['val_loss']\n",
    "\n",
    "epochs=range(1,len(acc)+1)\n",
    "\n",
    "#\"bo\" is for \"blue dot\"\n",
    "plt.plot(epochs,loss,'bo',label='Training loss')\n",
    "#b is for \"solid blue line\"\n",
    "plt.plot(epochs,val_loss,'b',label='Validation loss')\n",
    "plt.title('Training and validation loss')\n",
    "plt.xlabel('Epochs')\n",
    "plt.ylabel('Loss')\n",
    "plt.legend()\n",
    "\n",
    "plt.show()\n",
    "\n",
    "plt.clf() #clear figure\n",
    "acc_values=history_dict['acc']\n",
    "val_acc_values=history_dict['val_acc']\n",
    "\n",
    "plt.plot(epochs,acc,'bo',label='Training acc')\n",
    "plt.plot(epochs,val_acc,'b',label='Validation acc')\n",
    "plt.title('Training and validation accuracy')\n",
    "plt.xlabel('Epochs')\n",
    "plt.ylabel('Accuracy')\n",
    "plt.legend()\n",
    "\n",
    "plt.show()\n",
    "#This is an example of overfitting.After this point, the model over-optimizes and learns representations specific to the training data that do not generalize to test data.\n",
    "#We could prevent overfitting by simply stopping the training after twenty or so epochs."
   ]
  },
  {
   "cell_type": "code",
   "execution_count": 38,
   "metadata": {},
   "outputs": [
    {
     "name": "stdout",
     "output_type": "stream",
     "text": [
      "1.9.0\n"
     ]
    }
   ],
   "source": [
    "#Predict house prices:regression.\n",
    "#We aim to predict the ouput of a contnuous value, like a price or a probability.\n",
    "#Contrast this with a classfication problem., where we aim to predict a discrete label.\n",
    "from __future__ import absolute_import,division,print_function\n",
    "\n",
    "import tensorflow as tf\n",
    "from tensorflow import keras\n",
    "import numpy as np\n",
    "print(tf.__version__)"
   ]
  },
  {
   "cell_type": "code",
   "execution_count": 41,
   "metadata": {},
   "outputs": [],
   "source": [
    "#The Boston Housing Prices dataset\n",
    "boston_housing=keras.datasets.boston_housing\n",
    "(train_data,train_labels),(test_data,test_labels)=boston_housing.load_data()\n",
    "\n",
    "#Shuffle the training set\n",
    "order=np.argsort(np.random.random(train_labels.shape))\n",
    "train_data=train_data[order]\n",
    "train_labels=train_labels[order]"
   ]
  },
  {
   "cell_type": "code",
   "execution_count": 42,
   "metadata": {},
   "outputs": [
    {
     "name": "stdout",
     "output_type": "stream",
     "text": [
      "Training set:{} (404, 13)\n",
      "Testing set:{} (102, 13)\n"
     ]
    }
   ],
   "source": [
    "#Examples and features\n",
    "print(\"Training set:{}\",format(train_data.shape)) #404 examples, 13features\n",
    "print(\"Testing set:{}\",format(test_data.shape)) #102 examples, 13features"
   ]
  },
  {
   "cell_type": "code",
   "execution_count": 43,
   "metadata": {},
   "outputs": [],
   "source": [
    "#1.Per capita crime rate.\n",
    "#2.The proportion of residential land zoned for lots over 25,000 square feet.\n",
    "#3.The proportion of non-retail business acres per town.\n",
    "#4.Charles River dummy variable (= 1 if tract bounds river; 0 otherwise).\n",
    "#5.Nitric oxides concentration (parts per 10 million).\n",
    "#6.The average number of rooms per dwelling.\n",
    "#7.The proportion of owner-occupied units built before 1940.\n",
    "#8.Weighted distances to five Boston employment centers.\n",
    "#9.Index of accessibility to radial highways.\n",
    "#10.Full-value property-tax rate per $10,000.\n",
    "#11.Pupil-teacher ratio by town.\n",
    "#12.1000 * (Bk - 0.63) ** 2 where Bk is the proportion of Black people by town.\n",
    "#13.Percentage lower status of the population.\n",
    "#Each one of tese input data features is sotred using a different scale.\n",
    "#This is often the case with real-world data, and understanding how to explore and clean such data is an important skill to develop."
   ]
  },
  {
   "cell_type": "code",
   "execution_count": 44,
   "metadata": {},
   "outputs": [
    {
     "name": "stdout",
     "output_type": "stream",
     "text": [
      "[7.8750e-02 4.5000e+01 3.4400e+00 0.0000e+00 4.3700e-01 6.7820e+00\n",
      " 4.1100e+01 3.7886e+00 5.0000e+00 3.9800e+02 1.5200e+01 3.9387e+02\n",
      " 6.6800e+00]\n"
     ]
    }
   ],
   "source": [
    "print(train_data[0]) #Display sample features, notice the different scales"
   ]
  },
  {
   "cell_type": "code",
   "execution_count": 46,
   "metadata": {},
   "outputs": [
    {
     "data": {
      "text/html": [
       "<div>\n",
       "<style scoped>\n",
       "    .dataframe tbody tr th:only-of-type {\n",
       "        vertical-align: middle;\n",
       "    }\n",
       "\n",
       "    .dataframe tbody tr th {\n",
       "        vertical-align: top;\n",
       "    }\n",
       "\n",
       "    .dataframe thead th {\n",
       "        text-align: right;\n",
       "    }\n",
       "</style>\n",
       "<table border=\"1\" class=\"dataframe\">\n",
       "  <thead>\n",
       "    <tr style=\"text-align: right;\">\n",
       "      <th></th>\n",
       "      <th>CRIM</th>\n",
       "      <th>ZN</th>\n",
       "      <th>INDUS</th>\n",
       "      <th>CHAS</th>\n",
       "      <th>NOX</th>\n",
       "      <th>RM</th>\n",
       "      <th>AGE</th>\n",
       "      <th>DIS</th>\n",
       "      <th>RAD</th>\n",
       "      <th>TAX</th>\n",
       "      <th>PTRATIO</th>\n",
       "      <th>B</th>\n",
       "      <th>LSTAT</th>\n",
       "    </tr>\n",
       "  </thead>\n",
       "  <tbody>\n",
       "    <tr>\n",
       "      <th>0</th>\n",
       "      <td>0.07875</td>\n",
       "      <td>45.0</td>\n",
       "      <td>3.44</td>\n",
       "      <td>0.0</td>\n",
       "      <td>0.437</td>\n",
       "      <td>6.782</td>\n",
       "      <td>41.1</td>\n",
       "      <td>3.7886</td>\n",
       "      <td>5.0</td>\n",
       "      <td>398.0</td>\n",
       "      <td>15.2</td>\n",
       "      <td>393.87</td>\n",
       "      <td>6.68</td>\n",
       "    </tr>\n",
       "    <tr>\n",
       "      <th>1</th>\n",
       "      <td>4.55587</td>\n",
       "      <td>0.0</td>\n",
       "      <td>18.10</td>\n",
       "      <td>0.0</td>\n",
       "      <td>0.718</td>\n",
       "      <td>3.561</td>\n",
       "      <td>87.9</td>\n",
       "      <td>1.6132</td>\n",
       "      <td>24.0</td>\n",
       "      <td>666.0</td>\n",
       "      <td>20.2</td>\n",
       "      <td>354.70</td>\n",
       "      <td>7.12</td>\n",
       "    </tr>\n",
       "    <tr>\n",
       "      <th>2</th>\n",
       "      <td>0.09604</td>\n",
       "      <td>40.0</td>\n",
       "      <td>6.41</td>\n",
       "      <td>0.0</td>\n",
       "      <td>0.447</td>\n",
       "      <td>6.854</td>\n",
       "      <td>42.8</td>\n",
       "      <td>4.2673</td>\n",
       "      <td>4.0</td>\n",
       "      <td>254.0</td>\n",
       "      <td>17.6</td>\n",
       "      <td>396.90</td>\n",
       "      <td>2.98</td>\n",
       "    </tr>\n",
       "    <tr>\n",
       "      <th>3</th>\n",
       "      <td>0.01870</td>\n",
       "      <td>85.0</td>\n",
       "      <td>4.15</td>\n",
       "      <td>0.0</td>\n",
       "      <td>0.429</td>\n",
       "      <td>6.516</td>\n",
       "      <td>27.7</td>\n",
       "      <td>8.5353</td>\n",
       "      <td>4.0</td>\n",
       "      <td>351.0</td>\n",
       "      <td>17.9</td>\n",
       "      <td>392.43</td>\n",
       "      <td>6.36</td>\n",
       "    </tr>\n",
       "    <tr>\n",
       "      <th>4</th>\n",
       "      <td>0.52693</td>\n",
       "      <td>0.0</td>\n",
       "      <td>6.20</td>\n",
       "      <td>0.0</td>\n",
       "      <td>0.504</td>\n",
       "      <td>8.725</td>\n",
       "      <td>83.0</td>\n",
       "      <td>2.8944</td>\n",
       "      <td>8.0</td>\n",
       "      <td>307.0</td>\n",
       "      <td>17.4</td>\n",
       "      <td>382.00</td>\n",
       "      <td>4.63</td>\n",
       "    </tr>\n",
       "  </tbody>\n",
       "</table>\n",
       "</div>"
      ],
      "text/plain": [
       "      CRIM    ZN  INDUS  CHAS    NOX     RM   AGE     DIS   RAD    TAX  \\\n",
       "0  0.07875  45.0   3.44   0.0  0.437  6.782  41.1  3.7886   5.0  398.0   \n",
       "1  4.55587   0.0  18.10   0.0  0.718  3.561  87.9  1.6132  24.0  666.0   \n",
       "2  0.09604  40.0   6.41   0.0  0.447  6.854  42.8  4.2673   4.0  254.0   \n",
       "3  0.01870  85.0   4.15   0.0  0.429  6.516  27.7  8.5353   4.0  351.0   \n",
       "4  0.52693   0.0   6.20   0.0  0.504  8.725  83.0  2.8944   8.0  307.0   \n",
       "\n",
       "   PTRATIO       B  LSTAT  \n",
       "0     15.2  393.87   6.68  \n",
       "1     20.2  354.70   7.12  \n",
       "2     17.6  396.90   2.98  \n",
       "3     17.9  392.43   6.36  \n",
       "4     17.4  382.00   4.63  "
      ]
     },
     "execution_count": 46,
     "metadata": {},
     "output_type": "execute_result"
    }
   ],
   "source": [
    "#Use the pandas library to display the first few rows of the dataset in a nicely formatted table\n",
    "import pandas as pd\n",
    "column_names=['CRIM','ZN','INDUS','CHAS','NOX','RM','AGE','DIS','RAD','TAX','PTRATIO','B','LSTAT']\n",
    "df=pd.DataFrame(train_data,columns=column_names)\n",
    "df.head()"
   ]
  },
  {
   "cell_type": "code",
   "execution_count": 47,
   "metadata": {},
   "outputs": [
    {
     "name": "stdout",
     "output_type": "stream",
     "text": [
      "[32.  27.5 32.  23.1 50.  20.6 22.6 36.2 21.8 19.5]\n"
     ]
    }
   ],
   "source": [
    "#Labels\n",
    "print(train_labels[0:10]) #Display first 10 entries"
   ]
  },
  {
   "cell_type": "code",
   "execution_count": 49,
   "metadata": {},
   "outputs": [
    {
     "name": "stdout",
     "output_type": "stream",
     "text": [
      "[-0.39725269  1.41205707 -1.12664623 -0.25683275 -1.027385    0.72635358\n",
      " -1.00016413  0.02383449 -0.51114231 -0.04753316 -1.49067405  0.41584124\n",
      " -0.83648691]\n"
     ]
    }
   ],
   "source": [
    "#Normalize features\n",
    "#It's recommended to normalize features that use different scales and ranges.\n",
    "#For each feature, subtract the mean of the feature and divide by the standard deviation.\n",
    "#Test data is *not* used when calculating the mean and std\n",
    "mean=train_data.mean(axis=0)\n",
    "std=train_data.std(axis=0)\n",
    "train_data=(train_data-mean)/std\n",
    "test_data=(test_data-mean)/std\n",
    "\n",
    "print(train_data[0]) #First training sample, normalized\n",
    "#Although the model might converge without feature normalization, it makes training more difficult,\n",
    "#and it makes the resulting model more dependent on the choice of units used in the input."
   ]
  },
  {
   "cell_type": "code",
   "execution_count": 53,
   "metadata": {},
   "outputs": [
    {
     "name": "stdout",
     "output_type": "stream",
     "text": [
      "_________________________________________________________________\n",
      "Layer (type)                 Output Shape              Param #   \n",
      "=================================================================\n",
      "dense_7 (Dense)              (None, 64)                896       \n",
      "_________________________________________________________________\n",
      "dense_8 (Dense)              (None, 64)                4160      \n",
      "_________________________________________________________________\n",
      "dense_9 (Dense)              (None, 1)                 65        \n",
      "=================================================================\n",
      "Total params: 5,121\n",
      "Trainable params: 5,121\n",
      "Non-trainable params: 0\n",
      "_________________________________________________________________\n"
     ]
    }
   ],
   "source": [
    "#Create the model\n",
    "def build_model():\n",
    "    model=keras.Sequential([\n",
    "        keras.layers.Dense(64,activation=tf.nn.relu,input_shape=(train_data.shape[1],)),\n",
    "        keras.layers.Dense(64,activation=tf.nn.relu),\n",
    "        keras.layers.Dense(1)\n",
    "    ])\n",
    "    optimizer=tf.train.RMSPropOptimizer(0.001)\n",
    "    \n",
    "    model.compile(loss='mse',\n",
    "                 optimizer=optimizer,\n",
    "                 metrics=['mae'])\n",
    "    return model\n",
    "\n",
    "model=build_model()\n",
    "model.summary()"
   ]
  },
  {
   "cell_type": "code",
   "execution_count": 54,
   "metadata": {},
   "outputs": [
    {
     "name": "stdout",
     "output_type": "stream",
     "text": [
      "\n",
      ",,,,,,,,,,,,,,,,,,,,,,,,,,,,,,,,,,,,,,,,,,,,,,,,,,,,,,,,,,,,,,,,,,,,,,,,,,,,,,,,,,,,,,,,,,,,,,,,,,,,\n",
      ",,,,,,,,,,,,,,,,,,,,,,,,,,,,,,,,,,,,,,,,,,,,,,,,,,,,,,,,,,,,,,,,,,,,,,,,,,,,,,,,,,,,,,,,,,,,,,,,,,,,\n",
      ",,,,,,,,,,,,,,,,,,,,,,,,,,,,,,,,,,,,,,,,,,,,,,,,,,,,,,,,,,,,,,,,,,,,,,,,,,,,,,,,,,,,,,,,,,,,,,,,,,,,\n",
      ",,,,,,,,,,,,,,,,,,,,,,,,,,,,,,,,,,,,,,,,,,,,,,,,,,,,,,,,,,,,,,,,,,,,,,,,,,,,,,,,,,,,,,,,,,,,,,,,,,,,\n",
      ",,,,,,,,,,,,,,,,,,,,,,,,,,,,,,,,,,,,,,,,,,,,,,,,,,,,,,,,,,,,,,,,,,,,,,,,,,,,,,,,,,,,,,,,,,,,,,,,,,,,"
     ]
    }
   ],
   "source": [
    "#Train the model\n",
    "#Display training progress by printing a single dot for each completed epoch\n",
    "class PrintDot(keras.callbacks.Callback):\n",
    "    def on_epoch_end(self,epoch,logs):\n",
    "        if epoch%100==0:print('')\n",
    "        print(',',end='')\n",
    "        \n",
    "EPOCHS=500\n",
    "\n",
    "#Store training stats\n",
    "history=model.fit(train_data,train_labels,epochs=EPOCHS,\n",
    "                 validation_split=0.2, verbose=0,\n",
    "                 callbacks=[PrintDot()])"
   ]
  },
  {
   "cell_type": "code",
   "execution_count": 56,
   "metadata": {},
   "outputs": [
    {
     "data": {
      "image/png": "[encoded data removed]",
      "text/plain": [
       "<Figure size 432x288 with 1 Axes>"
      ]
     },
     "metadata": {
      "needs_background": "light"
     },
     "output_type": "display_data"
    }
   ],
   "source": [
    "import matplotlib.pyplot as plt\n",
    "\n",
    "def plot_history(history):\n",
    "    plt.figure()\n",
    "    plt.xlabel('Epoch')\n",
    "    plt.ylabel('Mean Abs Error [1000$]')\n",
    "    plt.plot(history.epoch, np.array(history.history['mean_absolute_error']),label='Train Loss')\n",
    "    plt.plot(history.epoch, np.array(history.history['val_mean_absolute_error']),label='Val loss')\n",
    "    plt.legend()\n",
    "    plt.ylim([0,5])\n",
    "    \n",
    "plot_history(history)"
   ]
  },
  {
   "cell_type": "code",
   "execution_count": 57,
   "metadata": {},
   "outputs": [
    {
     "name": "stdout",
     "output_type": "stream",
     "text": [
      "\n",
      ",,,,,,,,,,,,,,,,,,,,,,,,,,,,,,,,,,,,,,,,,,,,,,,,,,,,,,,,,,,,,,,,,,,,,,,,,,,,,,,,,,,,,,,,,,,,,,,,,,,,\n",
      ",,,,,,,,,,,,,,,,,,,,,,,,,,,,,,,,,,,,,,,,,,,,,,,,,,,,,,"
     ]
    },
    {
     "data": {
      "image/png": "[encoded data removed]",
      "text/plain": [
       "<Figure size 432x288 with 1 Axes>"
      ]
     },
     "metadata": {
      "needs_background": "light"
     },
     "output_type": "display_data"
    }
   ],
   "source": [
    "#Let's update the model.fit method to automatically stop training when the validation score doesn't improve.\n",
    "#We'll use a callback that tests a trainiing condition for every epoch.\n",
    "model=build_model()\n",
    "\n",
    "#The patience parameter is the amount of epochs to check for improvement\n",
    "early_stop=keras.callbacks.EarlyStopping(monitor='val_loss',patience=20)\n",
    "\n",
    "history=model.fit(train_data,train_labels,epochs=EPOCHS,\n",
    "                 validation_split=0.2, verbose=0,\n",
    "                 callbacks=[early_stop,PrintDot()])\n",
    "\n",
    "plot_history(history)"
   ]
  },
  {
   "cell_type": "code",
   "execution_count": 59,
   "metadata": {},
   "outputs": [
    {
     "name": "stdout",
     "output_type": "stream",
     "text": [
      "Testing set Mean Abs Error: $2668.22\n"
     ]
    }
   ],
   "source": [
    "[loss, mae]=model.evaluate(test_data,test_labels, verbose=0)\n",
    "print(\"Testing set Mean Abs Error: ${:7.2f}\".format(mae*1000))"
   ]
  },
  {
   "cell_type": "code",
   "execution_count": 61,
   "metadata": {},
   "outputs": [
    {
     "data": {
      "image/png": "[encoded data removed]",
      "text/plain": [
       "<Figure size 432x288 with 1 Axes>"
      ]
     },
     "metadata": {
      "needs_background": "light"
     },
     "output_type": "display_data"
    }
   ],
   "source": [
    "#Predict\n",
    "test_predictions=model.predict(test_data).flatten()\n",
    "\n",
    "plt.scatter(test_labels,test_predictions)\n",
    "plt.xlabel('True Values [1000$]')\n",
    "plt.ylabel('Predictions [1000$]')\n",
    "plt.axis('equal')\n",
    "plt.xlim(plt.xlim())\n",
    "plt.ylim(plt.ylim())\n",
    "_=plt.plot([-100,100],[-100,100])"
   ]
  },
  {
   "cell_type": "code",
   "execution_count": 62,
   "metadata": {},
   "outputs": [
    {
     "data": {
      "image/png": "[encoded data removed]",
      "text/plain": [
       "<Figure size 432x288 with 1 Axes>"
      ]
     },
     "metadata": {
      "needs_background": "light"
     },
     "output_type": "display_data"
    }
   ],
   "source": [
    "error=test_predictions-test_labels\n",
    "plt.hist(error,bins=50)\n",
    "plt.xlabel(\"Predictino Error [1000$]\")\n",
    "_=plt.ylabel(\"Count\")"
   ]
  },
  {
   "cell_type": "code",
   "execution_count": 64,
   "metadata": {},
   "outputs": [],
   "source": [
    "#Conclusion\n",
    "#Mean Squared Error(MSE) is a common loss function used for regression problems\n",
    "#Similarly, evaluation metrics used for regression differ from classification. A coom regression metric is Mean Absolute Error(MAE).\n",
    "#When input data features have values with different ranges, each feature should be scaled independently.\n",
    "#If there is not much training data, prefer a small network with few hidden layers to avoud overfitting.\n",
    "#Early stopping is a useful technique to prevent overfitting."
   ]
  },
  {
   "cell_type": "code",
   "execution_count": 65,
   "metadata": {},
   "outputs": [
    {
     "name": "stdout",
     "output_type": "stream",
     "text": [
      "1.9.0\n"
     ]
    }
   ],
   "source": [
    "#Exploring overfitting and underfitting\n",
    "#our model would overfit to the training data.\n",
    "#The opposite of overfitting is underfitting. Underfitting occurs when there is still room for improvement on the test data.\n",
    "#If the model is not powerful enough, is over-regularized, or has simply not been trained long enough.\n",
    "#To prevent overfitting, the best solution is to use more training data. \n",
    "#The next best solution is to use techniques like regularization.\n",
    "import tensorflow as tf\n",
    "from tensorflow import keras\n",
    "\n",
    "import numpy as np\n",
    "import matplotlib.pyplot as plt\n",
    "\n",
    "print(tf.__version__)"
   ]
  },
  {
   "cell_type": "code",
   "execution_count": 68,
   "metadata": {},
   "outputs": [],
   "source": [
    "#Download the IMDB dataset\n",
    "NUM_WORDS=10000\n",
    "(train_data,train_labels),(test_data,test_labels)=keras.datasets.imdb.load_data(num_words=NUM_WORDS)\n",
    "\n",
    "def multi_hot_sequences(sequences, dimension):\n",
    "    #Create an all-zero matrix of shape(len(sequences),dimension)\n",
    "    results=np.zeros((len(sequences),dimension))\n",
    "    for i, word_indices in enumerate(sequences):\n",
    "        results[i,word_indices]=1.0 #set specific indices of results[i] to 1s\n",
    "    return results\n",
    "\n",
    "train_data=multi_hot_sequences(train_data,dimension=NUM_WORDS)\n",
    "test_data=multi_hot_sequences(test_data,dimension=NUM_WORDS)"
   ]
  },
  {
   "cell_type": "code",
   "execution_count": 69,
   "metadata": {},
   "outputs": [
    {
     "data": {
      "text/plain": [
       "[<matplotlib.lines.Line2D at 0x28d0c5b9780>]"
      ]
     },
     "execution_count": 69,
     "metadata": {},
     "output_type": "execute_result"
    },
    {
     "data": {
      "image/png": "[encoded data removed]",
      "text/plain": [
       "<Figure size 432x288 with 1 Axes>"
      ]
     },
     "metadata": {
      "needs_background": "light"
     },
     "output_type": "display_data"
    }
   ],
   "source": [
    "plt.plot(train_data[0])"
   ]
  },
  {
   "cell_type": "code",
   "execution_count": 71,
   "metadata": {},
   "outputs": [
    {
     "name": "stdout",
     "output_type": "stream",
     "text": [
      "_________________________________________________________________\n",
      "Layer (type)                 Output Shape              Param #   \n",
      "=================================================================\n",
      "dense_16 (Dense)             (None, 16)                160016    \n",
      "_________________________________________________________________\n",
      "dense_17 (Dense)             (None, 16)                272       \n",
      "_________________________________________________________________\n",
      "dense_18 (Dense)             (None, 1)                 17        \n",
      "=================================================================\n",
      "Total params: 160,305\n",
      "Trainable params: 160,305\n",
      "Non-trainable params: 0\n",
      "_________________________________________________________________\n"
     ]
    }
   ],
   "source": [
    "#Demonstrate overfitting\n",
    "#The simplest way to prevent overfitting is to reduce the size of the model, the number of learnable parameters in the model.\n",
    "#To find an appropriate model size, it's best to start with relatively few layers and parameters, \n",
    "#then begin increasing the size of the layers or adding new layers until you see diminishing returns on the validation loss.\n",
    "baseline_model=keras.Sequential([\n",
    "    #'input_shape' is only requeired here so that '.summary' works.\n",
    "    keras.layers.Dense(16,activation=tf.nn.relu, input_shape=(NUM_WORDS,)),\n",
    "    keras.layers.Dense(16,activation=tf.nn.relu),\n",
    "    keras.layers.Dense(1,activation=tf.nn.sigmoid)\n",
    "])\n",
    "baseline_model.compile(optimizer='adam',\n",
    "                      loss='binary_crossentropy',\n",
    "                      metrics=['accuracy','binary_crossentropy'])\n",
    "baseline_model.summary()"
   ]
  },
  {
   "cell_type": "code",
   "execution_count": 72,
   "metadata": {},
   "outputs": [
    {
     "name": "stdout",
     "output_type": "stream",
     "text": [
      "Train on 25000 samples, validate on 25000 samples\n",
      "Epoch 1/20\n",
      " - 5s - loss: 0.4979 - acc: 0.7940 - binary_crossentropy: 0.4979 - val_loss: 0.3512 - val_acc: 0.8782 - val_binary_crossentropy: 0.3512\n",
      "Epoch 2/20\n",
      " - 4s - loss: 0.2597 - acc: 0.9114 - binary_crossentropy: 0.2597 - val_loss: 0.2876 - val_acc: 0.8878 - val_binary_crossentropy: 0.2876\n",
      "Epoch 3/20\n",
      " - 4s - loss: 0.1901 - acc: 0.9349 - binary_crossentropy: 0.1901 - val_loss: 0.2860 - val_acc: 0.8868 - val_binary_crossentropy: 0.2860\n",
      "Epoch 4/20\n",
      " - 4s - loss: 0.1524 - acc: 0.9493 - binary_crossentropy: 0.1524 - val_loss: 0.3059 - val_acc: 0.8802 - val_binary_crossentropy: 0.3059\n",
      "Epoch 5/20\n",
      " - 4s - loss: 0.1268 - acc: 0.9585 - binary_crossentropy: 0.1268 - val_loss: 0.3290 - val_acc: 0.8771 - val_binary_crossentropy: 0.3290\n",
      "Epoch 6/20\n",
      " - 4s - loss: 0.1060 - acc: 0.9669 - binary_crossentropy: 0.1060 - val_loss: 0.3550 - val_acc: 0.8727 - val_binary_crossentropy: 0.3550\n",
      "Epoch 7/20\n",
      " - 4s - loss: 0.0896 - acc: 0.9733 - binary_crossentropy: 0.0896 - val_loss: 0.3993 - val_acc: 0.8652 - val_binary_crossentropy: 0.3993\n",
      "Epoch 8/20\n",
      " - 4s - loss: 0.0764 - acc: 0.9785 - binary_crossentropy: 0.0764 - val_loss: 0.4224 - val_acc: 0.8658 - val_binary_crossentropy: 0.4224\n",
      "Epoch 9/20\n",
      " - 4s - loss: 0.0642 - acc: 0.9843 - binary_crossentropy: 0.0642 - val_loss: 0.4595 - val_acc: 0.8626 - val_binary_crossentropy: 0.4595\n",
      "Epoch 10/20\n",
      " - 4s - loss: 0.0537 - acc: 0.9884 - binary_crossentropy: 0.0537 - val_loss: 0.4995 - val_acc: 0.8592 - val_binary_crossentropy: 0.4995\n",
      "Epoch 11/20\n",
      " - 4s - loss: 0.0455 - acc: 0.9907 - binary_crossentropy: 0.0455 - val_loss: 0.5341 - val_acc: 0.8591 - val_binary_crossentropy: 0.5341\n",
      "Epoch 12/20\n",
      " - 4s - loss: 0.0374 - acc: 0.9934 - binary_crossentropy: 0.0374 - val_loss: 0.5736 - val_acc: 0.8570 - val_binary_crossentropy: 0.5736\n",
      "Epoch 13/20\n",
      " - 4s - loss: 0.0305 - acc: 0.9953 - binary_crossentropy: 0.0305 - val_loss: 0.6089 - val_acc: 0.8555 - val_binary_crossentropy: 0.6089\n",
      "Epoch 14/20\n",
      " - 4s - loss: 0.0251 - acc: 0.9967 - binary_crossentropy: 0.0251 - val_loss: 0.6464 - val_acc: 0.8539 - val_binary_crossentropy: 0.6464\n",
      "Epoch 15/20\n",
      " - 4s - loss: 0.0197 - acc: 0.9980 - binary_crossentropy: 0.0197 - val_loss: 0.6857 - val_acc: 0.8532 - val_binary_crossentropy: 0.6857\n",
      "Epoch 16/20\n",
      " - 4s - loss: 0.0159 - acc: 0.9988 - binary_crossentropy: 0.0159 - val_loss: 0.7211 - val_acc: 0.8525 - val_binary_crossentropy: 0.7211\n",
      "Epoch 17/20\n",
      " - 4s - loss: 0.0127 - acc: 0.9994 - binary_crossentropy: 0.0127 - val_loss: 0.7578 - val_acc: 0.8509 - val_binary_crossentropy: 0.7578\n",
      "Epoch 18/20\n",
      " - 4s - loss: 0.0101 - acc: 0.9996 - binary_crossentropy: 0.0101 - val_loss: 0.7892 - val_acc: 0.8515 - val_binary_crossentropy: 0.7892\n",
      "Epoch 19/20\n",
      " - 4s - loss: 0.0081 - acc: 0.9998 - binary_crossentropy: 0.0081 - val_loss: 0.8173 - val_acc: 0.8504 - val_binary_crossentropy: 0.8173\n",
      "Epoch 20/20\n",
      " - 4s - loss: 0.0067 - acc: 0.9999 - binary_crossentropy: 0.0067 - val_loss: 0.8468 - val_acc: 0.8509 - val_binary_crossentropy: 0.8468\n"
     ]
    }
   ],
   "source": [
    "baseline_history=baseline_model.fit(train_data,train_labels,\n",
    "                                   epochs=20,batch_size=512,\n",
    "                                   validation_data=(test_data,test_labels),\n",
    "                                   verbose=2)"
   ]
  },
  {
   "cell_type": "code",
   "execution_count": 73,
   "metadata": {},
   "outputs": [
    {
     "name": "stdout",
     "output_type": "stream",
     "text": [
      "_________________________________________________________________\n",
      "Layer (type)                 Output Shape              Param #   \n",
      "=================================================================\n",
      "dense_19 (Dense)             (None, 4)                 40004     \n",
      "_________________________________________________________________\n",
      "dense_20 (Dense)             (None, 4)                 20        \n",
      "_________________________________________________________________\n",
      "dense_21 (Dense)             (None, 1)                 5         \n",
      "=================================================================\n",
      "Total params: 40,029\n",
      "Trainable params: 40,029\n",
      "Non-trainable params: 0\n",
      "_________________________________________________________________\n"
     ]
    }
   ],
   "source": [
    "#Create a smaller model\n",
    "smaller_model=keras.Sequential([\n",
    "    #'input_shape' is only requeired here so that '.summary' works.\n",
    "    keras.layers.Dense(4,activation=tf.nn.relu, input_shape=(NUM_WORDS,)),\n",
    "    keras.layers.Dense(4,activation=tf.nn.relu),\n",
    "    keras.layers.Dense(1,activation=tf.nn.sigmoid)\n",
    "])\n",
    "smaller_model.compile(optimizer='adam',\n",
    "                      loss='binary_crossentropy',\n",
    "                      metrics=['accuracy','binary_crossentropy'])\n",
    "smaller_model.summary()"
   ]
  },
  {
   "cell_type": "code",
   "execution_count": 74,
   "metadata": {},
   "outputs": [
    {
     "name": "stdout",
     "output_type": "stream",
     "text": [
      "Train on 25000 samples, validate on 25000 samples\n",
      "Epoch 1/20\n",
      " - 5s - loss: 0.5853 - acc: 0.7403 - binary_crossentropy: 0.5853 - val_loss: 0.4896 - val_acc: 0.8417 - val_binary_crossentropy: 0.4896\n",
      "Epoch 2/20\n",
      " - 4s - loss: 0.3992 - acc: 0.8883 - binary_crossentropy: 0.3992 - val_loss: 0.3740 - val_acc: 0.8819 - val_binary_crossentropy: 0.3740\n",
      "Epoch 3/20\n",
      " - 4s - loss: 0.2957 - acc: 0.9148 - binary_crossentropy: 0.2957 - val_loss: 0.3182 - val_acc: 0.8873 - val_binary_crossentropy: 0.3182\n",
      "Epoch 4/20\n",
      " - 4s - loss: 0.2382 - acc: 0.9276 - binary_crossentropy: 0.2382 - val_loss: 0.2957 - val_acc: 0.8870 - val_binary_crossentropy: 0.2957\n",
      "Epoch 5/20\n",
      " - 4s - loss: 0.2028 - acc: 0.9368 - binary_crossentropy: 0.2028 - val_loss: 0.2891 - val_acc: 0.8854 - val_binary_crossentropy: 0.2891\n",
      "Epoch 6/20\n",
      " - 4s - loss: 0.1778 - acc: 0.9437 - binary_crossentropy: 0.1778 - val_loss: 0.2858 - val_acc: 0.8867 - val_binary_crossentropy: 0.2858\n",
      "Epoch 7/20\n",
      " - 4s - loss: 0.1586 - acc: 0.9515 - binary_crossentropy: 0.1586 - val_loss: 0.2894 - val_acc: 0.8847 - val_binary_crossentropy: 0.2894\n",
      "Epoch 8/20\n",
      " - 4s - loss: 0.1434 - acc: 0.9562 - binary_crossentropy: 0.1434 - val_loss: 0.2969 - val_acc: 0.8822 - val_binary_crossentropy: 0.2969\n",
      "Epoch 9/20\n",
      " - 4s - loss: 0.1310 - acc: 0.9600 - binary_crossentropy: 0.1310 - val_loss: 0.3063 - val_acc: 0.8803 - val_binary_crossentropy: 0.3063\n",
      "Epoch 10/20\n",
      " - 4s - loss: 0.1196 - acc: 0.9647 - binary_crossentropy: 0.1196 - val_loss: 0.3176 - val_acc: 0.8774 - val_binary_crossentropy: 0.3176\n",
      "Epoch 11/20\n",
      " - 4s - loss: 0.1100 - acc: 0.9693 - binary_crossentropy: 0.1100 - val_loss: 0.3272 - val_acc: 0.8767 - val_binary_crossentropy: 0.3272\n",
      "Epoch 12/20\n",
      " - 4s - loss: 0.1011 - acc: 0.9723 - binary_crossentropy: 0.1011 - val_loss: 0.3420 - val_acc: 0.8729 - val_binary_crossentropy: 0.3420\n",
      "Epoch 13/20\n",
      " - 4s - loss: 0.0931 - acc: 0.9755 - binary_crossentropy: 0.0931 - val_loss: 0.3520 - val_acc: 0.8722 - val_binary_crossentropy: 0.3520\n",
      "Epoch 14/20\n",
      " - 4s - loss: 0.0863 - acc: 0.9780 - binary_crossentropy: 0.0863 - val_loss: 0.3671 - val_acc: 0.8701 - val_binary_crossentropy: 0.3671\n",
      "Epoch 15/20\n",
      " - 4s - loss: 0.0796 - acc: 0.9805 - binary_crossentropy: 0.0796 - val_loss: 0.3798 - val_acc: 0.8689 - val_binary_crossentropy: 0.3798\n",
      "Epoch 16/20\n",
      " - 4s - loss: 0.0738 - acc: 0.9826 - binary_crossentropy: 0.0738 - val_loss: 0.3945 - val_acc: 0.8688 - val_binary_crossentropy: 0.3945\n",
      "Epoch 17/20\n",
      " - 4s - loss: 0.0684 - acc: 0.9848 - binary_crossentropy: 0.0684 - val_loss: 0.4120 - val_acc: 0.8657 - val_binary_crossentropy: 0.4120\n",
      "Epoch 18/20\n",
      " - 4s - loss: 0.0633 - acc: 0.9873 - binary_crossentropy: 0.0633 - val_loss: 0.4323 - val_acc: 0.8634 - val_binary_crossentropy: 0.4323\n",
      "Epoch 19/20\n",
      " - 4s - loss: 0.0585 - acc: 0.9891 - binary_crossentropy: 0.0585 - val_loss: 0.4419 - val_acc: 0.8635 - val_binary_crossentropy: 0.4419\n",
      "Epoch 20/20\n",
      " - 4s - loss: 0.0541 - acc: 0.9902 - binary_crossentropy: 0.0541 - val_loss: 0.4578 - val_acc: 0.8629 - val_binary_crossentropy: 0.4578\n"
     ]
    }
   ],
   "source": [
    "smaller_history=smaller_model.fit(train_data,train_labels,\n",
    "                                 epochs=20,batch_size=512,\n",
    "                                 validation_data=(test_data,test_labels),\n",
    "                                 verbose=2)"
   ]
  },
  {
   "cell_type": "code",
   "execution_count": 75,
   "metadata": {},
   "outputs": [
    {
     "name": "stdout",
     "output_type": "stream",
     "text": [
      "_________________________________________________________________\n",
      "Layer (type)                 Output Shape              Param #   \n",
      "=================================================================\n",
      "dense_22 (Dense)             (None, 512)               5120512   \n",
      "_________________________________________________________________\n",
      "dense_23 (Dense)             (None, 512)               262656    \n",
      "_________________________________________________________________\n",
      "dense_24 (Dense)             (None, 1)                 513       \n",
      "=================================================================\n",
      "Total params: 5,383,681\n",
      "Trainable params: 5,383,681\n",
      "Non-trainable params: 0\n",
      "_________________________________________________________________\n"
     ]
    }
   ],
   "source": [
    "#Create a bigger model\n",
    "bigger_model=keras.Sequential([\n",
    "    #'input_shape' is only requeired here so that '.summary' works.\n",
    "    keras.layers.Dense(512,activation=tf.nn.relu, input_shape=(NUM_WORDS,)),\n",
    "    keras.layers.Dense(512,activation=tf.nn.relu),\n",
    "    keras.layers.Dense(1,activation=tf.nn.sigmoid)\n",
    "])\n",
    "bigger_model.compile(optimizer='adam',\n",
    "                      loss='binary_crossentropy',\n",
    "                      metrics=['accuracy','binary_crossentropy'])\n",
    "bigger_model.summary()"
   ]
  },
  {
   "cell_type": "code",
   "execution_count": 76,
   "metadata": {},
   "outputs": [
    {
     "name": "stdout",
     "output_type": "stream",
     "text": [
      "Train on 25000 samples, validate on 25000 samples\n",
      "Epoch 1/20\n",
      " - 16s - loss: 0.3408 - acc: 0.8544 - binary_crossentropy: 0.3408 - val_loss: 0.2950 - val_acc: 0.8804 - val_binary_crossentropy: 0.2950\n",
      "Epoch 2/20\n",
      " - 15s - loss: 0.1363 - acc: 0.9506 - binary_crossentropy: 0.1363 - val_loss: 0.3649 - val_acc: 0.8614 - val_binary_crossentropy: 0.3649\n",
      "Epoch 3/20\n",
      " - 15s - loss: 0.0460 - acc: 0.9868 - binary_crossentropy: 0.0460 - val_loss: 0.4292 - val_acc: 0.8681 - val_binary_crossentropy: 0.4292\n",
      "Epoch 4/20\n",
      " - 15s - loss: 0.0072 - acc: 0.9990 - binary_crossentropy: 0.0072 - val_loss: 0.6098 - val_acc: 0.8698 - val_binary_crossentropy: 0.6098\n",
      "Epoch 5/20\n",
      " - 15s - loss: 9.2951e-04 - acc: 1.0000 - binary_crossentropy: 9.2951e-04 - val_loss: 0.7045 - val_acc: 0.8699 - val_binary_crossentropy: 0.7045\n",
      "Epoch 6/20\n",
      " - 15s - loss: 6.7971e-04 - acc: 1.0000 - binary_crossentropy: 6.7971e-04 - val_loss: 0.7418 - val_acc: 0.8696 - val_binary_crossentropy: 0.7418\n",
      "Epoch 7/20\n",
      " - 15s - loss: 1.3107e-04 - acc: 1.0000 - binary_crossentropy: 1.3107e-04 - val_loss: 0.7684 - val_acc: 0.8702 - val_binary_crossentropy: 0.7684\n",
      "Epoch 8/20\n",
      " - 15s - loss: 8.8095e-05 - acc: 1.0000 - binary_crossentropy: 8.8095e-05 - val_loss: 0.7915 - val_acc: 0.8704 - val_binary_crossentropy: 0.7915\n",
      "Epoch 9/20\n",
      " - 15s - loss: 6.5412e-05 - acc: 1.0000 - binary_crossentropy: 6.5412e-05 - val_loss: 0.8099 - val_acc: 0.8705 - val_binary_crossentropy: 0.8099\n",
      "Epoch 10/20\n",
      " - 15s - loss: 5.1061e-05 - acc: 1.0000 - binary_crossentropy: 5.1061e-05 - val_loss: 0.8251 - val_acc: 0.8707 - val_binary_crossentropy: 0.8251\n",
      "Epoch 11/20\n",
      " - 16s - loss: 4.1121e-05 - acc: 1.0000 - binary_crossentropy: 4.1121e-05 - val_loss: 0.8387 - val_acc: 0.8707 - val_binary_crossentropy: 0.8387\n",
      "Epoch 12/20\n",
      " - 15s - loss: 3.3820e-05 - acc: 1.0000 - binary_crossentropy: 3.3820e-05 - val_loss: 0.8505 - val_acc: 0.8706 - val_binary_crossentropy: 0.8505\n",
      "Epoch 13/20\n",
      " - 15s - loss: 2.8332e-05 - acc: 1.0000 - binary_crossentropy: 2.8332e-05 - val_loss: 0.8610 - val_acc: 0.8709 - val_binary_crossentropy: 0.8610\n",
      "Epoch 14/20\n",
      " - 15s - loss: 2.4102e-05 - acc: 1.0000 - binary_crossentropy: 2.4102e-05 - val_loss: 0.8709 - val_acc: 0.8708 - val_binary_crossentropy: 0.8709\n",
      "Epoch 15/20\n",
      " - 15s - loss: 2.0720e-05 - acc: 1.0000 - binary_crossentropy: 2.0720e-05 - val_loss: 0.8798 - val_acc: 0.8709 - val_binary_crossentropy: 0.8798\n",
      "Epoch 16/20\n",
      " - 15s - loss: 1.8011e-05 - acc: 1.0000 - binary_crossentropy: 1.8011e-05 - val_loss: 0.8875 - val_acc: 0.8708 - val_binary_crossentropy: 0.8875\n",
      "Epoch 17/20\n",
      " - 16s - loss: 1.5785e-05 - acc: 1.0000 - binary_crossentropy: 1.5785e-05 - val_loss: 0.8961 - val_acc: 0.8709 - val_binary_crossentropy: 0.8961\n",
      "Epoch 18/20\n",
      " - 15s - loss: 1.3955e-05 - acc: 1.0000 - binary_crossentropy: 1.3955e-05 - val_loss: 0.9028 - val_acc: 0.8707 - val_binary_crossentropy: 0.9028\n",
      "Epoch 19/20\n",
      " - 15s - loss: 1.2387e-05 - acc: 1.0000 - binary_crossentropy: 1.2387e-05 - val_loss: 0.9095 - val_acc: 0.8708 - val_binary_crossentropy: 0.9095\n",
      "Epoch 20/20\n",
      " - 16s - loss: 1.1085e-05 - acc: 1.0000 - binary_crossentropy: 1.1085e-05 - val_loss: 0.9161 - val_acc: 0.8707 - val_binary_crossentropy: 0.9161\n"
     ]
    }
   ],
   "source": [
    "bigger_history=bigger_model.fit(train_data,train_labels,\n",
    "                               epochs=20,batch_size=512,\n",
    "                               validation_data=(test_data,test_labels),\n",
    "                               verbose=2)"
   ]
  },
  {
   "cell_type": "code",
   "execution_count": 79,
   "metadata": {},
   "outputs": [
    {
     "data": {
      "image/png": "[encoded data removed]",
      "text/plain": [
       "<Figure size 1152x720 with 1 Axes>"
      ]
     },
     "metadata": {
      "needs_background": "light"
     },
     "output_type": "display_data"
    }
   ],
   "source": [
    "#Plot the training and validation loss\n",
    "def plot_history(histories,key='binary_crossentropy'):\n",
    "    plt.figure(figsize=(16,10))\n",
    "    \n",
    "    for name,history in histories:\n",
    "        val=plt.plot(history.epoch,history.history['val_'+key],\n",
    "                    '--',label=name.title()+'Val')\n",
    "        plt.plot(history.epoch,history.history[key],color=val[0].get_color(),\n",
    "                label=name.title()+' Train')\n",
    "        \n",
    "    plt.xlabel('Epochs')\n",
    "    plt.ylabel(key.replace('_',' ').title())\n",
    "    plt.legend()\n",
    "        \n",
    "    plt.xlim([0,max(history.epoch)])\n",
    "        \n",
    "plot_history([('baseline',baseline_history),\n",
    "            ('smaller',smaller_history),\n",
    "            ('bigger',bigger_history)])\n",
    "#Notice that the larger network begins overfitting almost right away, after just one epoch, and overffits much more severely.\n",
    "#The more capacity the network has, the quicker it will be able to model the training data\n",
    "#,but the more susceptible it is to overfitting."
   ]
  },
  {
   "cell_type": "code",
   "execution_count": 81,
   "metadata": {},
   "outputs": [
    {
     "name": "stdout",
     "output_type": "stream",
     "text": [
      "Train on 25000 samples, validate on 25000 samples\n",
      "Epoch 1/20\n",
      " - 5s - loss: 0.5168 - acc: 0.8139 - binary_crossentropy: 0.4771 - val_loss: 0.3779 - val_acc: 0.8754 - val_binary_crossentropy: 0.3370\n",
      "Epoch 2/20\n",
      " - 4s - loss: 0.3017 - acc: 0.9091 - binary_crossentropy: 0.2567 - val_loss: 0.3330 - val_acc: 0.8880 - val_binary_crossentropy: 0.2847\n",
      "Epoch 3/20\n",
      " - 4s - loss: 0.2506 - acc: 0.9305 - binary_crossentropy: 0.1998 - val_loss: 0.3361 - val_acc: 0.8870 - val_binary_crossentropy: 0.2835\n",
      "Epoch 4/20\n",
      " - 4s - loss: 0.2263 - acc: 0.9409 - binary_crossentropy: 0.1720 - val_loss: 0.3505 - val_acc: 0.8820 - val_binary_crossentropy: 0.2950\n",
      "Epoch 5/20\n",
      " - 4s - loss: 0.2110 - acc: 0.9482 - binary_crossentropy: 0.1541 - val_loss: 0.3644 - val_acc: 0.8784 - val_binary_crossentropy: 0.3065\n",
      "Epoch 6/20\n",
      " - 4s - loss: 0.2000 - acc: 0.9516 - binary_crossentropy: 0.1412 - val_loss: 0.3802 - val_acc: 0.8748 - val_binary_crossentropy: 0.3208\n",
      "Epoch 7/20\n",
      " - 4s - loss: 0.1908 - acc: 0.9556 - binary_crossentropy: 0.1305 - val_loss: 0.3974 - val_acc: 0.8733 - val_binary_crossentropy: 0.3365\n",
      "Epoch 8/20\n",
      " - 4s - loss: 0.1841 - acc: 0.9588 - binary_crossentropy: 0.1224 - val_loss: 0.4186 - val_acc: 0.8676 - val_binary_crossentropy: 0.3564\n",
      "Epoch 9/20\n",
      " - 4s - loss: 0.1801 - acc: 0.9601 - binary_crossentropy: 0.1173 - val_loss: 0.4247 - val_acc: 0.8684 - val_binary_crossentropy: 0.3614\n",
      "Epoch 10/20\n",
      " - 4s - loss: 0.1710 - acc: 0.9655 - binary_crossentropy: 0.1072 - val_loss: 0.4397 - val_acc: 0.8651 - val_binary_crossentropy: 0.3758\n",
      "Epoch 11/20\n",
      " - 4s - loss: 0.1659 - acc: 0.9668 - binary_crossentropy: 0.1018 - val_loss: 0.4539 - val_acc: 0.8644 - val_binary_crossentropy: 0.3896\n",
      "Epoch 12/20\n",
      " - 4s - loss: 0.1661 - acc: 0.9652 - binary_crossentropy: 0.1011 - val_loss: 0.4763 - val_acc: 0.8623 - val_binary_crossentropy: 0.4104\n",
      "Epoch 13/20\n",
      " - 4s - loss: 0.1624 - acc: 0.9672 - binary_crossentropy: 0.0960 - val_loss: 0.4795 - val_acc: 0.8611 - val_binary_crossentropy: 0.4129\n",
      "Epoch 14/20\n",
      " - 4s - loss: 0.1641 - acc: 0.9656 - binary_crossentropy: 0.0969 - val_loss: 0.4904 - val_acc: 0.8598 - val_binary_crossentropy: 0.4225\n",
      "Epoch 15/20\n",
      " - 4s - loss: 0.1563 - acc: 0.9705 - binary_crossentropy: 0.0881 - val_loss: 0.5108 - val_acc: 0.8577 - val_binary_crossentropy: 0.4426\n",
      "Epoch 16/20\n",
      " - 4s - loss: 0.1471 - acc: 0.9750 - binary_crossentropy: 0.0792 - val_loss: 0.5141 - val_acc: 0.8589 - val_binary_crossentropy: 0.4467\n",
      "Epoch 17/20\n",
      " - 4s - loss: 0.1425 - acc: 0.9763 - binary_crossentropy: 0.0750 - val_loss: 0.5457 - val_acc: 0.8537 - val_binary_crossentropy: 0.4779\n",
      "Epoch 18/20\n",
      " - 4s - loss: 0.1429 - acc: 0.9768 - binary_crossentropy: 0.0746 - val_loss: 0.5456 - val_acc: 0.8570 - val_binary_crossentropy: 0.4772\n",
      "Epoch 19/20\n",
      " - 4s - loss: 0.1436 - acc: 0.9748 - binary_crossentropy: 0.0745 - val_loss: 0.5644 - val_acc: 0.8556 - val_binary_crossentropy: 0.4945\n",
      "Epoch 20/20\n",
      " - 4s - loss: 0.1410 - acc: 0.9771 - binary_crossentropy: 0.0709 - val_loss: 0.5749 - val_acc: 0.8558 - val_binary_crossentropy: 0.5044\n"
     ]
    }
   ],
   "source": [
    "#Strategoes\n",
    "#Add weogjt regularization.\n",
    "#given some training data and a network architecture, there are multiple sets of weights values that could explain the data,\n",
    "#and simpler models are less likely to overfit than complex ones.\n",
    "#A simple model in this context  is a model where the ditribution of parameter values has less entropy.\n",
    "#Thus a common way to mitigate overfitting is to put constraints on the complexity of a network by forcing its weights only to take small values,\n",
    "#which makes the distribution of weight values more \"regular\".\n",
    "#This is called \"weight regularization\", and it is done by adding to the loss functio3n of the network a cost associated with having large weights.\n",
    "#L1 regularization, where the cost added is proportional to the absolute value of the weights coefficients\n",
    "#L2 regularization, where the cost added is proportional to the square of the value of the weights coefficients\n",
    "#also called weight decay in the context of neural networks.\n",
    "l2_model=keras.Sequential([\n",
    "    keras.layers.Dense(16,kernel_regularizer=keras.regularizers.l2(0.001),activation=tf.nn.relu, input_shape=(NUM_WORDS,)),\n",
    "    keras.layers.Dense(16,kernel_regularizer=keras.regularizers.l2(0.001),activation=tf.nn.relu),\n",
    "    keras.layers.Dense(1,activation=tf.nn.sigmoid)\n",
    "])\n",
    "l2_model.compile(optimizer='adam',\n",
    "                      loss='binary_crossentropy',\n",
    "                      metrics=['accuracy','binary_crossentropy'])\n",
    "l2_model_history=l2_model.fit(train_data,train_labels,epochs=20, batch_size=512,\n",
    "                             validation_data=(test_data,test_labels),verbose=2)\n",
    "#l2(0.001) means that every coefficient in the weight matrix of the layer will add 0.001*weight_coefficient_value**2 to the total loss of the network.\n",
    "#Note that because this penalty is only added at traininig time, the loss for this network will be much higher at training than at test time.\n"
   ]
  },
  {
   "cell_type": "code",
   "execution_count": 83,
   "metadata": {},
   "outputs": [
    {
     "data": {
      "image/png": "[encoded data removed]",
      "text/plain": [
       "<Figure size 1152x720 with 1 Axes>"
      ]
     },
     "metadata": {
      "needs_background": "light"
     },
     "output_type": "display_data"
    }
   ],
   "source": [
    "plot_history([('baseline',baseline_history),\n",
    "             ('l2',l2_model_history)])\n",
    "#L2 regularized model has become much more resistant to overfitting than the baseline model,\n",
    "#even though both models have the same number of parameters."
   ]
  },
  {
   "cell_type": "code",
   "execution_count": 85,
   "metadata": {},
   "outputs": [
    {
     "name": "stdout",
     "output_type": "stream",
     "text": [
      "Train on 25000 samples, validate on 25000 samples\n",
      "Epoch 1/20\n",
      " - 5s - loss: 0.6247 - acc: 0.6282 - binary_crossentropy: 0.6247 - val_loss: 0.4687 - val_acc: 0.8493 - val_binary_crossentropy: 0.4687\n",
      "Epoch 2/20\n",
      " - 4s - loss: 0.4582 - acc: 0.7930 - binary_crossentropy: 0.4582 - val_loss: 0.3339 - val_acc: 0.8809 - val_binary_crossentropy: 0.3339\n",
      "Epoch 3/20\n",
      " - 4s - loss: 0.3641 - acc: 0.8520 - binary_crossentropy: 0.3641 - val_loss: 0.2877 - val_acc: 0.8880 - val_binary_crossentropy: 0.2877\n",
      "Epoch 4/20\n",
      " - 4s - loss: 0.2983 - acc: 0.8878 - binary_crossentropy: 0.2983 - val_loss: 0.2745 - val_acc: 0.8887 - val_binary_crossentropy: 0.2745\n",
      "Epoch 5/20\n",
      " - 4s - loss: 0.2573 - acc: 0.9098 - binary_crossentropy: 0.2573 - val_loss: 0.2756 - val_acc: 0.8890 - val_binary_crossentropy: 0.2756\n",
      "Epoch 6/20\n",
      " - 4s - loss: 0.2204 - acc: 0.9258 - binary_crossentropy: 0.2204 - val_loss: 0.2838 - val_acc: 0.8882 - val_binary_crossentropy: 0.2838\n",
      "Epoch 7/20\n",
      " - 4s - loss: 0.1958 - acc: 0.9338 - binary_crossentropy: 0.1958 - val_loss: 0.2976 - val_acc: 0.8864 - val_binary_crossentropy: 0.2976\n",
      "Epoch 8/20\n",
      " - 4s - loss: 0.1680 - acc: 0.9432 - binary_crossentropy: 0.1680 - val_loss: 0.3227 - val_acc: 0.8833 - val_binary_crossentropy: 0.3227\n",
      "Epoch 9/20\n",
      " - 4s - loss: 0.1526 - acc: 0.9498 - binary_crossentropy: 0.1526 - val_loss: 0.3482 - val_acc: 0.8816 - val_binary_crossentropy: 0.3482\n",
      "Epoch 10/20\n",
      " - 4s - loss: 0.1404 - acc: 0.9536 - binary_crossentropy: 0.1404 - val_loss: 0.3488 - val_acc: 0.8801 - val_binary_crossentropy: 0.3488\n",
      "Epoch 11/20\n",
      " - 4s - loss: 0.1252 - acc: 0.9596 - binary_crossentropy: 0.1252 - val_loss: 0.3832 - val_acc: 0.8798 - val_binary_crossentropy: 0.3832\n",
      "Epoch 12/20\n",
      " - 4s - loss: 0.1119 - acc: 0.9644 - binary_crossentropy: 0.1119 - val_loss: 0.4069 - val_acc: 0.8796 - val_binary_crossentropy: 0.4069\n",
      "Epoch 13/20\n",
      " - 4s - loss: 0.1039 - acc: 0.9662 - binary_crossentropy: 0.1039 - val_loss: 0.4189 - val_acc: 0.8788 - val_binary_crossentropy: 0.4189\n",
      "Epoch 14/20\n",
      " - 4s - loss: 0.0975 - acc: 0.9675 - binary_crossentropy: 0.0975 - val_loss: 0.4492 - val_acc: 0.8782 - val_binary_crossentropy: 0.4492\n",
      "Epoch 15/20\n",
      " - 4s - loss: 0.0863 - acc: 0.9722 - binary_crossentropy: 0.0863 - val_loss: 0.4821 - val_acc: 0.8764 - val_binary_crossentropy: 0.4821\n",
      "Epoch 16/20\n",
      " - 4s - loss: 0.0831 - acc: 0.9725 - binary_crossentropy: 0.0831 - val_loss: 0.4853 - val_acc: 0.8770 - val_binary_crossentropy: 0.4853\n",
      "Epoch 17/20\n",
      " - 4s - loss: 0.0770 - acc: 0.9751 - binary_crossentropy: 0.0770 - val_loss: 0.5069 - val_acc: 0.8751 - val_binary_crossentropy: 0.5069\n",
      "Epoch 18/20\n",
      " - 4s - loss: 0.0762 - acc: 0.9746 - binary_crossentropy: 0.0762 - val_loss: 0.5400 - val_acc: 0.8742 - val_binary_crossentropy: 0.5400\n",
      "Epoch 19/20\n",
      " - 4s - loss: 0.0734 - acc: 0.9753 - binary_crossentropy: 0.0734 - val_loss: 0.5665 - val_acc: 0.8742 - val_binary_crossentropy: 0.5665\n",
      "Epoch 20/20\n",
      " - 4s - loss: 0.0721 - acc: 0.9764 - binary_crossentropy: 0.0721 - val_loss: 0.5646 - val_acc: 0.8736 - val_binary_crossentropy: 0.5646\n"
     ]
    }
   ],
   "source": [
    "#Add dropout\n",
    "#Dropout is one of the most effective and most commonly used regularization techniques for neural networks\n",
    "#Dropout consists of randomly \"dropping out\"(i.e. set to zero) a number of output features of the layer during training.\n",
    "#The \"dropout rage\" is the fraction of the features that are being zeroed-out.\n",
    "#At test time, no units are dropped out, and instead the layer's output values are scaled down by a factor equal to the dropout rate,\n",
    "#so as to balance for the fact that more units are active than at training time.\n",
    "dpt_model=keras.Sequential([\n",
    "    #'input_shape' is only requeired here so that '.summary' works.\n",
    "    keras.layers.Dense(16,activation=tf.nn.relu, input_shape=(NUM_WORDS,)),\n",
    "    keras.layers.Dropout(0.5),\n",
    "    keras.layers.Dense(16,activation=tf.nn.relu),\n",
    "    keras.layers.Dropout(0.5),\n",
    "    keras.layers.Dense(1,activation=tf.nn.sigmoid)\n",
    "])\n",
    "dpt_model.compile(optimizer='adam',\n",
    "                      loss='binary_crossentropy',\n",
    "                      metrics=['accuracy','binary_crossentropy'])\n",
    "dpt_model_history=dpt_model.fit(train_data,train_labels,epochs=20,batch_size=512,\n",
    "                               validation_data=(test_data,test_labels),verbose=2)"
   ]
  },
  {
   "cell_type": "code",
   "execution_count": 87,
   "metadata": {},
   "outputs": [
    {
     "data": {
      "image/png": "[encoded data removed]",
      "text/plain": [
       "<Figure size 1152x720 with 1 Axes>"
      ]
     },
     "metadata": {
      "needs_background": "light"
     },
     "output_type": "display_data"
    }
   ],
   "source": [
    "plot_history([('baseline',baseline_history),\n",
    "             ('dropout',dpt_model_history)])\n",
    "#To recap\n",
    "#Get more training data.\n",
    "#Reduce the capacity of the network.\n",
    "#Add weight regularization.\n",
    "#Add dropout."
   ]
  },
  {
   "cell_type": "code",
   "execution_count": 1,
   "metadata": {},
   "outputs": [
    {
     "data": {
      "text/plain": [
       "'1.12.0'"
      ]
     },
     "execution_count": 1,
     "metadata": {},
     "output_type": "execute_result"
    }
   ],
   "source": [
    "#Save and resotre models\n",
    "#most machine learning practitioners share code to create the model, and the trained weights, or parameter, for the model.\n",
    "from __future__ import absolute_import,division,print_function\n",
    "\n",
    "import os\n",
    "\n",
    "import tensorflow as tf\n",
    "from tensorflow import keras\n",
    "\n",
    "tf.__version__"
   ]
  },
  {
   "cell_type": "code",
   "execution_count": 2,
   "metadata": {},
   "outputs": [],
   "source": [
    "(train_images,train_labels),(test_images,test_labels)=tf.keras.datasets.mnist.load_data()\n",
    "\n",
    "train_labels=train_labels[:1000]\n",
    "test_labels=test_labels[:1000]\n",
    "\n",
    "train_images=train_images[:1000].reshape(-1,28*28)/255.0\n",
    "test_images=test_images[:1000].reshape(-1,28*28)/255.0"
   ]
  },
  {
   "cell_type": "code",
   "execution_count": 3,
   "metadata": {},
   "outputs": [
    {
     "name": "stdout",
     "output_type": "stream",
     "text": [
      "_________________________________________________________________\n",
      "Layer (type)                 Output Shape              Param #   \n",
      "=================================================================\n",
      "dense (Dense)                (None, 512)               401920    \n",
      "_________________________________________________________________\n",
      "dropout (Dropout)            (None, 512)               0         \n",
      "_________________________________________________________________\n",
      "dense_1 (Dense)              (None, 10)                5130      \n",
      "=================================================================\n",
      "Total params: 407,050\n",
      "Trainable params: 407,050\n",
      "Non-trainable params: 0\n",
      "_________________________________________________________________\n"
     ]
    }
   ],
   "source": [
    "#Define a model\n",
    "#Returns a short sequential model\n",
    "def create_model():\n",
    "    model=tf.keras.models.Sequential([\n",
    "        keras.layers.Dense(512,activation=tf.nn.relu,input_shape=(784,)),\n",
    "        keras.layers.Dropout(0.2),\n",
    "        keras.layers.Dense(10,activation=tf.nn.softmax)\n",
    "    ])\n",
    "    \n",
    "    model.compile(optimizer=tf.train.AdamOptimizer(),\n",
    "                 loss=tf.keras.losses.sparse_categorical_crossentropy,\n",
    "                 metrics=['accuracy'])\n",
    "    return model\n",
    "\n",
    "#Create a basic model instance\n",
    "model=create_model()\n",
    "model.summary()"
   ]
  },
  {
   "cell_type": "code",
   "execution_count": 5,
   "metadata": {},
   "outputs": [
    {
     "name": "stdout",
     "output_type": "stream",
     "text": [
      "Train on 1000 samples, validate on 1000 samples\n",
      "Epoch 1/10\n",
      " 640/1000 [==================>...........] - ETA: 1s - loss: 1.4271 - acc: 0.6094  \n",
      "Epoch 00001: saving model to training_1/cp.ckpt\n",
      "1000/1000 [==============================] - 3s 3ms/step - loss: 1.1598 - acc: 0.6810 - val_loss: 0.6892 - val_acc: 0.7980\n",
      "Epoch 2/10\n",
      " 576/1000 [================>.............] - ETA: 0s - loss: 0.4424 - acc: 0.8733\n",
      "Epoch 00002: saving model to training_1/cp.ckpt\n",
      "1000/1000 [==============================] - 0s 189us/step - loss: 0.4243 - acc: 0.8840 - val_loss: 0.5122 - val_acc: 0.8460\n",
      "Epoch 3/10\n",
      " 992/1000 [============================>.] - ETA: 0s - loss: 0.2808 - acc: 0.9254\n",
      "Epoch 00003: saving model to training_1/cp.ckpt\n",
      "1000/1000 [==============================] - 0s 248us/step - loss: 0.2799 - acc: 0.9260 - val_loss: 0.4720 - val_acc: 0.8480\n",
      "Epoch 4/10\n",
      " 608/1000 [=================>............] - ETA: 0s - loss: 0.1994 - acc: 0.9424\n",
      "Epoch 00004: saving model to training_1/cp.ckpt\n",
      "1000/1000 [==============================] - 0s 179us/step - loss: 0.2028 - acc: 0.9440 - val_loss: 0.4352 - val_acc: 0.8540\n",
      "Epoch 5/10\n",
      " 992/1000 [============================>.] - ETA: 0s - loss: 0.1342 - acc: 0.9778\n",
      "Epoch 00005: saving model to training_1/cp.ckpt\n",
      "1000/1000 [==============================] - 0s 226us/step - loss: 0.1340 - acc: 0.9780 - val_loss: 0.4432 - val_acc: 0.8490\n",
      "Epoch 6/10\n",
      " 576/1000 [================>.............] - ETA: 0s - loss: 0.1078 - acc: 0.9826\n",
      "Epoch 00006: saving model to training_1/cp.ckpt\n",
      "1000/1000 [==============================] - 0s 206us/step - loss: 0.1121 - acc: 0.9790 - val_loss: 0.4102 - val_acc: 0.8630\n",
      "Epoch 7/10\n",
      " 544/1000 [===============>..............] - ETA: 0s - loss: 0.1070 - acc: 0.9743\n",
      "Epoch 00007: saving model to training_1/cp.ckpt\n",
      "1000/1000 [==============================] - 0s 201us/step - loss: 0.0965 - acc: 0.9780 - val_loss: 0.3998 - val_acc: 0.8680\n",
      "Epoch 8/10\n",
      " 800/1000 [=======================>......] - ETA: 0s - loss: 0.0683 - acc: 0.9925\n",
      "Epoch 00008: saving model to training_1/cp.ckpt\n",
      "1000/1000 [==============================] - 0s 275us/step - loss: 0.0641 - acc: 0.9940 - val_loss: 0.4244 - val_acc: 0.8570\n",
      "Epoch 9/10\n",
      " 512/1000 [==============>...............] - ETA: 0s - loss: 0.0482 - acc: 0.9980\n",
      "Epoch 00009: saving model to training_1/cp.ckpt\n",
      "1000/1000 [==============================] - 0s 208us/step - loss: 0.0473 - acc: 0.9960 - val_loss: 0.4122 - val_acc: 0.8660\n",
      "Epoch 10/10\n",
      " 896/1000 [=========================>....] - ETA: 0s - loss: 0.0402 - acc: 0.9978\n",
      "Epoch 00010: saving model to training_1/cp.ckpt\n",
      "1000/1000 [==============================] - 0s 221us/step - loss: 0.0404 - acc: 0.9980 - val_loss: 0.4070 - val_acc: 0.8680\n"
     ]
    },
    {
     "data": {
      "text/plain": [
       "<tensorflow.python.keras.callbacks.History at 0x27581d82e48>"
      ]
     },
     "execution_count": 5,
     "metadata": {},
     "output_type": "execute_result"
    }
   ],
   "source": [
    "#Save checkpoints during training\n",
    "#This way you can use a trained model without having to retrain it, or pick-up training where you left of.\n",
    "checkpoint_path=\"training_1/cp.ckpt\"\n",
    "checkpoint_dir=os.path.dirname(checkpoint_path)\n",
    "\n",
    "#Create checkpoint callback\n",
    "cp_callback=tf.keras.callbacks.ModelCheckpoint(checkpoint_path,save_weights_only=True,verbose=1)\n",
    "\n",
    "model=create_model()\n",
    "model.fit(train_images,train_labels,epochs=10,validation_data=(test_images,test_labels),callbacks=[cp_callback]) #pass callback to training"
   ]
  },
  {
   "cell_type": "code",
   "execution_count": 6,
   "metadata": {},
   "outputs": [],
   "source": [
    "#!ls{checkpoint_dir}\n",
    "#checkpoint cp.ckpt.data~"
   ]
  },
  {
   "cell_type": "code",
   "execution_count": 7,
   "metadata": {},
   "outputs": [
    {
     "name": "stdout",
     "output_type": "stream",
     "text": [
      "1000/1000 [==============================] - 0s 304us/step\n",
      "Untrained model, accuracy: 9.30%\n"
     ]
    }
   ],
   "source": [
    "model=create_model()\n",
    "loss,acc=model.evaluate(test_images,test_labels)\n",
    "print(\"Untrained model, accuracy:{:5.2f}%\".format(100*acc))"
   ]
  },
  {
   "cell_type": "code",
   "execution_count": 8,
   "metadata": {},
   "outputs": [
    {
     "name": "stdout",
     "output_type": "stream",
     "text": [
      "1000/1000 [==============================] - 0s 53us/step\n",
      "Restored model, accuracy:86.80%\n"
     ]
    }
   ],
   "source": [
    "model.load_weights(checkpoint_path)\n",
    "loss,acc=model.evaluate(test_images,test_labels)\n",
    "print(\"Restored model, accuracy:{:5.2f}%\".format(100*acc))"
   ]
  },
  {
   "cell_type": "code",
   "execution_count": 9,
   "metadata": {},
   "outputs": [
    {
     "name": "stdout",
     "output_type": "stream",
     "text": [
      "\n",
      "Epoch 00005: saving model to training_2/cp-0005.ckpt\n",
      "\n",
      "Epoch 00010: saving model to training_2/cp-0010.ckpt\n",
      "\n",
      "Epoch 00015: saving model to training_2/cp-0015.ckpt\n",
      "\n",
      "Epoch 00020: saving model to training_2/cp-0020.ckpt\n",
      "\n",
      "Epoch 00025: saving model to training_2/cp-0025.ckpt\n",
      "\n",
      "Epoch 00030: saving model to training_2/cp-0030.ckpt\n",
      "\n",
      "Epoch 00035: saving model to training_2/cp-0035.ckpt\n",
      "\n",
      "Epoch 00040: saving model to training_2/cp-0040.ckpt\n",
      "\n",
      "Epoch 00045: saving model to training_2/cp-0045.ckpt\n",
      "\n",
      "Epoch 00050: saving model to training_2/cp-0050.ckpt\n"
     ]
    },
    {
     "data": {
      "text/plain": [
       "<tensorflow.python.keras.callbacks.History at 0x2758624e240>"
      ]
     },
     "execution_count": 9,
     "metadata": {},
     "output_type": "execute_result"
    }
   ],
   "source": [
    "#Checkpoint callback options\n",
    "#include the epoch in the file name. (uses 'str.format')\n",
    "checkpoint_path=\"training_2/cp-{epoch:04d}.ckpt\"\n",
    "checkpoint_dir=os.path.dirname(checkpoint_path)\n",
    "\n",
    "cp_callback=tf.keras.callbacks.ModelCheckpoint(\n",
    "    checkpoint_path,verbose=1,save_weights_only=True,\n",
    "    #Save weights, every 5-epochs.\n",
    "    period=5)\n",
    "\n",
    "model=create_model()\n",
    "model.fit(train_images,train_labels,epochs=50,callbacks=[cp_callback],validation_data=(test_images,test_labels),verbose=0)"
   ]
  },
  {
   "cell_type": "code",
   "execution_count": 10,
   "metadata": {},
   "outputs": [],
   "source": [
    "#!ls{checkpoint_dir}\n",
    "#checkpoint cp-0030.ckpt.data~"
   ]
  },
  {
   "cell_type": "code",
   "execution_count": 11,
   "metadata": {},
   "outputs": [
    {
     "data": {
      "text/plain": [
       "'training_2\\\\cp-0050.ckpt'"
      ]
     },
     "execution_count": 11,
     "metadata": {},
     "output_type": "execute_result"
    }
   ],
   "source": [
    "latest=tf.train.latest_checkpoint(checkpoint_dir)\n",
    "latest\n",
    "#the default tensorflow format only saves the 5 most recent checkpoints."
   ]
  },
  {
   "cell_type": "code",
   "execution_count": 12,
   "metadata": {},
   "outputs": [
    {
     "name": "stdout",
     "output_type": "stream",
     "text": [
      "1000/1000 [==============================] - 0s 173us/step\n",
      "Restored model, accuracy:87.10%\n"
     ]
    }
   ],
   "source": [
    "model=create_model()\n",
    "model.load_weights(latest)\n",
    "loss,acc=model.evaluate(test_images,test_labels)\n",
    "print(\"Restored model, accuracy:{:5.2f}%\".format(100*acc))"
   ]
  },
  {
   "cell_type": "code",
   "execution_count": 13,
   "metadata": {},
   "outputs": [],
   "source": [
    "#What are theses files?\n",
    "#The above code stores the weights to a collection of checkpoint-formatted files that contain only the trained weights in a binary format.\n",
    "#Checkpoints contain:*One or more shards that contain your model's weights.* An index file that indicates which weights are stored in a which shard."
   ]
  },
  {
   "cell_type": "code",
   "execution_count": 14,
   "metadata": {},
   "outputs": [
    {
     "name": "stdout",
     "output_type": "stream",
     "text": [
      "1000/1000 [==============================] - 0s 180us/step\n",
      "Restored model, accuracy:87.10%\n"
     ]
    }
   ],
   "source": [
    "#Manually save weights\n",
    "#Save the weights\n",
    "model.save_weights('./checkpoints/my_checkpoint')\n",
    "\n",
    "#Restore the weights\n",
    "model=create_model()\n",
    "model.load_weights('./checkpoints/my_checkpoint')\n",
    "\n",
    "loss,acc=model.evaluate(test_images,test_labels)\n",
    "print(\"Restored model, accuracy:{:5.2f}%\".format(100*acc))"
   ]
  },
  {
   "cell_type": "code",
   "execution_count": 15,
   "metadata": {},
   "outputs": [
    {
     "name": "stdout",
     "output_type": "stream",
     "text": [
      "Epoch 1/5\n",
      "1000/1000 [==============================] - 1s 540us/step - loss: 1.1892 - acc: 0.6660\n",
      "Epoch 2/5\n",
      "1000/1000 [==============================] - 0s 127us/step - loss: 0.4143 - acc: 0.8820\n",
      "Epoch 3/5\n",
      "1000/1000 [==============================] - 0s 121us/step - loss: 0.2842 - acc: 0.9220\n",
      "Epoch 4/5\n",
      "1000/1000 [==============================] - 0s 120us/step - loss: 0.1953 - acc: 0.9530\n",
      "Epoch 5/5\n",
      "1000/1000 [==============================] - 0s 125us/step - loss: 0.1489 - acc: 0.9700\n"
     ]
    }
   ],
   "source": [
    "#Save the entire model\n",
    "#The entire model can be saved to a file that contains the weight values, the model's configuration,\n",
    "#,and even the optimizer's configuration. This allows you to checkpoint a model and resume training later without access to the original code.\n",
    "#Saving a fully-functional model is very useful\n",
    "#As an HDF5 file\n",
    "model=create_model()\n",
    "\n",
    "#You need to use a keras.optimizer to restore the optimizer state from an HDF5 file.\n",
    "model.compile(optimizer=keras.optimizers.Adam(),\n",
    "             loss=tf.keras.losses.sparse_categorical_crossentropy,\n",
    "             metrics=['accuracy'])\n",
    "\n",
    "model.fit(train_images, train_labels, epochs=5)\n",
    "\n",
    "#Save entire model to a HDF5 file\n",
    "model.save('my_model.h5')"
   ]
  },
  {
   "cell_type": "code",
   "execution_count": 16,
   "metadata": {},
   "outputs": [
    {
     "name": "stdout",
     "output_type": "stream",
     "text": [
      "_________________________________________________________________\n",
      "Layer (type)                 Output Shape              Param #   \n",
      "=================================================================\n",
      "dense_14 (Dense)             (None, 512)               401920    \n",
      "_________________________________________________________________\n",
      "dropout_7 (Dropout)          (None, 512)               0         \n",
      "_________________________________________________________________\n",
      "dense_15 (Dense)             (None, 10)                5130      \n",
      "=================================================================\n",
      "Total params: 407,050\n",
      "Trainable params: 407,050\n",
      "Non-trainable params: 0\n",
      "_________________________________________________________________\n"
     ]
    }
   ],
   "source": [
    "#Recreate the exact same model, including weights and optimizer.\n",
    "new_model=keras.models.load_model('my_model.h5')\n",
    "new_model.summary()"
   ]
  },
  {
   "cell_type": "code",
   "execution_count": 17,
   "metadata": {},
   "outputs": [
    {
     "name": "stdout",
     "output_type": "stream",
     "text": [
      "1000/1000 [==============================] - 0s 197us/step\n",
      "Restored model, accuracy:86.30%\n"
     ]
    }
   ],
   "source": [
    "loss,acc=new_model.evaluate(test_images,test_labels)\n",
    "print(\"Restored model, accuracy:{:5.2f}%\".format(100*acc))\n",
    "#This technique saves everything\n",
    "#The weight values\n",
    "#The model's configuration(architecture)\n",
    "#The optimizer configuration"
   ]
  },
  {
   "cell_type": "code",
   "execution_count": 18,
   "metadata": {},
   "outputs": [
    {
     "name": "stdout",
     "output_type": "stream",
     "text": [
      "Epoch 1/5\n",
      "1000/1000 [==============================] - 1s 544us/step - loss: 1.1780 - acc: 0.6540\n",
      "Epoch 2/5\n",
      "1000/1000 [==============================] - 0s 121us/step - loss: 0.4338 - acc: 0.8730\n",
      "Epoch 3/5\n",
      "1000/1000 [==============================] - 0s 113us/step - loss: 0.3026 - acc: 0.9220\n",
      "Epoch 4/5\n",
      "1000/1000 [==============================] - 0s 112us/step - loss: 0.2179 - acc: 0.9430\n",
      "Epoch 5/5\n",
      "1000/1000 [==============================] - 0s 107us/step - loss: 0.1562 - acc: 0.9690\n"
     ]
    },
    {
     "data": {
      "text/plain": [
       "<tensorflow.python.keras.callbacks.History at 0x27584279470>"
      ]
     },
     "execution_count": 18,
     "metadata": {},
     "output_type": "execute_result"
    }
   ],
   "source": [
    "model=create_model()\n",
    "model.fit(train_images,train_labels,epochs=5)"
   ]
  },
  {
   "cell_type": "code",
   "execution_count": 19,
   "metadata": {},
   "outputs": [
    {
     "name": "stdout",
     "output_type": "stream",
     "text": [
      "INFO:tensorflow:Signatures INCLUDED in export for Classify: None\n",
      "INFO:tensorflow:Signatures INCLUDED in export for Regress: None\n",
      "INFO:tensorflow:Signatures INCLUDED in export for Predict: None\n",
      "INFO:tensorflow:Signatures INCLUDED in export for Train: ['train']\n",
      "INFO:tensorflow:Signatures INCLUDED in export for Eval: None\n",
      "WARNING:tensorflow:Export includes no default signature!\n",
      "INFO:tensorflow:No assets to save.\n",
      "INFO:tensorflow:No assets to write.\n",
      "INFO:tensorflow:Signatures INCLUDED in export for Classify: None\n",
      "INFO:tensorflow:Signatures INCLUDED in export for Regress: None\n",
      "INFO:tensorflow:Signatures INCLUDED in export for Predict: None\n",
      "INFO:tensorflow:Signatures INCLUDED in export for Train: None\n",
      "INFO:tensorflow:Signatures INCLUDED in export for Eval: ['eval']\n",
      "WARNING:tensorflow:Export includes no default signature!\n",
      "INFO:tensorflow:No assets to save.\n",
      "INFO:tensorflow:No assets to write.\n",
      "INFO:tensorflow:Signatures INCLUDED in export for Classify: None\n",
      "INFO:tensorflow:Signatures INCLUDED in export for Regress: None\n",
      "INFO:tensorflow:Signatures INCLUDED in export for Predict: ['serving_default']\n",
      "INFO:tensorflow:Signatures INCLUDED in export for Train: None\n",
      "INFO:tensorflow:Signatures INCLUDED in export for Eval: None\n",
      "INFO:tensorflow:No assets to save.\n",
      "INFO:tensorflow:No assets to write.\n",
      "INFO:tensorflow:SavedModel written to: ./saved_model\\temp-b'1544152633'\\saved_model.pb\n"
     ]
    }
   ],
   "source": [
    "saved_model_path=tf.contrib.saved_model.save_keras_model(model,\"./saved_model\")"
   ]
  },
  {
   "cell_type": "code",
   "execution_count": 20,
   "metadata": {},
   "outputs": [],
   "source": [
    "#!ls savead_models/\n",
    "#1542650893~"
   ]
  },
  {
   "cell_type": "code",
   "execution_count": 21,
   "metadata": {},
   "outputs": [],
   "source": [
    "new_model=tf.contrib.saved_model.load_keras_model(saved_model_path)"
   ]
  },
  {
   "cell_type": "code",
   "execution_count": 22,
   "metadata": {},
   "outputs": [
    {
     "name": "stdout",
     "output_type": "stream",
     "text": [
      "1000/1000 [==============================] - 0s 253us/step\n",
      "Restored model, accuracy:85.00%\n"
     ]
    }
   ],
   "source": [
    "#The optimizer was not restored, re-attach a new one.\n",
    "new_model.compile(optimizer=tf.train.AdamOptimizer(),\n",
    "                 loss=tf.keras.losses.sparse_categorical_crossentropy,\n",
    "                 metrics=['accuracy'])\n",
    "\n",
    "loass,acc=new_model.evaluate(test_images,test_labels)\n",
    "print(\"Restored model, accuracy:{:5.2f}%\".format(100*acc))"
   ]
  }
 ],
 "metadata": {
  "kernelspec": {
   "display_name": "Python 3",
   "language": "python",
   "name": "python3"
  },
  "language_info": {
   "codemirror_mode": {
    "name": "ipython",
    "version": 3
   },
   "file_extension": ".py",
   "mimetype": "text/x-python",
   "name": "python",
   "nbconvert_exporter": "python",
   "pygments_lexer": "ipython3",
   "version": "3.6.6"
  }
 },
 "nbformat": 4,
 "nbformat_minor": 2
}
