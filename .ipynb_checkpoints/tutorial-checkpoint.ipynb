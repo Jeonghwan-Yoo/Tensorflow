{
 "cells": [
  {
   "cell_type": "code",
   "execution_count": 1,
   "metadata": {},
   "outputs": [],
   "source": [
    "import tensorflow as tf"
   ]
  },
  {
   "cell_type": "code",
   "execution_count": 4,
   "metadata": {},
   "outputs": [
    {
     "name": "stdout",
     "output_type": "stream",
     "text": [
      "Tensor(\"Const_1:0\", shape=(), dtype=string)\n"
     ]
    }
   ],
   "source": [
    "#텐서에 상수의 값을 hello 변수에 넣음\n",
    "hello=tf.constant(\"Hello World\")\n",
    "#hello를 출력하면 hello world의 텐서의 형태와 타입이 나옴\n",
    "print(hello)"
   ]
  },
  {
   "cell_type": "code",
   "execution_count": 20,
   "metadata": {},
   "outputs": [
    {
     "data": {
      "text/plain": [
       "b'Hello World'"
      ]
     },
     "execution_count": 20,
     "metadata": {},
     "output_type": "execute_result"
    }
   ],
   "source": [
    "#텐서플로우는 그래프로 이루어져 있기때문에, 그래프를 실행시키기 위해서는 Session 객체 이용\n",
    "sess=tf.Session()\n",
    "#텐서를 실행\n",
    "sess.run(hello)"
   ]
  },
  {
   "cell_type": "code",
   "execution_count": 99,
   "metadata": {},
   "outputs": [
    {
     "name": "stdout",
     "output_type": "stream",
     "text": [
      "Tensor(\"Mul_2:0\", shape=(), dtype=int32)\n"
     ]
    }
   ],
   "source": [
    "a=tf.constant(50)\n",
    "b=tf.constant(90)\n",
    "#multiply는 곱셈을 해주는 메소드\n",
    "c=tf.multiply(a,b)\n",
    "print(c)"
   ]
  },
  {
   "cell_type": "code",
   "execution_count": 100,
   "metadata": {},
   "outputs": [
    {
     "name": "stdout",
     "output_type": "stream",
     "text": [
      "50 * 90 = 4500\n"
     ]
    }
   ],
   "source": [
    "sess=tf.Session()\n",
    "print(sess.run(a),\"*\",sess.run(b),\"=\",sess.run(c))"
   ]
  },
  {
   "cell_type": "code",
   "execution_count": 101,
   "metadata": {},
   "outputs": [
    {
     "name": "stdout",
     "output_type": "stream",
     "text": [
      "Tensor(\"Placeholder_8:0\", shape=(?, 3), dtype=float32)\n"
     ]
    }
   ],
   "source": [
    "#플레이스 홀더 생성(None는 크기가 정해지지 않음)\n",
    "#placeholder(dtype,shape,name) shape을 배열처럼 할 수 있다.\n",
    "X=tf.placeholder(tf.float32,[None,3])\n",
    "print(X)"
   ]
  },
  {
   "cell_type": "code",
   "execution_count": 102,
   "metadata": {},
   "outputs": [],
   "source": [
    "#2차원 리스트 생성(placeholer에서 두 번째 차원 요소를 3으로 설정해서 요소를 3개씩)\n",
    "x_data=[[4,5,6],[7,8,9]]"
   ]
  },
  {
   "cell_type": "code",
   "execution_count": 103,
   "metadata": {},
   "outputs": [],
   "source": [
    "#W와 b의 TenserFlow 행렬 형태의 변수 생성(random_normal은 무작위로 값 추출)\n",
    "W=tf.Variable(tf.random_normal([3,2]))\n",
    "b=tf.Variable(tf.random_normal([2,1]))"
   ]
  },
  {
   "cell_type": "code",
   "execution_count": 104,
   "metadata": {},
   "outputs": [],
   "source": [
    "#행렬의 곱셈은 matmul 이용(저 행렬을 곱함)\n",
    "expr=tf.matmul(X,W)+b"
   ]
  },
  {
   "cell_type": "code",
   "execution_count": 105,
   "metadata": {},
   "outputs": [
    {
     "name": "stdout",
     "output_type": "stream",
     "text": [
      "x_data\n",
      "[[4, 5, 6], [7, 8, 9]]\n",
      "===W===\n",
      "[[-1.01752734  2.1288991 ]\n",
      " [-0.88316315  0.63127142]\n",
      " [-0.65095514  1.12491488]]\n",
      "===b===\n",
      "[[ 0.89086276]\n",
      " [ 1.95105195]]\n",
      "===expr===\n",
      "[[-11.50079441  19.31230545]\n",
      " [-18.095541    32.02775192]]\n"
     ]
    }
   ],
   "source": [
    "sess=tf.Session()\n",
    "#변수 초기화\n",
    "sess.run(tf.global_variables_initializer())\n",
    "\n",
    "print(\"x_data\")\n",
    "print(x_data)\n",
    "print(\"===W===\")\n",
    "print(sess.run(W))\n",
    "print(\"===b===\")\n",
    "print(sess.run(b))\n",
    "print(\"===expr===\")\n",
    "#feed_dict는 그래프를 실행할 때 사용할 입력 값을 지정\n",
    "print(sess.run(expr,feed_dict={X:x_data}))"
   ]
  },
  {
   "cell_type": "code",
   "execution_count": 106,
   "metadata": {},
   "outputs": [],
   "source": [
    "#상관 관계 데이터를 리스트로 만듬\n",
    "x_data=[4,5,7]\n",
    "y_data=[4,5,7]"
   ]
  },
  {
   "cell_type": "code",
   "execution_count": 107,
   "metadata": {},
   "outputs": [],
   "source": [
    "#UNIFORM은 균등분포 함수 -1.0부터 1.0까지의 값을 무작위로 초기화\n",
    "W=tf.Variable(tf.random_uniform([1],-1.0,1.0))\n",
    "b=tf.Variable(tf.random_uniform([1],-1.0,1.0))"
   ]
  },
  {
   "cell_type": "code",
   "execution_count": 108,
   "metadata": {},
   "outputs": [],
   "source": [
    "X=tf.placeholder(tf.float32,name=\"X\")\n",
    "Y=tf.placeholder(tf.float32,name=\"Y\")"
   ]
  },
  {
   "cell_type": "code",
   "execution_count": 109,
   "metadata": {},
   "outputs": [],
   "source": [
    "#선형 관계를 분석하기 위한 수식 W는 가중치, b는 편향\n",
    "hypothesis=W*X+b"
   ]
  },
  {
   "cell_type": "code",
   "execution_count": 110,
   "metadata": {},
   "outputs": [],
   "source": [
    "#x와 y의 데이터의 손실값을 계산 (예측값-실제값)^2\n",
    "cost=tf.reduce_mean(tf.square(hypothesis-Y))"
   ]
  },
  {
   "cell_type": "code",
   "execution_count": 111,
   "metadata": {},
   "outputs": [],
   "source": [
    "#경사하강법 최적화 함수를 이용하여 손실값을 최소화하는 연산 그래프를 생성\n",
    "#learning_rate는 학습률(크면 손실값을 찾지 못함, 작으면 속도가 매우느림)\n",
    "optimizer=tf.train.GradientDescentOptimizer(learning_rate=0.1)\n",
    "train_op=optimizer.minimize(cost)"
   ]
  },
  {
   "cell_type": "code",
   "execution_count": 112,
   "metadata": {},
   "outputs": [
    {
     "name": "stdout",
     "output_type": "stream",
     "text": [
      "0 5.76281 [ 3.03679681] [ 1.28881133]\n",
      "1 154.118 [-10.55871773] [-1.14153421]\n",
      "2 4150.16 [ 60.01122284] [ 11.41607189]\n",
      "3 111786.0 [-306.23324585] [-53.81245041]\n",
      "4 3.01102e+06 [ 1594.56640625] [ 284.66555786]\n",
      "5 8.11034e+07 [-8270.47558594] [-1472.07202148]\n",
      "6 2.18457e+09 [ 42928.5859375] [ 7645.25]\n",
      "7 5.88425e+10 [-222791.875] [-39673.2265625]\n",
      "8 1.58496e+12 [ 1156283.5] [ 205907.1875]\n",
      "9 4.26917e+13 [-6001046.] [-1068642.25]\n",
      "10 1.14992e+15 [ 31145126.] [ 5546203.]\n",
      "11 3.09739e+16 [ -1.61641600e+08] [-28784508.]\n",
      "12 8.34298e+17 [  8.38911488e+08] [  1.49390112e+08]\n",
      "13 2.24723e+19 [ -4.35390720e+09] [ -7.75326848e+08]\n",
      "14 6.05304e+20 [  2.25965527e+10] [  4.02390682e+09]\n",
      "15 1.63042e+22 [ -1.17274952e+11] [ -2.08838676e+10]\n",
      "16 4.39163e+23 [  6.08650985e+11] [  1.08386214e+11]\n",
      "17 1.18291e+25 [ -3.15886718e+12] [ -5.62518884e+11]\n",
      "18 3.18624e+26 [  1.63943578e+13] [  2.91944346e+12]\n",
      "19 8.5823e+27 [ -8.50858690e+13] [ -1.51517617e+13]\n",
      "20 2.31169e+29 [  4.41591290e+14] [  7.86368582e+13]\n",
      "21 6.22667e+30 [ -2.29183589e+15] [ -4.08121248e+14]\n",
      "22 1.67719e+32 [  1.18945103e+16] [  2.11812835e+15]\n",
      "23 4.5176e+33 [ -6.17319000e+16] [ -1.09929752e+16]\n",
      "24 1.21684e+35 [  3.20385388e+17] [  5.70529798e+16]\n",
      "25 3.27763e+36 [ -1.66278346e+18] [ -2.96102055e+17]\n",
      "26 8.82849e+37 [  8.62976000e+18] [  1.53675414e+18]\n",
      "27 inf [ -4.47880080e+19] [ -7.97567373e+18]\n",
      "28 inf [  2.32447454e+20] [  4.13933406e+19]\n",
      "29 inf [ -1.20639021e+21] [ -2.14829284e+20]\n",
      "30 inf [  6.26110236e+21] [  1.11495292e+21]\n",
      "31 inf [ -3.24947954e+22] [ -5.78654737e+21]\n",
      "32 inf [  1.68646331e+23] [  3.00318781e+22]\n",
      "33 inf [ -8.75265797e+23] [ -1.55863927e+23]\n",
      "34 inf [  4.54258394e+24] [  8.08925756e+23]\n",
      "35 inf [ -2.35757736e+25] [ -4.19828267e+24]\n",
      "36 inf [  1.22357032e+26] [  2.17888675e+25]\n",
      "37 inf [ -6.35026656e+26] [ -1.13083070e+26]\n",
      "38 inf [  3.29575521e+27] [  5.86895301e+26]\n",
      "39 inf [ -1.71047998e+28] [ -3.04595590e+27]\n",
      "40 inf [  8.87730285e+28] [  1.58083567e+28]\n",
      "41 inf [ -4.60727372e+29] [ -8.20445441e+28]\n",
      "42 inf [  2.39115130e+30] [  4.25806945e+29]\n",
      "43 inf [ -1.24099499e+31] [ -2.20991579e+30]\n",
      "44 inf [  6.44070028e+31] [  1.14693476e+31]\n",
      "45 inf [ -3.34268995e+32] [ -5.95253313e+31]\n",
      "46 inf [  1.73483865e+33] [  3.08933314e+32]\n",
      "47 inf [ -9.00372298e+33] [ -1.60334791e+33]\n",
      "48 inf [  4.67288594e+34] [  8.32129368e+33]\n",
      "49 inf [ -2.42520377e+35] [ -4.31870832e+34]\n",
      "\n",
      "===Test===\n",
      "X : 7, Y :  [ -1.74082971e+36]\n",
      "X : 4.5, Y :  [ -1.13452883e+36]\n"
     ]
    }
   ],
   "source": [
    "with tf.Session() as sess:\n",
    "    #세션 초기화\n",
    "    sess.run(tf.global_variables_initializer())\n",
    "    \n",
    "    for step in range(50):\n",
    "        # sess.run 을 통해 train_op 와 cost 그래프를 계산.\n",
    "        # 이 때, 가설 수식에 넣어야 할 실제값을 feed_dict를 통해 전달.\n",
    "        #_=train_op cost_val=cost\n",
    "        _,cost_val=sess.run([train_op,cost],feed_dict={X:x_data,Y:y_data})\n",
    "        print(step,cost_val,sess.run(W),sess.run(b))\n",
    "        \n",
    "    print(\"\\n===Test===\")\n",
    "    print(\"X : 7, Y : \",sess.run(hypothesis,feed_dict={X:7}))\n",
    "    print(\"X : 4.5, Y : \",sess.run(hypothesis,feed_dict={X:4.5}))\n",
    "        "
   ]
  },
  {
   "cell_type": "code",
   "execution_count": 113,
   "metadata": {},
   "outputs": [],
   "source": [
    "import tensorflow as tf\n",
    "import numpy as np"
   ]
  },
  {
   "cell_type": "code",
   "execution_count": 114,
   "metadata": {},
   "outputs": [],
   "source": [
    "#[털,날개]\n",
    "x_data=np.array([[1,1],[1,0],[1,1],[0,1],[1,0],[1,1]])"
   ]
  },
  {
   "cell_type": "code",
   "execution_count": 115,
   "metadata": {},
   "outputs": [],
   "source": [
    "#[1,0,0]=기타, [0,1,0]=포유류, [0,0,1]=조류\n",
    "y_data=np.array([[1,1,0],[0,1,1],[0,0,1],[1,0,0],[1,0,0],[0,0,1]])"
   ]
  },
  {
   "cell_type": "code",
   "execution_count": 116,
   "metadata": {},
   "outputs": [],
   "source": [
    "X=tf.placeholder(tf.float32)\n",
    "Y=tf.placeholder(tf.float32)"
   ]
  },
  {
   "cell_type": "code",
   "execution_count": 117,
   "metadata": {},
   "outputs": [],
   "source": [
    "#[[-1~1,-1~1],[-1~1,-1~1],[-1~1,-1~1]]\n",
    "W=tf.Variable(tf.random_uniform([2,3],-1.,1.))\n",
    "#zeros => [0],[0],[0]\n",
    "b=tf.Variable(tf.zeros([3]))"
   ]
  },
  {
   "cell_type": "code",
   "execution_count": 118,
   "metadata": {},
   "outputs": [],
   "source": [
    "L=tf.add(tf.matmul(X,W),b)\n",
    "L=tf.nn.relu(L)"
   ]
  },
  {
   "cell_type": "code",
   "execution_count": 119,
   "metadata": {},
   "outputs": [],
   "source": [
    "model=tf.nn.softmax(L)"
   ]
  },
  {
   "cell_type": "code",
   "execution_count": 120,
   "metadata": {},
   "outputs": [],
   "source": [
    "#차원이 줄어들고 평균이나 합을 출력한다. axis=1, 2번째 차원을 줄인다.\n",
    "cost=tf.reduce_mean(-tf.reduce_sum(Y*tf.log(model),axis=1))"
   ]
  },
  {
   "cell_type": "code",
   "execution_count": 121,
   "metadata": {},
   "outputs": [],
   "source": [
    "optimizer=tf.train.GradientDescentOptimizer(learning_rate=0.01)\n",
    "train_op=optimizer.minimize(cost)"
   ]
  },
  {
   "cell_type": "code",
   "execution_count": 122,
   "metadata": {},
   "outputs": [],
   "source": [
    "init=tf.global_variables_initializer()\n",
    "sess=tf.Session()\n",
    "sess.run(init)"
   ]
  },
  {
   "cell_type": "code",
   "execution_count": 123,
   "metadata": {},
   "outputs": [
    {
     "name": "stdout",
     "output_type": "stream",
     "text": [
      "10 1.52134\n",
      "20 1.51005\n",
      "30 1.50022\n",
      "40 1.49166\n",
      "50 1.48421\n",
      "60 1.47772\n",
      "70 1.47207\n",
      "80 1.46716\n",
      "90 1.46287\n",
      "100 1.45913\n"
     ]
    }
   ],
   "source": [
    "for step in range(100):\n",
    "    sess.run(train_op,feed_dict={X:x_data,Y:y_data})\n",
    "    if(step+1)%10==0:\n",
    "        print(step+1,sess.run(cost,feed_dict={X:x_data,Y:y_data}))"
   ]
  },
  {
   "cell_type": "code",
   "execution_count": 124,
   "metadata": {},
   "outputs": [
    {
     "name": "stdout",
     "output_type": "stream",
     "text": [
      "예측값 :  [2 2 2 2 2 2]\n",
      "실제값 :  [0 1 2 0 0 2]\n"
     ]
    }
   ],
   "source": [
    "prediction=tf.argmax(model,axis=1)\n",
    "target=tf.argmax(Y,axis=1)\n",
    "print(\"예측값 : \",sess.run(prediction,feed_dict={X:x_data}))\n",
    "print(\"실제값 : \",sess.run(target,feed_dict={Y:y_data}))"
   ]
  },
  {
   "cell_type": "code",
   "execution_count": 125,
   "metadata": {},
   "outputs": [
    {
     "name": "stdout",
     "output_type": "stream",
     "text": [
      "정확도 : 33.33\n"
     ]
    }
   ],
   "source": [
    "is_correct=tf.equal(prediction,target)\n",
    "#tf.cast, 소수점 버린다\n",
    "accuracy=tf.reduce_mean(tf.cast(is_correct,tf.float32))\n",
    "print(\"정확도 : %.2f\" % sess.run(accuracy*100, feed_dict={X:x_data,Y:y_data}))"
   ]
  },
  {
   "cell_type": "code",
   "execution_count": 126,
   "metadata": {},
   "outputs": [],
   "source": [
    "#[털,날개]\n",
    "x_data=np.array([[0,0],[1,0],[1,1],[0,0],[0,0],[0,1]])\n",
    "#[1,0,0]=기타, [0,1,0]=포유류, [0,0,1]=조류\n",
    "y_data=np.array([[1,0,0],[0,1,0],[0,0,1],[1,0,0],[1,0,0],[0,0,1]])"
   ]
  },
  {
   "cell_type": "code",
   "execution_count": 127,
   "metadata": {},
   "outputs": [],
   "source": [
    "X=tf.placeholder(tf.float32)\n",
    "Y=tf.placeholder(tf.float32)"
   ]
  },
  {
   "cell_type": "code",
   "execution_count": 128,
   "metadata": {},
   "outputs": [],
   "source": [
    "W1=tf.Variable(tf.random_uniform([2,10],-1.,1.))\n",
    "W2=tf.Variable(tf.random_uniform([10,3],-1.,1.))"
   ]
  },
  {
   "cell_type": "code",
   "execution_count": 129,
   "metadata": {},
   "outputs": [],
   "source": [
    "b1=tf.Variable(tf.zeros([10]))\n",
    "b2=tf.Variable(tf.zeros([3]))"
   ]
  },
  {
   "cell_type": "code",
   "execution_count": 130,
   "metadata": {},
   "outputs": [],
   "source": [
    "L1=tf.add(tf.matmul(X,W1),b1)\n",
    "L1=tf.nn.relu(L1)"
   ]
  },
  {
   "cell_type": "code",
   "execution_count": 157,
   "metadata": {},
   "outputs": [],
   "source": [
    "#은닉층에서 나온결과를 다시 가중치와 곱해주고 편향을 더해줘서 계산\n",
    "model=tf.add(tf.matmul(L1,W2),b2)"
   ]
  },
  {
   "cell_type": "code",
   "execution_count": 164,
   "metadata": {},
   "outputs": [],
   "source": [
    "#교차엔트로피 계산 함수\n",
    "cost=tf.reduce_mean(tf.nn.softmax_cross_entropy_with_logits(labels=Y, logits=model))"
   ]
  },
  {
   "cell_type": "code",
   "execution_count": 165,
   "metadata": {},
   "outputs": [],
   "source": [
    "#기울기가 가장 낮을 곳을 찾는다\n",
    "optimizer=tf.train.GradientDescentOptimizer(learning_rate=0.01)\n",
    "train_op=optimizer.minimize(cost)"
   ]
  },
  {
   "cell_type": "code",
   "execution_count": 166,
   "metadata": {},
   "outputs": [],
   "source": [
    "#변수를 쓰려면 반드시 초기화\n",
    "init=tf.global_variables_initializer()\n",
    "sess=tf.Session()\n",
    "sess.run(init)"
   ]
  },
  {
   "cell_type": "code",
   "execution_count": 167,
   "metadata": {},
   "outputs": [
    {
     "name": "stdout",
     "output_type": "stream",
     "text": [
      "10 1.4527\n",
      "20 1.32878\n",
      "30 1.22488\n",
      "40 1.14825\n",
      "50 1.09369\n",
      "60 1.04514\n",
      "70 1.00317\n",
      "80 0.966554\n",
      "90 0.933116\n",
      "100 0.90225\n"
     ]
    }
   ],
   "source": [
    "for step in range(100):\n",
    "    sess.run(train_op,feed_dict={X:x_data,Y:y_data})\n",
    "    if(step+1)%10==0:\n",
    "        print(step+1,sess.run(cost,feed_dict={X:x_data,Y:y_data}))"
   ]
  },
  {
   "cell_type": "code",
   "execution_count": 168,
   "metadata": {},
   "outputs": [
    {
     "name": "stdout",
     "output_type": "stream",
     "text": [
      "예측값 :  [0 0 2 0 0 2]\n",
      "실제값 :  [0 1 2 0 0 2]\n"
     ]
    }
   ],
   "source": [
    "#argmax,가장큰 값의 인덱스 리턴\n",
    "prediction=tf.argmax(model,axis=1)\n",
    "target=tf.argmax(Y,axis=1)\n",
    "print(\"예측값 : \",sess.run(prediction,feed_dict={X:x_data}))\n",
    "print(\"실제값 : \",sess.run(target,feed_dict={Y:y_data}))"
   ]
  },
  {
   "cell_type": "code",
   "execution_count": 169,
   "metadata": {},
   "outputs": [
    {
     "name": "stdout",
     "output_type": "stream",
     "text": [
      "정확도 : 83.33\n"
     ]
    }
   ],
   "source": [
    "is_correct=tf.equal(prediction,target)\n",
    "accuracy=tf.reduce_mean(tf.cast(is_correct,tf.float32))\n",
    "print(\"정확도 : %.2f\"%sess.run(accuracy*100,feed_dict={X:x_data,Y:y_data}))"
   ]
  },
  {
   "cell_type": "code",
   "execution_count": 185,
   "metadata": {},
   "outputs": [],
   "source": [
    "#데이터프레임 만들기\n",
    "import pandas as pd\n",
    "raw_data={'fur':[0,1,1,0,0,0],\n",
    "         'wing':[0,0,1,0,0,1],\n",
    "         'etc':[1,0,0,1,1,0],\n",
    "         'mammal':[0,1,0,0,0,0],\n",
    "         'avian':[0,0,1,0,0,1]} #dict 자료형 만들기\n",
    "data=pd.DataFrame(raw_data) #데이터프레임"
   ]
  },
  {
   "cell_type": "code",
   "execution_count": 186,
   "metadata": {},
   "outputs": [],
   "source": [
    "#csv파일로 내보내기 r은 윈도우상의 경로\n",
    "data.to_csv(path_or_buf=r\"C:\\Users\\MSI\\Desktop\\Uni\\tensorflow\\data.csv\",encoding='utf-8')"
   ]
  },
  {
   "cell_type": "code",
   "execution_count": 388,
   "metadata": {},
   "outputs": [],
   "source": [
    "import tensorflow as tf\n",
    "import numpy as np\n"
   ]
  },
  {
   "cell_type": "code",
   "execution_count": 389,
   "metadata": {},
   "outputs": [],
   "source": [
    "#데이터 로딩\n",
    "#unpack은 행과열을 바꿔주는 역할\n",
    "data=np.loadtxt(r\"C:\\Users\\MSI\\Desktop\\Uni\\tensorflow\\data.csv\",delimiter=',',unpack=True,dtype='float32')\n",
    "\n",
    "x_data=np.transpose(data[0:2])\n",
    "y_data=np.transpose(data[2:])"
   ]
  },
  {
   "cell_type": "code",
   "execution_count": 390,
   "metadata": {},
   "outputs": [],
   "source": [
    "#학습 횟수 변수\n",
    "global_step=tf.Variable(0,trainable=False,name='global_step')\n",
    "\n",
    "X=tf.placeholder(tf.float32)\n",
    "Y=tf.placeholder(tf.float32)"
   ]
  },
  {
   "cell_type": "code",
   "execution_count": 391,
   "metadata": {},
   "outputs": [],
   "source": [
    "#모델 정의\n",
    "#첫번째 두번째열은 입력데이터 나머지는 출력데이터여서 [0:2],[2:]로 나눠줌\n",
    "#뉴런의 수가 각각 10,20개인 두개의 은닉층을 사용한다\n",
    "W1=tf.Variable(tf.random_uniform([2,10],-1.,1.))\n",
    "L1=tf.nn.relu(tf.matmul(X,W1))\n",
    "\n",
    "W2=tf.Variable(tf.random_uniform([10,20],-1.,1.))\n",
    "L2=tf.nn.relu(tf.matmul(L1,W2))\n",
    "\n",
    "W3=tf.Variable(tf.random_uniform([20,3],-1.,1.))\n",
    "model=tf.matmul(L2,W3)"
   ]
  },
  {
   "cell_type": "code",
   "execution_count": 392,
   "metadata": {},
   "outputs": [],
   "source": [
    "cost=tf.reduce_mean(tf.nn.softmax_cross_entropy_with_logits(labels=Y,logits=model))\n",
    "optimizer=tf.train.AdamOptimizer(learning_rate=0.01)"
   ]
  },
  {
   "cell_type": "code",
   "execution_count": 393,
   "metadata": {},
   "outputs": [],
   "source": [
    "#학습용 변수들을 최적화 할 때마다 학습 횟수를 하나씩 증가\n",
    "train_op=optimizer.minimize(cost,global_step=global_step)"
   ]
  },
  {
   "cell_type": "code",
   "execution_count": 394,
   "metadata": {},
   "outputs": [],
   "source": [
    "sess=tf.Session()"
   ]
  },
  {
   "cell_type": "code",
   "execution_count": 395,
   "metadata": {},
   "outputs": [],
   "source": [
    "#모델저장\n",
    "saver=tf.train.Saver(tf.global_variables())\n",
    "ckpt=tf.train.get_checkpoint_state(r\"C:\\Users\\MSI\\Desktop\\Uni\\tensorflow\\model\")\n",
    "if ckpt and tf.train.checkpoint_exists(ckpt.model_checkpoint_path):\n",
    "    saver.restore(sess,ckpt.model_checkpoint_path)\n",
    "else:\n",
    "    sess.run(tf.global_variables_initializer())"
   ]
  },
  {
   "cell_type": "code",
   "execution_count": 404,
   "metadata": {},
   "outputs": [
    {
     "name": "stdout",
     "output_type": "stream",
     "text": [
      "Step:5,  Cost:0.924\n",
      "Step:6,  Cost:0.860\n"
     ]
    }
   ],
   "source": [
    "#최적화\n",
    "for step in range(2):\n",
    "    sess.run(train_op,feed_dict={X:x_data,Y:y_data})\n",
    "    \n",
    "    print('Step:%d, '%sess.run(global_step),'Cost:%.3f'%sess.run(cost,feed_dict={X:x_data,Y:y_data}))"
   ]
  },
  {
   "cell_type": "code",
   "execution_count": 405,
   "metadata": {},
   "outputs": [
    {
     "data": {
      "text/plain": [
       "'C:\\\\Users\\\\MSI\\\\Desktop\\\\Uni\\\\tensorflow\\\\model\\\\dnn.ckpt-6'"
      ]
     },
     "execution_count": 405,
     "metadata": {},
     "output_type": "execute_result"
    }
   ],
   "source": [
    "#최적화 후 변수를 저장\n",
    "saver.save(sess,r\"C:\\Users\\MSI\\Desktop\\Uni\\tensorflow\\model\\dnn.ckpt\",global_step=global_step)"
   ]
  },
  {
   "cell_type": "code",
   "execution_count": 406,
   "metadata": {},
   "outputs": [
    {
     "name": "stdout",
     "output_type": "stream",
     "text": [
      "예측값: [0 1 2 0 0 2]\n",
      "실제값: [0 1 2 0 0 2]\n"
     ]
    }
   ],
   "source": [
    "#결과\n",
    "prediction=tf.argmax(model,1)\n",
    "target=tf.argmax(Y,1)\n",
    "print('예측값:',sess.run(prediction,feed_dict={X:x_data}))\n",
    "print('실제값:',sess.run(target,feed_dict={Y:y_data}))"
   ]
  },
  {
   "cell_type": "code",
   "execution_count": 407,
   "metadata": {},
   "outputs": [
    {
     "name": "stdout",
     "output_type": "stream",
     "text": [
      "정확도:100.00\n"
     ]
    }
   ],
   "source": [
    "is_correct=tf.equal(prediction,target)\n",
    "accuracy=tf.reduce_mean(tf.cast(is_correct,tf.float32))\n",
    "print('정확도:%.2f'%sess.run(accuracy*100,feed_dict={X:x_data,Y:y_data}))"
   ]
  },
  {
   "cell_type": "code",
   "execution_count": null,
   "metadata": {},
   "outputs": [],
   "source": []
  },
  {
   "cell_type": "code",
   "execution_count": null,
   "metadata": {},
   "outputs": [],
   "source": []
  }
 ],
 "metadata": {
  "kernelspec": {
   "display_name": "Python 3",
   "language": "python",
   "name": "python3"
  },
  "language_info": {
   "codemirror_mode": {
    "name": "ipython",
    "version": 3
   },
   "file_extension": ".py",
   "mimetype": "text/x-python",
   "name": "python",
   "nbconvert_exporter": "python",
   "pygments_lexer": "ipython3",
   "version": "3.6.4"
  }
 },
 "nbformat": 4,
 "nbformat_minor": 2
}
